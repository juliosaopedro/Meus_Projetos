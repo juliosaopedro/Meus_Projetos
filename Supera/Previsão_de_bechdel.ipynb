{
  "nbformat": 4,
  "nbformat_minor": 0,
  "metadata": {
    "colab": {
      "name": "Previsão de bechdel",
      "provenance": [],
      "toc_visible": true
    },
    "kernelspec": {
      "name": "python3",
      "display_name": "Python 3"
    },
    "language_info": {
      "name": "python"
    }
  },
  "cells": [
    {
      "cell_type": "markdown",
      "metadata": {
        "id": "QwJnMIeUslqj"
      },
      "source": [
        "## Objetivo\n",
        "Prever o resultado de um filme a partir do teste de Bechdel.\n",
        "<p align=center>\n",
        "  <img src=\"https://github.com/juliosaopedro/Meus_Projetos/blob/master/imagens/Alison_Bechdel.png?raw=true\" height=\"300px\">\n",
        "\n",
        "</p>"
      ]
    },
    {
      "cell_type": "markdown",
      "metadata": {
        "id": "5hnFR3jStg3y"
      },
      "source": [
        "### O que é O TESTE DE BECHDEL ?\n",
        "\n",
        "\n",
        "\n",
        "O teste de Bechdel, também conhecido como teste de Bechdel-Wallace, é uma medida da representação das mulheres na ficção. Ele pergunta se uma obra apresenta pelo menos duas mulheres que conversam sobre algo que não seja um homem. A exigência de que as duas mulheres sejam nomeadas às vezes é acrescentada. [3]\n",
        "\n",
        "De acordo com bancos de dados editados por usuários e a imprensa da indústria de mídia, cerca de metade de todos os filmes atendem a esses critérios. A aprovação ou reprovação no teste não é necessariamente indicativo de quão bem as mulheres são representadas em qualquer trabalho específico. Em vez disso, o teste é usado como um indicador da presença ativa de mulheres em todo o campo do cinema e outras ficções, e para chamar a atenção para a desigualdade de gênero na ficção. Estudos da indústria de mídia indicam que os filmes que passam no teste têm melhor desempenho financeiro do que aqueles que não passam.\n",
        "\n",
        "O teste leva o nome da cartunista americana Alison Bechdel, em cuja história em quadrinhos de 1985 Dykes to Watch Out For the test apareceu pela primeira vez. Bechdel creditou a ideia à amiga Liz Wallace e aos escritos de Virginia Woolf. Depois que o teste se tornou mais amplamente discutido na década de 2000, surgiram várias variantes e testes inspirados nele."
      ]
    },
    {
      "cell_type": "markdown",
      "metadata": {
        "id": "MEp3uT6prKjy"
      },
      "source": [
        "## Nossos dados\n",
        "\n",
        "- year : ano do filme\n",
        "- imdb : código IMDB do filme\n",
        "- binary : Falha ou não no teste Bechdel (0-Falso 1-Verdadeiro)\n",
        "- budget : Orçamento do filme\n",
        "- domgross : Faturamento bruto doméstico\n",
        "- intgross : Faturamento bruto mundial \n",
        "- budget_2013 : Orçamento em 2013 com inflação ajustada\n",
        "- domgross_2013 : Faturamento doméstico em 2013 com a inflação ajustada\n",
        "- intgross_2013 ; Faturamento internacional em 2013 com a inflação ajustada\n",
        "- code : Ano do filme concatenado com o resultado do teste de Bechdel"
      ]
    },
    {
      "cell_type": "code",
      "metadata": {
        "id": "luY1Rk0r-Wm4"
      },
      "source": [
        "# Importando a biblioteca pandas\n",
        "import pandas as pd\n",
        "import plotly.graph_objs as go\n",
        "import plotly.offline as py"
      ],
      "execution_count": 1,
      "outputs": []
    },
    {
      "cell_type": "code",
      "metadata": {
        "id": "2qHis2cJg-Vf"
      },
      "source": [
        "# Importando nossos dados\n",
        "df = pd.read_csv('/content/bechdel.csv', sep=';')"
      ],
      "execution_count": 2,
      "outputs": []
    },
    {
      "cell_type": "code",
      "metadata": {
        "id": "RPLhCfpJl5T3",
        "colab": {
          "base_uri": "https://localhost:8080/",
          "height": 204
        },
        "outputId": "7eae407c-85f7-4c6b-cec6-6d28c0cd2d93"
      },
      "source": [
        "# Nossos dados\n",
        "df.head()"
      ],
      "execution_count": 3,
      "outputs": [
        {
          "output_type": "execute_result",
          "data": {
            "text/html": [
              "<div>\n",
              "<style scoped>\n",
              "    .dataframe tbody tr th:only-of-type {\n",
              "        vertical-align: middle;\n",
              "    }\n",
              "\n",
              "    .dataframe tbody tr th {\n",
              "        vertical-align: top;\n",
              "    }\n",
              "\n",
              "    .dataframe thead th {\n",
              "        text-align: right;\n",
              "    }\n",
              "</style>\n",
              "<table border=\"1\" class=\"dataframe\">\n",
              "  <thead>\n",
              "    <tr style=\"text-align: right;\">\n",
              "      <th></th>\n",
              "      <th>year</th>\n",
              "      <th>imdb</th>\n",
              "      <th>budget</th>\n",
              "      <th>domgross</th>\n",
              "      <th>intgross</th>\n",
              "      <th>budget_2013</th>\n",
              "      <th>domgross_2013</th>\n",
              "      <th>intgross_2013</th>\n",
              "      <th>binary</th>\n",
              "    </tr>\n",
              "  </thead>\n",
              "  <tbody>\n",
              "    <tr>\n",
              "      <th>0</th>\n",
              "      <td>1974</td>\n",
              "      <td>tt0071562</td>\n",
              "      <td>13000000</td>\n",
              "      <td>57300000.0</td>\n",
              "      <td>57300000.0</td>\n",
              "      <td>61408439</td>\n",
              "      <td>270669505.0</td>\n",
              "      <td>270669505.0</td>\n",
              "      <td>PASS</td>\n",
              "    </tr>\n",
              "    <tr>\n",
              "      <th>1</th>\n",
              "      <td>1982</td>\n",
              "      <td>tt0084516</td>\n",
              "      <td>10700000</td>\n",
              "      <td>74706019.0</td>\n",
              "      <td>121706019.0</td>\n",
              "      <td>25821968</td>\n",
              "      <td>180285645.0</td>\n",
              "      <td>293709241.0</td>\n",
              "      <td>PASS</td>\n",
              "    </tr>\n",
              "    <tr>\n",
              "      <th>2</th>\n",
              "      <td>2008</td>\n",
              "      <td>tt0800241</td>\n",
              "      <td>15000000</td>\n",
              "      <td>2203641.0</td>\n",
              "      <td>6379575.0</td>\n",
              "      <td>16233845</td>\n",
              "      <td>2384904.0</td>\n",
              "      <td>6904335.0</td>\n",
              "      <td>PASS</td>\n",
              "    </tr>\n",
              "    <tr>\n",
              "      <th>3</th>\n",
              "      <td>2011</td>\n",
              "      <td>tt1625346</td>\n",
              "      <td>12000000</td>\n",
              "      <td>16311571.0</td>\n",
              "      <td>22750356.0</td>\n",
              "      <td>12428289</td>\n",
              "      <td>16893744.0</td>\n",
              "      <td>23562334.0</td>\n",
              "      <td>PASS</td>\n",
              "    </tr>\n",
              "    <tr>\n",
              "      <th>4</th>\n",
              "      <td>2000</td>\n",
              "      <td>tt0190590</td>\n",
              "      <td>26000000</td>\n",
              "      <td>45506619.0</td>\n",
              "      <td>75763814.0</td>\n",
              "      <td>35175618</td>\n",
              "      <td>61566286.0</td>\n",
              "      <td>102501499.0</td>\n",
              "      <td>FAIL</td>\n",
              "    </tr>\n",
              "  </tbody>\n",
              "</table>\n",
              "</div>"
            ],
            "text/plain": [
              "   year       imdb    budget  ...  domgross_2013  intgross_2013  binary\n",
              "0  1974  tt0071562  13000000  ...    270669505.0    270669505.0    PASS\n",
              "1  1982  tt0084516  10700000  ...    180285645.0    293709241.0    PASS\n",
              "2  2008  tt0800241  15000000  ...      2384904.0      6904335.0    PASS\n",
              "3  2011  tt1625346  12000000  ...     16893744.0     23562334.0    PASS\n",
              "4  2000  tt0190590  26000000  ...     61566286.0    102501499.0    FAIL\n",
              "\n",
              "[5 rows x 9 columns]"
            ]
          },
          "metadata": {
            "tags": []
          },
          "execution_count": 3
        }
      ]
    },
    {
      "cell_type": "markdown",
      "metadata": {
        "id": "4IiKF4LiuE25"
      },
      "source": [
        "## Qual é a taxa de distribuição?\n",
        "\n",
        "O gráfico mostra a distribuição dos filmes que passaram no teste (PASS) em relação aos que falharam no teste(FAIL)."
      ]
    },
    {
      "cell_type": "code",
      "metadata": {
        "colab": {
          "base_uri": "https://localhost:8080/",
          "height": 1000
        },
        "id": "0QvEiOXbuWiW",
        "outputId": "64934001-760e-44f3-d629-e07dffe06715"
      },
      "source": [
        "# 2 datasets\n",
        "D = df[(df['binary'] != 0)]\n",
        "H = df[(df['binary'] == 0)]\n",
        "\n",
        "#------------COUNT-----------------------\n",
        "def target_count():\n",
        "    trace = go.Bar( x = df['binary'].value_counts().values.tolist(), \n",
        "                    y = ['Pass','Fail' ], \n",
        "                    orientation = 'h', \n",
        "                    text=df['binary'].value_counts().values.tolist(), \n",
        "                    textfont=dict(size=15),\n",
        "                    textposition = 'auto',\n",
        "                    opacity = 0.8,marker=dict(\n",
        "                    color=['lightskyblue', 'gold'],\n",
        "                    line=dict(color='#000000',width=1.5)))\n",
        "\n",
        "    layout = dict(title =  'Count of Pass/Fail movie')\n",
        "\n",
        "    fig = dict(data = [trace], layout=layout)\n",
        "    py.iplot(fig)\n",
        "\n",
        "#------------PERCENTAGE-------------------\n",
        "def target_percent():\n",
        "    trace = go.Pie(labels = ['Pass','Fail'], values = df['binary'].value_counts(), \n",
        "                   textfont=dict(size=15), opacity = 0.8,\n",
        "                   marker=dict(colors=['lightskyblue', 'gold'], \n",
        "                               line=dict(color='#000000', width=1.5)))\n",
        "\n",
        "\n",
        "    layout = dict(title =  'Distribution of Pass/Fail Movies')\n",
        "\n",
        "    fig = dict(data = [trace], layout=layout)\n",
        "    py.iplot(fig)\n",
        "\n",
        "target_count()\n",
        "target_percent()"
      ],
      "execution_count": 4,
      "outputs": [
        {
          "output_type": "display_data",
          "data": {
            "text/html": [
              "<html>\n",
              "<head><meta charset=\"utf-8\" /></head>\n",
              "<body>\n",
              "    <div>\n",
              "            <script src=\"https://cdnjs.cloudflare.com/ajax/libs/mathjax/2.7.5/MathJax.js?config=TeX-AMS-MML_SVG\"></script><script type=\"text/javascript\">if (window.MathJax) {MathJax.Hub.Config({SVG: {font: \"STIX-Web\"}});}</script>\n",
              "                <script type=\"text/javascript\">window.PlotlyConfig = {MathJaxConfig: 'local'};</script>\n",
              "        <script src=\"https://cdn.plot.ly/plotly-latest.min.js\"></script>    \n",
              "            <div id=\"7d7a80b3-cbf3-4bd9-be44-74b656aadbb6\" class=\"plotly-graph-div\" style=\"height:525px; width:100%;\"></div>\n",
              "            <script type=\"text/javascript\">\n",
              "                \n",
              "                    window.PLOTLYENV=window.PLOTLYENV || {};\n",
              "                    \n",
              "                if (document.getElementById(\"7d7a80b3-cbf3-4bd9-be44-74b656aadbb6\")) {\n",
              "                    Plotly.newPlot(\n",
              "                        '7d7a80b3-cbf3-4bd9-be44-74b656aadbb6',\n",
              "                        [{\"marker\": {\"color\": [\"lightskyblue\", \"gold\"], \"line\": {\"color\": \"#000000\", \"width\": 1.5}}, \"opacity\": 0.8, \"orientation\": \"h\", \"text\": [\"828\", \"672\"], \"textfont\": {\"size\": 15}, \"textposition\": \"auto\", \"type\": \"bar\", \"x\": [828, 672], \"y\": [\"Pass\", \"Fail\"]}],\n",
              "                        {\"template\": {\"data\": {\"bar\": [{\"error_x\": {\"color\": \"#2a3f5f\"}, \"error_y\": {\"color\": \"#2a3f5f\"}, \"marker\": {\"line\": {\"color\": \"#E5ECF6\", \"width\": 0.5}}, \"type\": \"bar\"}], \"barpolar\": [{\"marker\": {\"line\": {\"color\": \"#E5ECF6\", \"width\": 0.5}}, \"type\": \"barpolar\"}], \"carpet\": [{\"aaxis\": {\"endlinecolor\": \"#2a3f5f\", \"gridcolor\": \"white\", \"linecolor\": \"white\", \"minorgridcolor\": \"white\", \"startlinecolor\": \"#2a3f5f\"}, \"baxis\": {\"endlinecolor\": \"#2a3f5f\", \"gridcolor\": \"white\", \"linecolor\": \"white\", \"minorgridcolor\": \"white\", \"startlinecolor\": \"#2a3f5f\"}, \"type\": \"carpet\"}], \"choropleth\": [{\"colorbar\": {\"outlinewidth\": 0, \"ticks\": \"\"}, \"type\": \"choropleth\"}], \"contour\": [{\"colorbar\": {\"outlinewidth\": 0, \"ticks\": \"\"}, \"colorscale\": [[0.0, \"#0d0887\"], [0.1111111111111111, \"#46039f\"], [0.2222222222222222, \"#7201a8\"], [0.3333333333333333, \"#9c179e\"], [0.4444444444444444, \"#bd3786\"], [0.5555555555555556, \"#d8576b\"], [0.6666666666666666, \"#ed7953\"], [0.7777777777777778, \"#fb9f3a\"], [0.8888888888888888, \"#fdca26\"], [1.0, \"#f0f921\"]], \"type\": \"contour\"}], \"contourcarpet\": [{\"colorbar\": {\"outlinewidth\": 0, \"ticks\": \"\"}, \"type\": \"contourcarpet\"}], \"heatmap\": [{\"colorbar\": {\"outlinewidth\": 0, \"ticks\": \"\"}, \"colorscale\": [[0.0, \"#0d0887\"], [0.1111111111111111, \"#46039f\"], [0.2222222222222222, \"#7201a8\"], [0.3333333333333333, \"#9c179e\"], [0.4444444444444444, \"#bd3786\"], [0.5555555555555556, \"#d8576b\"], [0.6666666666666666, \"#ed7953\"], [0.7777777777777778, \"#fb9f3a\"], [0.8888888888888888, \"#fdca26\"], [1.0, \"#f0f921\"]], \"type\": \"heatmap\"}], \"heatmapgl\": [{\"colorbar\": {\"outlinewidth\": 0, \"ticks\": \"\"}, \"colorscale\": [[0.0, \"#0d0887\"], [0.1111111111111111, \"#46039f\"], [0.2222222222222222, \"#7201a8\"], [0.3333333333333333, \"#9c179e\"], [0.4444444444444444, \"#bd3786\"], [0.5555555555555556, \"#d8576b\"], [0.6666666666666666, \"#ed7953\"], [0.7777777777777778, \"#fb9f3a\"], [0.8888888888888888, \"#fdca26\"], [1.0, \"#f0f921\"]], \"type\": \"heatmapgl\"}], \"histogram\": [{\"marker\": {\"colorbar\": {\"outlinewidth\": 0, \"ticks\": \"\"}}, \"type\": \"histogram\"}], \"histogram2d\": [{\"colorbar\": {\"outlinewidth\": 0, \"ticks\": \"\"}, \"colorscale\": [[0.0, \"#0d0887\"], [0.1111111111111111, \"#46039f\"], [0.2222222222222222, \"#7201a8\"], [0.3333333333333333, \"#9c179e\"], [0.4444444444444444, \"#bd3786\"], [0.5555555555555556, \"#d8576b\"], [0.6666666666666666, \"#ed7953\"], [0.7777777777777778, \"#fb9f3a\"], [0.8888888888888888, \"#fdca26\"], [1.0, \"#f0f921\"]], \"type\": \"histogram2d\"}], \"histogram2dcontour\": [{\"colorbar\": {\"outlinewidth\": 0, \"ticks\": \"\"}, \"colorscale\": [[0.0, \"#0d0887\"], [0.1111111111111111, \"#46039f\"], [0.2222222222222222, \"#7201a8\"], [0.3333333333333333, \"#9c179e\"], [0.4444444444444444, \"#bd3786\"], [0.5555555555555556, \"#d8576b\"], [0.6666666666666666, \"#ed7953\"], [0.7777777777777778, \"#fb9f3a\"], [0.8888888888888888, \"#fdca26\"], [1.0, \"#f0f921\"]], \"type\": \"histogram2dcontour\"}], \"mesh3d\": [{\"colorbar\": {\"outlinewidth\": 0, \"ticks\": \"\"}, \"type\": \"mesh3d\"}], \"parcoords\": [{\"line\": {\"colorbar\": {\"outlinewidth\": 0, \"ticks\": \"\"}}, \"type\": \"parcoords\"}], \"pie\": [{\"automargin\": true, \"type\": \"pie\"}], \"scatter\": [{\"marker\": {\"colorbar\": {\"outlinewidth\": 0, \"ticks\": \"\"}}, \"type\": \"scatter\"}], \"scatter3d\": [{\"line\": {\"colorbar\": {\"outlinewidth\": 0, \"ticks\": \"\"}}, \"marker\": {\"colorbar\": {\"outlinewidth\": 0, \"ticks\": \"\"}}, \"type\": \"scatter3d\"}], \"scattercarpet\": [{\"marker\": {\"colorbar\": {\"outlinewidth\": 0, \"ticks\": \"\"}}, \"type\": \"scattercarpet\"}], \"scattergeo\": [{\"marker\": {\"colorbar\": {\"outlinewidth\": 0, \"ticks\": \"\"}}, \"type\": \"scattergeo\"}], \"scattergl\": [{\"marker\": {\"colorbar\": {\"outlinewidth\": 0, \"ticks\": \"\"}}, \"type\": \"scattergl\"}], \"scattermapbox\": [{\"marker\": {\"colorbar\": {\"outlinewidth\": 0, \"ticks\": \"\"}}, \"type\": \"scattermapbox\"}], \"scatterpolar\": [{\"marker\": {\"colorbar\": {\"outlinewidth\": 0, \"ticks\": \"\"}}, \"type\": \"scatterpolar\"}], \"scatterpolargl\": [{\"marker\": {\"colorbar\": {\"outlinewidth\": 0, \"ticks\": \"\"}}, \"type\": \"scatterpolargl\"}], \"scatterternary\": [{\"marker\": {\"colorbar\": {\"outlinewidth\": 0, \"ticks\": \"\"}}, \"type\": \"scatterternary\"}], \"surface\": [{\"colorbar\": {\"outlinewidth\": 0, \"ticks\": \"\"}, \"colorscale\": [[0.0, \"#0d0887\"], [0.1111111111111111, \"#46039f\"], [0.2222222222222222, \"#7201a8\"], [0.3333333333333333, \"#9c179e\"], [0.4444444444444444, \"#bd3786\"], [0.5555555555555556, \"#d8576b\"], [0.6666666666666666, \"#ed7953\"], [0.7777777777777778, \"#fb9f3a\"], [0.8888888888888888, \"#fdca26\"], [1.0, \"#f0f921\"]], \"type\": \"surface\"}], \"table\": [{\"cells\": {\"fill\": {\"color\": \"#EBF0F8\"}, \"line\": {\"color\": \"white\"}}, \"header\": {\"fill\": {\"color\": \"#C8D4E3\"}, \"line\": {\"color\": \"white\"}}, \"type\": \"table\"}]}, \"layout\": {\"annotationdefaults\": {\"arrowcolor\": \"#2a3f5f\", \"arrowhead\": 0, \"arrowwidth\": 1}, \"coloraxis\": {\"colorbar\": {\"outlinewidth\": 0, \"ticks\": \"\"}}, \"colorscale\": {\"diverging\": [[0, \"#8e0152\"], [0.1, \"#c51b7d\"], [0.2, \"#de77ae\"], [0.3, \"#f1b6da\"], [0.4, \"#fde0ef\"], [0.5, \"#f7f7f7\"], [0.6, \"#e6f5d0\"], [0.7, \"#b8e186\"], [0.8, \"#7fbc41\"], [0.9, \"#4d9221\"], [1, \"#276419\"]], \"sequential\": [[0.0, \"#0d0887\"], [0.1111111111111111, \"#46039f\"], [0.2222222222222222, \"#7201a8\"], [0.3333333333333333, \"#9c179e\"], [0.4444444444444444, \"#bd3786\"], [0.5555555555555556, \"#d8576b\"], [0.6666666666666666, \"#ed7953\"], [0.7777777777777778, \"#fb9f3a\"], [0.8888888888888888, \"#fdca26\"], [1.0, \"#f0f921\"]], \"sequentialminus\": [[0.0, \"#0d0887\"], [0.1111111111111111, \"#46039f\"], [0.2222222222222222, \"#7201a8\"], [0.3333333333333333, \"#9c179e\"], [0.4444444444444444, \"#bd3786\"], [0.5555555555555556, \"#d8576b\"], [0.6666666666666666, \"#ed7953\"], [0.7777777777777778, \"#fb9f3a\"], [0.8888888888888888, \"#fdca26\"], [1.0, \"#f0f921\"]]}, \"colorway\": [\"#636efa\", \"#EF553B\", \"#00cc96\", \"#ab63fa\", \"#FFA15A\", \"#19d3f3\", \"#FF6692\", \"#B6E880\", \"#FF97FF\", \"#FECB52\"], \"font\": {\"color\": \"#2a3f5f\"}, \"geo\": {\"bgcolor\": \"white\", \"lakecolor\": \"white\", \"landcolor\": \"#E5ECF6\", \"showlakes\": true, \"showland\": true, \"subunitcolor\": \"white\"}, \"hoverlabel\": {\"align\": \"left\"}, \"hovermode\": \"closest\", \"mapbox\": {\"style\": \"light\"}, \"paper_bgcolor\": \"white\", \"plot_bgcolor\": \"#E5ECF6\", \"polar\": {\"angularaxis\": {\"gridcolor\": \"white\", \"linecolor\": \"white\", \"ticks\": \"\"}, \"bgcolor\": \"#E5ECF6\", \"radialaxis\": {\"gridcolor\": \"white\", \"linecolor\": \"white\", \"ticks\": \"\"}}, \"scene\": {\"xaxis\": {\"backgroundcolor\": \"#E5ECF6\", \"gridcolor\": \"white\", \"gridwidth\": 2, \"linecolor\": \"white\", \"showbackground\": true, \"ticks\": \"\", \"zerolinecolor\": \"white\"}, \"yaxis\": {\"backgroundcolor\": \"#E5ECF6\", \"gridcolor\": \"white\", \"gridwidth\": 2, \"linecolor\": \"white\", \"showbackground\": true, \"ticks\": \"\", \"zerolinecolor\": \"white\"}, \"zaxis\": {\"backgroundcolor\": \"#E5ECF6\", \"gridcolor\": \"white\", \"gridwidth\": 2, \"linecolor\": \"white\", \"showbackground\": true, \"ticks\": \"\", \"zerolinecolor\": \"white\"}}, \"shapedefaults\": {\"line\": {\"color\": \"#2a3f5f\"}}, \"ternary\": {\"aaxis\": {\"gridcolor\": \"white\", \"linecolor\": \"white\", \"ticks\": \"\"}, \"baxis\": {\"gridcolor\": \"white\", \"linecolor\": \"white\", \"ticks\": \"\"}, \"bgcolor\": \"#E5ECF6\", \"caxis\": {\"gridcolor\": \"white\", \"linecolor\": \"white\", \"ticks\": \"\"}}, \"title\": {\"x\": 0.05}, \"xaxis\": {\"automargin\": true, \"gridcolor\": \"white\", \"linecolor\": \"white\", \"ticks\": \"\", \"title\": {\"standoff\": 15}, \"zerolinecolor\": \"white\", \"zerolinewidth\": 2}, \"yaxis\": {\"automargin\": true, \"gridcolor\": \"white\", \"linecolor\": \"white\", \"ticks\": \"\", \"title\": {\"standoff\": 15}, \"zerolinecolor\": \"white\", \"zerolinewidth\": 2}}}, \"title\": {\"text\": \"Count of Pass/Fail movie\"}},\n",
              "                        {\"responsive\": true}\n",
              "                    ).then(function(){\n",
              "                            \n",
              "var gd = document.getElementById('7d7a80b3-cbf3-4bd9-be44-74b656aadbb6');\n",
              "var x = new MutationObserver(function (mutations, observer) {{\n",
              "        var display = window.getComputedStyle(gd).display;\n",
              "        if (!display || display === 'none') {{\n",
              "            console.log([gd, 'removed!']);\n",
              "            Plotly.purge(gd);\n",
              "            observer.disconnect();\n",
              "        }}\n",
              "}});\n",
              "\n",
              "// Listen for the removal of the full notebook cells\n",
              "var notebookContainer = gd.closest('#notebook-container');\n",
              "if (notebookContainer) {{\n",
              "    x.observe(notebookContainer, {childList: true});\n",
              "}}\n",
              "\n",
              "// Listen for the clearing of the current output cell\n",
              "var outputEl = gd.closest('.output');\n",
              "if (outputEl) {{\n",
              "    x.observe(outputEl, {childList: true});\n",
              "}}\n",
              "\n",
              "                        })\n",
              "                };\n",
              "                \n",
              "            </script>\n",
              "        </div>\n",
              "</body>\n",
              "</html>"
            ]
          },
          "metadata": {
            "tags": []
          }
        },
        {
          "output_type": "display_data",
          "data": {
            "text/html": [
              "<html>\n",
              "<head><meta charset=\"utf-8\" /></head>\n",
              "<body>\n",
              "    <div>\n",
              "            <script src=\"https://cdnjs.cloudflare.com/ajax/libs/mathjax/2.7.5/MathJax.js?config=TeX-AMS-MML_SVG\"></script><script type=\"text/javascript\">if (window.MathJax) {MathJax.Hub.Config({SVG: {font: \"STIX-Web\"}});}</script>\n",
              "                <script type=\"text/javascript\">window.PlotlyConfig = {MathJaxConfig: 'local'};</script>\n",
              "        <script src=\"https://cdn.plot.ly/plotly-latest.min.js\"></script>    \n",
              "            <div id=\"2237f14f-390b-46ca-bb26-4d58a26d4d7d\" class=\"plotly-graph-div\" style=\"height:525px; width:100%;\"></div>\n",
              "            <script type=\"text/javascript\">\n",
              "                \n",
              "                    window.PLOTLYENV=window.PLOTLYENV || {};\n",
              "                    \n",
              "                if (document.getElementById(\"2237f14f-390b-46ca-bb26-4d58a26d4d7d\")) {\n",
              "                    Plotly.newPlot(\n",
              "                        '2237f14f-390b-46ca-bb26-4d58a26d4d7d',\n",
              "                        [{\"labels\": [\"Pass\", \"Fail\"], \"marker\": {\"colors\": [\"lightskyblue\", \"gold\"], \"line\": {\"color\": \"#000000\", \"width\": 1.5}}, \"opacity\": 0.8, \"textfont\": {\"size\": 15}, \"type\": \"pie\", \"values\": [828, 672]}],\n",
              "                        {\"template\": {\"data\": {\"bar\": [{\"error_x\": {\"color\": \"#2a3f5f\"}, \"error_y\": {\"color\": \"#2a3f5f\"}, \"marker\": {\"line\": {\"color\": \"#E5ECF6\", \"width\": 0.5}}, \"type\": \"bar\"}], \"barpolar\": [{\"marker\": {\"line\": {\"color\": \"#E5ECF6\", \"width\": 0.5}}, \"type\": \"barpolar\"}], \"carpet\": [{\"aaxis\": {\"endlinecolor\": \"#2a3f5f\", \"gridcolor\": \"white\", \"linecolor\": \"white\", \"minorgridcolor\": \"white\", \"startlinecolor\": \"#2a3f5f\"}, \"baxis\": {\"endlinecolor\": \"#2a3f5f\", \"gridcolor\": \"white\", \"linecolor\": \"white\", \"minorgridcolor\": \"white\", \"startlinecolor\": \"#2a3f5f\"}, \"type\": \"carpet\"}], \"choropleth\": [{\"colorbar\": {\"outlinewidth\": 0, \"ticks\": \"\"}, \"type\": \"choropleth\"}], \"contour\": [{\"colorbar\": {\"outlinewidth\": 0, \"ticks\": \"\"}, \"colorscale\": [[0.0, \"#0d0887\"], [0.1111111111111111, \"#46039f\"], [0.2222222222222222, \"#7201a8\"], [0.3333333333333333, \"#9c179e\"], [0.4444444444444444, \"#bd3786\"], [0.5555555555555556, \"#d8576b\"], [0.6666666666666666, \"#ed7953\"], [0.7777777777777778, \"#fb9f3a\"], [0.8888888888888888, \"#fdca26\"], [1.0, \"#f0f921\"]], \"type\": \"contour\"}], \"contourcarpet\": [{\"colorbar\": {\"outlinewidth\": 0, \"ticks\": \"\"}, \"type\": \"contourcarpet\"}], \"heatmap\": [{\"colorbar\": {\"outlinewidth\": 0, \"ticks\": \"\"}, \"colorscale\": [[0.0, \"#0d0887\"], [0.1111111111111111, \"#46039f\"], [0.2222222222222222, \"#7201a8\"], [0.3333333333333333, \"#9c179e\"], [0.4444444444444444, \"#bd3786\"], [0.5555555555555556, \"#d8576b\"], [0.6666666666666666, \"#ed7953\"], [0.7777777777777778, \"#fb9f3a\"], [0.8888888888888888, \"#fdca26\"], [1.0, \"#f0f921\"]], \"type\": \"heatmap\"}], \"heatmapgl\": [{\"colorbar\": {\"outlinewidth\": 0, \"ticks\": \"\"}, \"colorscale\": [[0.0, \"#0d0887\"], [0.1111111111111111, \"#46039f\"], [0.2222222222222222, \"#7201a8\"], [0.3333333333333333, \"#9c179e\"], [0.4444444444444444, \"#bd3786\"], [0.5555555555555556, \"#d8576b\"], [0.6666666666666666, \"#ed7953\"], [0.7777777777777778, \"#fb9f3a\"], [0.8888888888888888, \"#fdca26\"], [1.0, \"#f0f921\"]], \"type\": \"heatmapgl\"}], \"histogram\": [{\"marker\": {\"colorbar\": {\"outlinewidth\": 0, \"ticks\": \"\"}}, \"type\": \"histogram\"}], \"histogram2d\": [{\"colorbar\": {\"outlinewidth\": 0, \"ticks\": \"\"}, \"colorscale\": [[0.0, \"#0d0887\"], [0.1111111111111111, \"#46039f\"], [0.2222222222222222, \"#7201a8\"], [0.3333333333333333, \"#9c179e\"], [0.4444444444444444, \"#bd3786\"], [0.5555555555555556, \"#d8576b\"], [0.6666666666666666, \"#ed7953\"], [0.7777777777777778, \"#fb9f3a\"], [0.8888888888888888, \"#fdca26\"], [1.0, \"#f0f921\"]], \"type\": \"histogram2d\"}], \"histogram2dcontour\": [{\"colorbar\": {\"outlinewidth\": 0, \"ticks\": \"\"}, \"colorscale\": [[0.0, \"#0d0887\"], [0.1111111111111111, \"#46039f\"], [0.2222222222222222, \"#7201a8\"], [0.3333333333333333, \"#9c179e\"], [0.4444444444444444, \"#bd3786\"], [0.5555555555555556, \"#d8576b\"], [0.6666666666666666, \"#ed7953\"], [0.7777777777777778, \"#fb9f3a\"], [0.8888888888888888, \"#fdca26\"], [1.0, \"#f0f921\"]], \"type\": \"histogram2dcontour\"}], \"mesh3d\": [{\"colorbar\": {\"outlinewidth\": 0, \"ticks\": \"\"}, \"type\": \"mesh3d\"}], \"parcoords\": [{\"line\": {\"colorbar\": {\"outlinewidth\": 0, \"ticks\": \"\"}}, \"type\": \"parcoords\"}], \"pie\": [{\"automargin\": true, \"type\": \"pie\"}], \"scatter\": [{\"marker\": {\"colorbar\": {\"outlinewidth\": 0, \"ticks\": \"\"}}, \"type\": \"scatter\"}], \"scatter3d\": [{\"line\": {\"colorbar\": {\"outlinewidth\": 0, \"ticks\": \"\"}}, \"marker\": {\"colorbar\": {\"outlinewidth\": 0, \"ticks\": \"\"}}, \"type\": \"scatter3d\"}], \"scattercarpet\": [{\"marker\": {\"colorbar\": {\"outlinewidth\": 0, \"ticks\": \"\"}}, \"type\": \"scattercarpet\"}], \"scattergeo\": [{\"marker\": {\"colorbar\": {\"outlinewidth\": 0, \"ticks\": \"\"}}, \"type\": \"scattergeo\"}], \"scattergl\": [{\"marker\": {\"colorbar\": {\"outlinewidth\": 0, \"ticks\": \"\"}}, \"type\": \"scattergl\"}], \"scattermapbox\": [{\"marker\": {\"colorbar\": {\"outlinewidth\": 0, \"ticks\": \"\"}}, \"type\": \"scattermapbox\"}], \"scatterpolar\": [{\"marker\": {\"colorbar\": {\"outlinewidth\": 0, \"ticks\": \"\"}}, \"type\": \"scatterpolar\"}], \"scatterpolargl\": [{\"marker\": {\"colorbar\": {\"outlinewidth\": 0, \"ticks\": \"\"}}, \"type\": \"scatterpolargl\"}], \"scatterternary\": [{\"marker\": {\"colorbar\": {\"outlinewidth\": 0, \"ticks\": \"\"}}, \"type\": \"scatterternary\"}], \"surface\": [{\"colorbar\": {\"outlinewidth\": 0, \"ticks\": \"\"}, \"colorscale\": [[0.0, \"#0d0887\"], [0.1111111111111111, \"#46039f\"], [0.2222222222222222, \"#7201a8\"], [0.3333333333333333, \"#9c179e\"], [0.4444444444444444, \"#bd3786\"], [0.5555555555555556, \"#d8576b\"], [0.6666666666666666, \"#ed7953\"], [0.7777777777777778, \"#fb9f3a\"], [0.8888888888888888, \"#fdca26\"], [1.0, \"#f0f921\"]], \"type\": \"surface\"}], \"table\": [{\"cells\": {\"fill\": {\"color\": \"#EBF0F8\"}, \"line\": {\"color\": \"white\"}}, \"header\": {\"fill\": {\"color\": \"#C8D4E3\"}, \"line\": {\"color\": \"white\"}}, \"type\": \"table\"}]}, \"layout\": {\"annotationdefaults\": {\"arrowcolor\": \"#2a3f5f\", \"arrowhead\": 0, \"arrowwidth\": 1}, \"coloraxis\": {\"colorbar\": {\"outlinewidth\": 0, \"ticks\": \"\"}}, \"colorscale\": {\"diverging\": [[0, \"#8e0152\"], [0.1, \"#c51b7d\"], [0.2, \"#de77ae\"], [0.3, \"#f1b6da\"], [0.4, \"#fde0ef\"], [0.5, \"#f7f7f7\"], [0.6, \"#e6f5d0\"], [0.7, \"#b8e186\"], [0.8, \"#7fbc41\"], [0.9, \"#4d9221\"], [1, \"#276419\"]], \"sequential\": [[0.0, \"#0d0887\"], [0.1111111111111111, \"#46039f\"], [0.2222222222222222, \"#7201a8\"], [0.3333333333333333, \"#9c179e\"], [0.4444444444444444, \"#bd3786\"], [0.5555555555555556, \"#d8576b\"], [0.6666666666666666, \"#ed7953\"], [0.7777777777777778, \"#fb9f3a\"], [0.8888888888888888, \"#fdca26\"], [1.0, \"#f0f921\"]], \"sequentialminus\": [[0.0, \"#0d0887\"], [0.1111111111111111, \"#46039f\"], [0.2222222222222222, \"#7201a8\"], [0.3333333333333333, \"#9c179e\"], [0.4444444444444444, \"#bd3786\"], [0.5555555555555556, \"#d8576b\"], [0.6666666666666666, \"#ed7953\"], [0.7777777777777778, \"#fb9f3a\"], [0.8888888888888888, \"#fdca26\"], [1.0, \"#f0f921\"]]}, \"colorway\": [\"#636efa\", \"#EF553B\", \"#00cc96\", \"#ab63fa\", \"#FFA15A\", \"#19d3f3\", \"#FF6692\", \"#B6E880\", \"#FF97FF\", \"#FECB52\"], \"font\": {\"color\": \"#2a3f5f\"}, \"geo\": {\"bgcolor\": \"white\", \"lakecolor\": \"white\", \"landcolor\": \"#E5ECF6\", \"showlakes\": true, \"showland\": true, \"subunitcolor\": \"white\"}, \"hoverlabel\": {\"align\": \"left\"}, \"hovermode\": \"closest\", \"mapbox\": {\"style\": \"light\"}, \"paper_bgcolor\": \"white\", \"plot_bgcolor\": \"#E5ECF6\", \"polar\": {\"angularaxis\": {\"gridcolor\": \"white\", \"linecolor\": \"white\", \"ticks\": \"\"}, \"bgcolor\": \"#E5ECF6\", \"radialaxis\": {\"gridcolor\": \"white\", \"linecolor\": \"white\", \"ticks\": \"\"}}, \"scene\": {\"xaxis\": {\"backgroundcolor\": \"#E5ECF6\", \"gridcolor\": \"white\", \"gridwidth\": 2, \"linecolor\": \"white\", \"showbackground\": true, \"ticks\": \"\", \"zerolinecolor\": \"white\"}, \"yaxis\": {\"backgroundcolor\": \"#E5ECF6\", \"gridcolor\": \"white\", \"gridwidth\": 2, \"linecolor\": \"white\", \"showbackground\": true, \"ticks\": \"\", \"zerolinecolor\": \"white\"}, \"zaxis\": {\"backgroundcolor\": \"#E5ECF6\", \"gridcolor\": \"white\", \"gridwidth\": 2, \"linecolor\": \"white\", \"showbackground\": true, \"ticks\": \"\", \"zerolinecolor\": \"white\"}}, \"shapedefaults\": {\"line\": {\"color\": \"#2a3f5f\"}}, \"ternary\": {\"aaxis\": {\"gridcolor\": \"white\", \"linecolor\": \"white\", \"ticks\": \"\"}, \"baxis\": {\"gridcolor\": \"white\", \"linecolor\": \"white\", \"ticks\": \"\"}, \"bgcolor\": \"#E5ECF6\", \"caxis\": {\"gridcolor\": \"white\", \"linecolor\": \"white\", \"ticks\": \"\"}}, \"title\": {\"x\": 0.05}, \"xaxis\": {\"automargin\": true, \"gridcolor\": \"white\", \"linecolor\": \"white\", \"ticks\": \"\", \"title\": {\"standoff\": 15}, \"zerolinecolor\": \"white\", \"zerolinewidth\": 2}, \"yaxis\": {\"automargin\": true, \"gridcolor\": \"white\", \"linecolor\": \"white\", \"ticks\": \"\", \"title\": {\"standoff\": 15}, \"zerolinecolor\": \"white\", \"zerolinewidth\": 2}}}, \"title\": {\"text\": \"Distribution of Pass/Fail Movies\"}},\n",
              "                        {\"responsive\": true}\n",
              "                    ).then(function(){\n",
              "                            \n",
              "var gd = document.getElementById('2237f14f-390b-46ca-bb26-4d58a26d4d7d');\n",
              "var x = new MutationObserver(function (mutations, observer) {{\n",
              "        var display = window.getComputedStyle(gd).display;\n",
              "        if (!display || display === 'none') {{\n",
              "            console.log([gd, 'removed!']);\n",
              "            Plotly.purge(gd);\n",
              "            observer.disconnect();\n",
              "        }}\n",
              "}});\n",
              "\n",
              "// Listen for the removal of the full notebook cells\n",
              "var notebookContainer = gd.closest('#notebook-container');\n",
              "if (notebookContainer) {{\n",
              "    x.observe(notebookContainer, {childList: true});\n",
              "}}\n",
              "\n",
              "// Listen for the clearing of the current output cell\n",
              "var outputEl = gd.closest('.output');\n",
              "if (outputEl) {{\n",
              "    x.observe(outputEl, {childList: true});\n",
              "}}\n",
              "\n",
              "                        })\n",
              "                };\n",
              "                \n",
              "            </script>\n",
              "        </div>\n",
              "</body>\n",
              "</html>"
            ]
          },
          "metadata": {
            "tags": []
          }
        }
      ]
    },
    {
      "cell_type": "markdown",
      "metadata": {
        "id": "DISVHRN8hMC1"
      },
      "source": [
        "### Análise Exploratória de Dados"
      ]
    },
    {
      "cell_type": "code",
      "metadata": {
        "id": "U08M_rXxjhR1"
      },
      "source": [
        "# Tratando os dadas para eliminar os valores nulos\n",
        "\n",
        "df['budget'].fillna(df['budget'].mean(), inplace = True)\n",
        "df['domgross'].fillna(df['domgross'].mean(), inplace = True)\n",
        "df['intgross'].fillna(df['intgross'].median(), inplace = True)\n",
        "df['budget_2013'].fillna(df['budget_2013'].median(), inplace = True)\n",
        "df['domgross_2013'].fillna(df['domgross_2013'].median(), inplace = True)\n",
        "df['intgross_2013'].fillna(df['intgross_2013'].median(), inplace = True)\n"
      ],
      "execution_count": 5,
      "outputs": []
    },
    {
      "cell_type": "code",
      "metadata": {
        "id": "fhSkzVSggwGM",
        "colab": {
          "base_uri": "https://localhost:8080/"
        },
        "outputId": "e7c6cf32-00e9-4dee-855c-156de7ff0ce0"
      },
      "source": [
        "# Verificando os valores nulo\n",
        "print(\"\\nValores Nulos:\")\n",
        "print((df.isnull().sum() / df.shape[0]).sort_values(ascending=False))"
      ],
      "execution_count": 6,
      "outputs": [
        {
          "output_type": "stream",
          "text": [
            "\n",
            "Valores Nulos:\n",
            "binary           0.0\n",
            "intgross_2013    0.0\n",
            "domgross_2013    0.0\n",
            "budget_2013      0.0\n",
            "intgross         0.0\n",
            "domgross         0.0\n",
            "budget           0.0\n",
            "imdb             0.0\n",
            "year             0.0\n",
            "dtype: float64\n"
          ],
          "name": "stdout"
        }
      ]
    },
    {
      "cell_type": "code",
      "metadata": {
        "id": "hPYrt0_qfkOG"
      },
      "source": [
        "import matplotlib.pyplot as plt\n",
        "import seaborn as sns\n",
        "import plotly.figure_factory as ff\n",
        "import numpy as np"
      ],
      "execution_count": 10,
      "outputs": []
    },
    {
      "cell_type": "code",
      "metadata": {
        "id": "HSTt7SAVfY1B"
      },
      "source": [
        "def dist_box(data):\n",
        "    # função plota um gráfico combinado para análise univariada de variável contínua para verificar a disposição, \n",
        "    # a tendência central, a dispersão e outliers  \n",
        "    Name=data.name.upper()\n",
        "    fig,(ax_box,ax_dis)  =plt.subplots(2,1,gridspec_kw = {\"height_ratios\": (.25, .75)},figsize=(8, 5))\n",
        "    mean=data.mean()\n",
        "    median=data.median()\n",
        "    mode=data.mode().tolist()[0]\n",
        "    fig.suptitle(\"DISPOSIÇÃO DOS DADOS POR \"+ Name  , fontsize=18, fontweight='bold')\n",
        "    sns.boxplot(x=data,showmeans=True, orient='h',color=\"violet\",ax=ax_box)\n",
        "    ax_box.set(xlabel='')\n",
        "    sns.distplot(data,kde=False,color='blue',ax=ax_dis)\n",
        "    ax_dis.axvline(mean, color='r', linestyle='--',linewidth=2)\n",
        "    ax_dis.axvline(median, color='g', linestyle='-',linewidth=2)\n",
        "    ax_dis.axvline(mode, color='y', linestyle='-',linewidth=2)\n",
        "    plt.legend({'Média':mean,'Mediana':median,'Moda':mode})"
      ],
      "execution_count": 11,
      "outputs": []
    },
    {
      "cell_type": "code",
      "metadata": {
        "id": "OSsbVrJNfctC",
        "colab": {
          "base_uri": "https://localhost:8080/",
          "height": 1000
        },
        "outputId": "cc2a7013-54bb-4d49-c417-9c77862566f7"
      },
      "source": [
        "# Plotar o gráfico para cada coluna para verificar a disposição dos dados\n",
        "list_col=  df.select_dtypes([np.number]).columns\n",
        "for i in range(len(list_col)):\n",
        "    dist_box(df[list_col[i]])"
      ],
      "execution_count": 12,
      "outputs": [
        {
          "output_type": "stream",
          "text": [
            "/usr/local/lib/python3.7/dist-packages/seaborn/distributions.py:2557: FutureWarning:\n",
            "\n",
            "`distplot` is a deprecated function and will be removed in a future version. Please adapt your code to use either `displot` (a figure-level function with similar flexibility) or `histplot` (an axes-level function for histograms).\n",
            "\n",
            "/usr/local/lib/python3.7/dist-packages/seaborn/distributions.py:2557: FutureWarning:\n",
            "\n",
            "`distplot` is a deprecated function and will be removed in a future version. Please adapt your code to use either `displot` (a figure-level function with similar flexibility) or `histplot` (an axes-level function for histograms).\n",
            "\n",
            "/usr/local/lib/python3.7/dist-packages/seaborn/distributions.py:2557: FutureWarning:\n",
            "\n",
            "`distplot` is a deprecated function and will be removed in a future version. Please adapt your code to use either `displot` (a figure-level function with similar flexibility) or `histplot` (an axes-level function for histograms).\n",
            "\n",
            "/usr/local/lib/python3.7/dist-packages/seaborn/distributions.py:2557: FutureWarning:\n",
            "\n",
            "`distplot` is a deprecated function and will be removed in a future version. Please adapt your code to use either `displot` (a figure-level function with similar flexibility) or `histplot` (an axes-level function for histograms).\n",
            "\n",
            "/usr/local/lib/python3.7/dist-packages/seaborn/distributions.py:2557: FutureWarning:\n",
            "\n",
            "`distplot` is a deprecated function and will be removed in a future version. Please adapt your code to use either `displot` (a figure-level function with similar flexibility) or `histplot` (an axes-level function for histograms).\n",
            "\n",
            "/usr/local/lib/python3.7/dist-packages/seaborn/distributions.py:2557: FutureWarning:\n",
            "\n",
            "`distplot` is a deprecated function and will be removed in a future version. Please adapt your code to use either `displot` (a figure-level function with similar flexibility) or `histplot` (an axes-level function for histograms).\n",
            "\n",
            "/usr/local/lib/python3.7/dist-packages/seaborn/distributions.py:2557: FutureWarning:\n",
            "\n",
            "`distplot` is a deprecated function and will be removed in a future version. Please adapt your code to use either `displot` (a figure-level function with similar flexibility) or `histplot` (an axes-level function for histograms).\n",
            "\n"
          ],
          "name": "stderr"
        },
        {
          "output_type": "display_data",
          "data": {
            "image/png": "[encoded data removed]",
            "text/plain": [
              "<Figure size 576x360 with 2 Axes>"
            ]
          },
          "metadata": {
            "tags": [],
            "needs_background": "light"
          }
        },
        {
          "output_type": "display_data",
          "data": {
            "image/png": "[encoded data removed]",
            "text/plain": [
              "<Figure size 576x360 with 2 Axes>"
            ]
          },
          "metadata": {
            "tags": [],
            "needs_background": "light"
          }
        },
        {
          "output_type": "display_data",
          "data": {
            "image/png": "[encoded data removed]",
            "text/plain": [
              "<Figure size 576x360 with 2 Axes>"
            ]
          },
          "metadata": {
            "tags": [],
            "needs_background": "light"
          }
        },
        {
          "output_type": "display_data",
          "data": {
            "image/png": "[encoded data removed]",
            "text/plain": [
              "<Figure size 576x360 with 2 Axes>"
            ]
          },
          "metadata": {
            "tags": [],
            "needs_background": "light"
          }
        },
        {
          "output_type": "display_data",
          "data": {
            "image/png": "[encoded data removed]",
            "text/plain": [
              "<Figure size 576x360 with 2 Axes>"
            ]
          },
          "metadata": {
            "tags": [],
            "needs_background": "light"
          }
        },
        {
          "output_type": "display_data",
          "data": {
            "image/png": "[encoded data removed]",
            "text/plain": [
              "<Figure size 576x360 with 2 Axes>"
            ]
          },
          "metadata": {
            "tags": [],
            "needs_background": "light"
          }
        },
        {
          "output_type": "display_data",
          "data": {
            "image/png": "[encoded data removed]",
            "text/plain": [
              "<Figure size 576x360 with 2 Axes>"
            ]
          },
          "metadata": {
            "tags": [],
            "needs_background": "light"
          }
        }
      ]
    },
    {
      "cell_type": "code",
      "metadata": {
        "id": "Vn9Q94-NEvpK"
      },
      "source": [
        "def median_target(var):   \n",
        "    temp = df[df[var].notnull()]\n",
        "    temp = temp[[var, 'biry']].groupby(['biry'])[[var]].median().reset_index()\n",
        "    return temp"
      ],
      "execution_count": 13,
      "outputs": []
    },
    {
      "cell_type": "code",
      "metadata": {
        "id": "h0rdu65-BJvt"
      },
      "source": [
        "# Analisando nossos dados com relação à incidência de diabetes\n",
        "def plot_distribution(data_select, size_bin) :  \n",
        "    # 2 datasets\n",
        "\n",
        "    D = df[(df['biry'] != 0)]\n",
        "    H = df[(df['biry'] == 0)]\n",
        "\n",
        "    tmp1 = D[data_select]\n",
        "    tmp2 = H[data_select]\n",
        "\n",
        "    hist_data = [tmp1, tmp2]\n",
        "    \n",
        "    group_labels = ['Fail', 'Passy']\n",
        "    colors = ['lightskyblue', 'gold']\n",
        "\n",
        "    fig = ff.create_distplot(hist_data, group_labels, colors = colors, show_hist = True, bin_size = size_bin, curve_type='kde')\n",
        "    \n",
        "    fig['layout'].update(title = data_select)\n",
        "\n",
        "    py.iplot(fig, filename = 'Density plot')"
      ],
      "execution_count": 15,
      "outputs": []
    },
    {
      "cell_type": "markdown",
      "metadata": {
        "id": "te9Xclzf0u3c"
      },
      "source": [
        "## Filmes por Ano\n"
      ]
    },
    {
      "cell_type": "code",
      "metadata": {
        "colab": {
          "base_uri": "https://localhost:8080/",
          "height": 297
        },
        "id": "VYwhp07p0y9j",
        "outputId": "ca0db5a9-2205-4bff-86bc-88146dc65437"
      },
      "source": [
        "# distribution over years\n",
        "plt.figure(figsize=(12,4))\n",
        "df.year.value_counts().plot(kind='bar')\n",
        "plt.title('Movies by year')\n",
        "plt.grid()\n",
        "plt.show()"
      ],
      "execution_count": 16,
      "outputs": [
        {
          "output_type": "display_data",
          "data": {
            "image/png": "[encoded data removed]",
            "text/plain": [
              "<Figure size 864x288 with 1 Axes>"
            ]
          },
          "metadata": {
            "tags": [],
            "needs_background": "light"
          }
        }
      ]
    },
    {
      "cell_type": "markdown",
      "metadata": {
        "id": "gipAFnnN0OFO"
      },
      "source": [
        "## Percentual de PASS e FAIL por ano"
      ]
    },
    {
      "cell_type": "code",
      "metadata": {
        "colab": {
          "base_uri": "https://localhost:8080/",
          "height": 1000
        },
        "id": "dleDo3CA6CI2",
        "outputId": "29a86832-b634-46ca-9989-a283d38653f8"
      },
      "source": [
        "# show corresponding table\n",
        "df_pass_dev = pd.crosstab(df.year, df.binary)\n",
        "df_pass_dev['n'] = df_pass_dev.FAIL + df_pass_dev.PASS\n",
        "df_pass_dev['FAIL_perc'] = 100*np.round(df_pass_dev.FAIL / df_pass_dev.n,4)\n",
        "df_pass_dev['PASS_perc'] = 100*np.round(df_pass_dev.PASS / df_pass_dev.n,4)\n",
        "df_pass_dev"
      ],
      "execution_count": 17,
      "outputs": [
        {
          "output_type": "execute_result",
          "data": {
            "text/html": [
              "<div>\n",
              "<style scoped>\n",
              "    .dataframe tbody tr th:only-of-type {\n",
              "        vertical-align: middle;\n",
              "    }\n",
              "\n",
              "    .dataframe tbody tr th {\n",
              "        vertical-align: top;\n",
              "    }\n",
              "\n",
              "    .dataframe thead th {\n",
              "        text-align: right;\n",
              "    }\n",
              "</style>\n",
              "<table border=\"1\" class=\"dataframe\">\n",
              "  <thead>\n",
              "    <tr style=\"text-align: right;\">\n",
              "      <th>binary</th>\n",
              "      <th>FAIL</th>\n",
              "      <th>PASS</th>\n",
              "      <th>n</th>\n",
              "      <th>FAIL_perc</th>\n",
              "      <th>PASS_perc</th>\n",
              "    </tr>\n",
              "    <tr>\n",
              "      <th>year</th>\n",
              "      <th></th>\n",
              "      <th></th>\n",
              "      <th></th>\n",
              "      <th></th>\n",
              "      <th></th>\n",
              "    </tr>\n",
              "  </thead>\n",
              "  <tbody>\n",
              "    <tr>\n",
              "      <th>1970</th>\n",
              "      <td>0</td>\n",
              "      <td>1</td>\n",
              "      <td>1</td>\n",
              "      <td>0.00</td>\n",
              "      <td>100.00</td>\n",
              "    </tr>\n",
              "    <tr>\n",
              "      <th>1971</th>\n",
              "      <td>4</td>\n",
              "      <td>0</td>\n",
              "      <td>4</td>\n",
              "      <td>100.00</td>\n",
              "      <td>0.00</td>\n",
              "    </tr>\n",
              "    <tr>\n",
              "      <th>1972</th>\n",
              "      <td>2</td>\n",
              "      <td>1</td>\n",
              "      <td>3</td>\n",
              "      <td>66.67</td>\n",
              "      <td>33.33</td>\n",
              "    </tr>\n",
              "    <tr>\n",
              "      <th>1973</th>\n",
              "      <td>4</td>\n",
              "      <td>1</td>\n",
              "      <td>5</td>\n",
              "      <td>80.00</td>\n",
              "      <td>20.00</td>\n",
              "    </tr>\n",
              "    <tr>\n",
              "      <th>1974</th>\n",
              "      <td>4</td>\n",
              "      <td>2</td>\n",
              "      <td>6</td>\n",
              "      <td>66.67</td>\n",
              "      <td>33.33</td>\n",
              "    </tr>\n",
              "    <tr>\n",
              "      <th>1975</th>\n",
              "      <td>4</td>\n",
              "      <td>0</td>\n",
              "      <td>4</td>\n",
              "      <td>100.00</td>\n",
              "      <td>0.00</td>\n",
              "    </tr>\n",
              "    <tr>\n",
              "      <th>1976</th>\n",
              "      <td>4</td>\n",
              "      <td>2</td>\n",
              "      <td>6</td>\n",
              "      <td>66.67</td>\n",
              "      <td>33.33</td>\n",
              "    </tr>\n",
              "    <tr>\n",
              "      <th>1977</th>\n",
              "      <td>5</td>\n",
              "      <td>2</td>\n",
              "      <td>7</td>\n",
              "      <td>71.43</td>\n",
              "      <td>28.57</td>\n",
              "    </tr>\n",
              "    <tr>\n",
              "      <th>1978</th>\n",
              "      <td>6</td>\n",
              "      <td>2</td>\n",
              "      <td>8</td>\n",
              "      <td>75.00</td>\n",
              "      <td>25.00</td>\n",
              "    </tr>\n",
              "    <tr>\n",
              "      <th>1979</th>\n",
              "      <td>2</td>\n",
              "      <td>2</td>\n",
              "      <td>4</td>\n",
              "      <td>50.00</td>\n",
              "      <td>50.00</td>\n",
              "    </tr>\n",
              "    <tr>\n",
              "      <th>1980</th>\n",
              "      <td>6</td>\n",
              "      <td>3</td>\n",
              "      <td>9</td>\n",
              "      <td>66.67</td>\n",
              "      <td>33.33</td>\n",
              "    </tr>\n",
              "    <tr>\n",
              "      <th>1981</th>\n",
              "      <td>5</td>\n",
              "      <td>1</td>\n",
              "      <td>6</td>\n",
              "      <td>83.33</td>\n",
              "      <td>16.67</td>\n",
              "    </tr>\n",
              "    <tr>\n",
              "      <th>1982</th>\n",
              "      <td>6</td>\n",
              "      <td>3</td>\n",
              "      <td>9</td>\n",
              "      <td>66.67</td>\n",
              "      <td>33.33</td>\n",
              "    </tr>\n",
              "    <tr>\n",
              "      <th>1983</th>\n",
              "      <td>2</td>\n",
              "      <td>2</td>\n",
              "      <td>4</td>\n",
              "      <td>50.00</td>\n",
              "      <td>50.00</td>\n",
              "    </tr>\n",
              "    <tr>\n",
              "      <th>1984</th>\n",
              "      <td>11</td>\n",
              "      <td>3</td>\n",
              "      <td>14</td>\n",
              "      <td>78.57</td>\n",
              "      <td>21.43</td>\n",
              "    </tr>\n",
              "    <tr>\n",
              "      <th>1985</th>\n",
              "      <td>6</td>\n",
              "      <td>3</td>\n",
              "      <td>9</td>\n",
              "      <td>66.67</td>\n",
              "      <td>33.33</td>\n",
              "    </tr>\n",
              "    <tr>\n",
              "      <th>1986</th>\n",
              "      <td>6</td>\n",
              "      <td>2</td>\n",
              "      <td>8</td>\n",
              "      <td>75.00</td>\n",
              "      <td>25.00</td>\n",
              "    </tr>\n",
              "    <tr>\n",
              "      <th>1987</th>\n",
              "      <td>9</td>\n",
              "      <td>2</td>\n",
              "      <td>11</td>\n",
              "      <td>81.82</td>\n",
              "      <td>18.18</td>\n",
              "    </tr>\n",
              "    <tr>\n",
              "      <th>1988</th>\n",
              "      <td>10</td>\n",
              "      <td>9</td>\n",
              "      <td>19</td>\n",
              "      <td>52.63</td>\n",
              "      <td>47.37</td>\n",
              "    </tr>\n",
              "    <tr>\n",
              "      <th>1989</th>\n",
              "      <td>8</td>\n",
              "      <td>4</td>\n",
              "      <td>12</td>\n",
              "      <td>66.67</td>\n",
              "      <td>33.33</td>\n",
              "    </tr>\n",
              "    <tr>\n",
              "      <th>1990</th>\n",
              "      <td>5</td>\n",
              "      <td>4</td>\n",
              "      <td>9</td>\n",
              "      <td>55.56</td>\n",
              "      <td>44.44</td>\n",
              "    </tr>\n",
              "    <tr>\n",
              "      <th>1991</th>\n",
              "      <td>7</td>\n",
              "      <td>5</td>\n",
              "      <td>12</td>\n",
              "      <td>58.33</td>\n",
              "      <td>41.67</td>\n",
              "    </tr>\n",
              "    <tr>\n",
              "      <th>1992</th>\n",
              "      <td>11</td>\n",
              "      <td>3</td>\n",
              "      <td>14</td>\n",
              "      <td>78.57</td>\n",
              "      <td>21.43</td>\n",
              "    </tr>\n",
              "    <tr>\n",
              "      <th>1993</th>\n",
              "      <td>7</td>\n",
              "      <td>6</td>\n",
              "      <td>13</td>\n",
              "      <td>53.85</td>\n",
              "      <td>46.15</td>\n",
              "    </tr>\n",
              "    <tr>\n",
              "      <th>1994</th>\n",
              "      <td>15</td>\n",
              "      <td>7</td>\n",
              "      <td>22</td>\n",
              "      <td>68.18</td>\n",
              "      <td>31.82</td>\n",
              "    </tr>\n",
              "    <tr>\n",
              "      <th>1995</th>\n",
              "      <td>15</td>\n",
              "      <td>16</td>\n",
              "      <td>31</td>\n",
              "      <td>48.39</td>\n",
              "      <td>51.61</td>\n",
              "    </tr>\n",
              "    <tr>\n",
              "      <th>1996</th>\n",
              "      <td>20</td>\n",
              "      <td>15</td>\n",
              "      <td>35</td>\n",
              "      <td>57.14</td>\n",
              "      <td>42.86</td>\n",
              "    </tr>\n",
              "    <tr>\n",
              "      <th>1997</th>\n",
              "      <td>19</td>\n",
              "      <td>23</td>\n",
              "      <td>42</td>\n",
              "      <td>45.24</td>\n",
              "      <td>54.76</td>\n",
              "    </tr>\n",
              "    <tr>\n",
              "      <th>1998</th>\n",
              "      <td>29</td>\n",
              "      <td>19</td>\n",
              "      <td>48</td>\n",
              "      <td>60.42</td>\n",
              "      <td>39.58</td>\n",
              "    </tr>\n",
              "    <tr>\n",
              "      <th>1999</th>\n",
              "      <td>31</td>\n",
              "      <td>21</td>\n",
              "      <td>52</td>\n",
              "      <td>59.62</td>\n",
              "      <td>40.38</td>\n",
              "    </tr>\n",
              "    <tr>\n",
              "      <th>2000</th>\n",
              "      <td>31</td>\n",
              "      <td>22</td>\n",
              "      <td>53</td>\n",
              "      <td>58.49</td>\n",
              "      <td>41.51</td>\n",
              "    </tr>\n",
              "    <tr>\n",
              "      <th>2001</th>\n",
              "      <td>24</td>\n",
              "      <td>28</td>\n",
              "      <td>52</td>\n",
              "      <td>46.15</td>\n",
              "      <td>53.85</td>\n",
              "    </tr>\n",
              "    <tr>\n",
              "      <th>2002</th>\n",
              "      <td>36</td>\n",
              "      <td>32</td>\n",
              "      <td>68</td>\n",
              "      <td>52.94</td>\n",
              "      <td>47.06</td>\n",
              "    </tr>\n",
              "    <tr>\n",
              "      <th>2003</th>\n",
              "      <td>25</td>\n",
              "      <td>32</td>\n",
              "      <td>57</td>\n",
              "      <td>43.86</td>\n",
              "      <td>56.14</td>\n",
              "    </tr>\n",
              "    <tr>\n",
              "      <th>2004</th>\n",
              "      <td>31</td>\n",
              "      <td>36</td>\n",
              "      <td>67</td>\n",
              "      <td>46.27</td>\n",
              "      <td>53.73</td>\n",
              "    </tr>\n",
              "    <tr>\n",
              "      <th>2005</th>\n",
              "      <td>39</td>\n",
              "      <td>46</td>\n",
              "      <td>85</td>\n",
              "      <td>45.88</td>\n",
              "      <td>54.12</td>\n",
              "    </tr>\n",
              "    <tr>\n",
              "      <th>2006</th>\n",
              "      <td>38</td>\n",
              "      <td>34</td>\n",
              "      <td>72</td>\n",
              "      <td>52.78</td>\n",
              "      <td>47.22</td>\n",
              "    </tr>\n",
              "    <tr>\n",
              "      <th>2007</th>\n",
              "      <td>28</td>\n",
              "      <td>35</td>\n",
              "      <td>63</td>\n",
              "      <td>44.44</td>\n",
              "      <td>55.56</td>\n",
              "    </tr>\n",
              "    <tr>\n",
              "      <th>2008</th>\n",
              "      <td>42</td>\n",
              "      <td>43</td>\n",
              "      <td>85</td>\n",
              "      <td>49.41</td>\n",
              "      <td>50.59</td>\n",
              "    </tr>\n",
              "    <tr>\n",
              "      <th>2009</th>\n",
              "      <td>73</td>\n",
              "      <td>36</td>\n",
              "      <td>109</td>\n",
              "      <td>66.97</td>\n",
              "      <td>33.03</td>\n",
              "    </tr>\n",
              "    <tr>\n",
              "      <th>2010</th>\n",
              "      <td>56</td>\n",
              "      <td>49</td>\n",
              "      <td>105</td>\n",
              "      <td>53.33</td>\n",
              "      <td>46.67</td>\n",
              "    </tr>\n",
              "    <tr>\n",
              "      <th>2011</th>\n",
              "      <td>61</td>\n",
              "      <td>46</td>\n",
              "      <td>107</td>\n",
              "      <td>57.01</td>\n",
              "      <td>42.99</td>\n",
              "    </tr>\n",
              "    <tr>\n",
              "      <th>2012</th>\n",
              "      <td>39</td>\n",
              "      <td>32</td>\n",
              "      <td>71</td>\n",
              "      <td>54.93</td>\n",
              "      <td>45.07</td>\n",
              "    </tr>\n",
              "    <tr>\n",
              "      <th>2013</th>\n",
              "      <td>42</td>\n",
              "      <td>37</td>\n",
              "      <td>79</td>\n",
              "      <td>53.16</td>\n",
              "      <td>46.84</td>\n",
              "    </tr>\n",
              "  </tbody>\n",
              "</table>\n",
              "</div>"
            ],
            "text/plain": [
              "binary  FAIL  PASS    n  FAIL_perc  PASS_perc\n",
              "year                                         \n",
              "1970       0     1    1       0.00     100.00\n",
              "1971       4     0    4     100.00       0.00\n",
              "1972       2     1    3      66.67      33.33\n",
              "1973       4     1    5      80.00      20.00\n",
              "1974       4     2    6      66.67      33.33\n",
              "1975       4     0    4     100.00       0.00\n",
              "1976       4     2    6      66.67      33.33\n",
              "1977       5     2    7      71.43      28.57\n",
              "1978       6     2    8      75.00      25.00\n",
              "1979       2     2    4      50.00      50.00\n",
              "1980       6     3    9      66.67      33.33\n",
              "1981       5     1    6      83.33      16.67\n",
              "1982       6     3    9      66.67      33.33\n",
              "1983       2     2    4      50.00      50.00\n",
              "1984      11     3   14      78.57      21.43\n",
              "1985       6     3    9      66.67      33.33\n",
              "1986       6     2    8      75.00      25.00\n",
              "1987       9     2   11      81.82      18.18\n",
              "1988      10     9   19      52.63      47.37\n",
              "1989       8     4   12      66.67      33.33\n",
              "1990       5     4    9      55.56      44.44\n",
              "1991       7     5   12      58.33      41.67\n",
              "1992      11     3   14      78.57      21.43\n",
              "1993       7     6   13      53.85      46.15\n",
              "1994      15     7   22      68.18      31.82\n",
              "1995      15    16   31      48.39      51.61\n",
              "1996      20    15   35      57.14      42.86\n",
              "1997      19    23   42      45.24      54.76\n",
              "1998      29    19   48      60.42      39.58\n",
              "1999      31    21   52      59.62      40.38\n",
              "2000      31    22   53      58.49      41.51\n",
              "2001      24    28   52      46.15      53.85\n",
              "2002      36    32   68      52.94      47.06\n",
              "2003      25    32   57      43.86      56.14\n",
              "2004      31    36   67      46.27      53.73\n",
              "2005      39    46   85      45.88      54.12\n",
              "2006      38    34   72      52.78      47.22\n",
              "2007      28    35   63      44.44      55.56\n",
              "2008      42    43   85      49.41      50.59\n",
              "2009      73    36  109      66.97      33.03\n",
              "2010      56    49  105      53.33      46.67\n",
              "2011      61    46  107      57.01      42.99\n",
              "2012      39    32   71      54.93      45.07\n",
              "2013      42    37   79      53.16      46.84"
            ]
          },
          "metadata": {
            "tags": []
          },
          "execution_count": 17
        }
      ]
    },
    {
      "cell_type": "code",
      "metadata": {
        "id": "ocHF-Fx3pP96"
      },
      "source": [
        "# converter 'binary' em 0 e 1\n",
        "df['binary'] = df['binary'].map({'PASS': 1, 'FAIL': 0})"
      ],
      "execution_count": 18,
      "outputs": []
    },
    {
      "cell_type": "markdown",
      "metadata": {
        "id": "QNXMpQH50SKW"
      },
      "source": [
        "## Top Movies"
      ]
    },
    {
      "cell_type": "code",
      "metadata": {
        "colab": {
          "base_uri": "https://localhost:8080/"
        },
        "id": "DLvmfRzB4DYG",
        "outputId": "b24a9b7b-ccbe-433f-b3fe-710f130ae990"
      },
      "source": [
        "col_budget = 'budget_2013'\n",
        "col_domgross = 'domgross_2013'\n",
        "col_intgross = 'intgross_2013'\n",
        "\n",
        "features_num = [col_budget, col_domgross, col_intgross]\n",
        "features_num"
      ],
      "execution_count": 19,
      "outputs": [
        {
          "output_type": "execute_result",
          "data": {
            "text/plain": [
              "['budget_2013', 'domgross_2013', 'intgross_2013']"
            ]
          },
          "metadata": {
            "tags": []
          },
          "execution_count": 19
        }
      ]
    },
    {
      "cell_type": "code",
      "metadata": {
        "id": "HZnv3Mwn0Nq9"
      },
      "source": [
        "n_top = 20\n",
        "show_cols = ['year',  'binary'] + features_num"
      ],
      "execution_count": 20,
      "outputs": []
    },
    {
      "cell_type": "markdown",
      "metadata": {
        "id": "HLomxRn_3btd"
      },
      "source": [
        "### Os Top 20 por investimento (By Budget)"
      ]
    },
    {
      "cell_type": "code",
      "metadata": {
        "colab": {
          "base_uri": "https://localhost:8080/",
          "height": 669
        },
        "id": "Q9q-7MuI3apM",
        "outputId": "01087443-2c75-45b3-f861-85c461f50f68"
      },
      "source": [
        "df_top_b = df.nlargest(columns=[col_budget], n=n_top)\n",
        "df_top_b[show_cols]"
      ],
      "execution_count": 21,
      "outputs": [
        {
          "output_type": "execute_result",
          "data": {
            "text/html": [
              "<div>\n",
              "<style scoped>\n",
              "    .dataframe tbody tr th:only-of-type {\n",
              "        vertical-align: middle;\n",
              "    }\n",
              "\n",
              "    .dataframe tbody tr th {\n",
              "        vertical-align: top;\n",
              "    }\n",
              "\n",
              "    .dataframe thead th {\n",
              "        text-align: right;\n",
              "    }\n",
              "</style>\n",
              "<table border=\"1\" class=\"dataframe\">\n",
              "  <thead>\n",
              "    <tr style=\"text-align: right;\">\n",
              "      <th></th>\n",
              "      <th>year</th>\n",
              "      <th>binary</th>\n",
              "      <th>budget_2013</th>\n",
              "      <th>domgross_2013</th>\n",
              "      <th>intgross_2013</th>\n",
              "    </tr>\n",
              "  </thead>\n",
              "  <tbody>\n",
              "    <tr>\n",
              "      <th>106</th>\n",
              "      <td>2009</td>\n",
              "      <td>0</td>\n",
              "      <td>461435929</td>\n",
              "      <td>825707158.0</td>\n",
              "      <td>3.022589e+09</td>\n",
              "    </tr>\n",
              "    <tr>\n",
              "      <th>6</th>\n",
              "      <td>2007</td>\n",
              "      <td>1</td>\n",
              "      <td>337063045</td>\n",
              "      <td>347647302.0</td>\n",
              "      <td>1.079721e+09</td>\n",
              "    </tr>\n",
              "    <tr>\n",
              "      <th>131</th>\n",
              "      <td>1971</td>\n",
              "      <td>0</td>\n",
              "      <td>305063707</td>\n",
              "      <td>404702718.0</td>\n",
              "      <td>6.168270e+08</td>\n",
              "    </tr>\n",
              "    <tr>\n",
              "      <th>1324</th>\n",
              "      <td>1997</td>\n",
              "      <td>1</td>\n",
              "      <td>290247625</td>\n",
              "      <td>955890356.0</td>\n",
              "      <td>3.171931e+09</td>\n",
              "    </tr>\n",
              "    <tr>\n",
              "      <th>987</th>\n",
              "      <td>2012</td>\n",
              "      <td>0</td>\n",
              "      <td>279025606</td>\n",
              "      <td>454699213.0</td>\n",
              "      <td>1.095144e+09</td>\n",
              "    </tr>\n",
              "    <tr>\n",
              "      <th>1377</th>\n",
              "      <td>2012</td>\n",
              "      <td>1</td>\n",
              "      <td>279025606</td>\n",
              "      <td>74128153.0</td>\n",
              "      <td>2.869176e+08</td>\n",
              "    </tr>\n",
              "    <tr>\n",
              "      <th>248</th>\n",
              "      <td>2010</td>\n",
              "      <td>1</td>\n",
              "      <td>277740279</td>\n",
              "      <td>214524387.0</td>\n",
              "      <td>6.266055e+08</td>\n",
              "    </tr>\n",
              "    <tr>\n",
              "      <th>1119</th>\n",
              "      <td>2009</td>\n",
              "      <td>1</td>\n",
              "      <td>271432899</td>\n",
              "      <td>327846641.0</td>\n",
              "      <td>1.014526e+09</td>\n",
              "    </tr>\n",
              "    <tr>\n",
              "      <th>154</th>\n",
              "      <td>2006</td>\n",
              "      <td>0</td>\n",
              "      <td>268144752</td>\n",
              "      <td>231297965.0</td>\n",
              "      <td>4.517707e+08</td>\n",
              "    </tr>\n",
              "    <tr>\n",
              "      <th>460</th>\n",
              "      <td>1995</td>\n",
              "      <td>0</td>\n",
              "      <td>267536405</td>\n",
              "      <td>134909008.0</td>\n",
              "      <td>4.039742e+08</td>\n",
              "    </tr>\n",
              "    <tr>\n",
              "      <th>799</th>\n",
              "      <td>2011</td>\n",
              "      <td>0</td>\n",
              "      <td>258922697</td>\n",
              "      <td>249667634.0</td>\n",
              "      <td>1.080913e+09</td>\n",
              "    </tr>\n",
              "    <tr>\n",
              "      <th>374</th>\n",
              "      <td>2012</td>\n",
              "      <td>0</td>\n",
              "      <td>253659641</td>\n",
              "      <td>307439106.0</td>\n",
              "      <td>1.029557e+09</td>\n",
              "    </tr>\n",
              "    <tr>\n",
              "      <th>1463</th>\n",
              "      <td>2013</td>\n",
              "      <td>0</td>\n",
              "      <td>250000000</td>\n",
              "      <td>257397516.0</td>\n",
              "      <td>9.373975e+08</td>\n",
              "    </tr>\n",
              "    <tr>\n",
              "      <th>618</th>\n",
              "      <td>2008</td>\n",
              "      <td>0</td>\n",
              "      <td>248918952</td>\n",
              "      <td>183300049.0</td>\n",
              "      <td>6.403625e+08</td>\n",
              "    </tr>\n",
              "    <tr>\n",
              "      <th>725</th>\n",
              "      <td>2005</td>\n",
              "      <td>0</td>\n",
              "      <td>246957858</td>\n",
              "      <td>260176695.0</td>\n",
              "      <td>6.567854e+08</td>\n",
              "    </tr>\n",
              "    <tr>\n",
              "      <th>558</th>\n",
              "      <td>2004</td>\n",
              "      <td>0</td>\n",
              "      <td>246638575</td>\n",
              "      <td>460627734.0</td>\n",
              "      <td>9.664594e+08</td>\n",
              "    </tr>\n",
              "    <tr>\n",
              "      <th>721</th>\n",
              "      <td>1987</td>\n",
              "      <td>0</td>\n",
              "      <td>246047687</td>\n",
              "      <td>112289613.0</td>\n",
              "      <td>4.543216e+08</td>\n",
              "    </tr>\n",
              "    <tr>\n",
              "      <th>526</th>\n",
              "      <td>1999</td>\n",
              "      <td>0</td>\n",
              "      <td>244730855</td>\n",
              "      <td>159152923.0</td>\n",
              "      <td>3.093808e+08</td>\n",
              "    </tr>\n",
              "    <tr>\n",
              "      <th>923</th>\n",
              "      <td>2008</td>\n",
              "      <td>1</td>\n",
              "      <td>243507670</td>\n",
              "      <td>153270751.0</td>\n",
              "      <td>4.539960e+08</td>\n",
              "    </tr>\n",
              "    <tr>\n",
              "      <th>945</th>\n",
              "      <td>2006</td>\n",
              "      <td>1</td>\n",
              "      <td>242717233</td>\n",
              "      <td>270875277.0</td>\n",
              "      <td>5.309261e+08</td>\n",
              "    </tr>\n",
              "  </tbody>\n",
              "</table>\n",
              "</div>"
            ],
            "text/plain": [
              "      year  binary  budget_2013  domgross_2013  intgross_2013\n",
              "106   2009       0    461435929    825707158.0   3.022589e+09\n",
              "6     2007       1    337063045    347647302.0   1.079721e+09\n",
              "131   1971       0    305063707    404702718.0   6.168270e+08\n",
              "1324  1997       1    290247625    955890356.0   3.171931e+09\n",
              "987   2012       0    279025606    454699213.0   1.095144e+09\n",
              "1377  2012       1    279025606     74128153.0   2.869176e+08\n",
              "248   2010       1    277740279    214524387.0   6.266055e+08\n",
              "1119  2009       1    271432899    327846641.0   1.014526e+09\n",
              "154   2006       0    268144752    231297965.0   4.517707e+08\n",
              "460   1995       0    267536405    134909008.0   4.039742e+08\n",
              "799   2011       0    258922697    249667634.0   1.080913e+09\n",
              "374   2012       0    253659641    307439106.0   1.029557e+09\n",
              "1463  2013       0    250000000    257397516.0   9.373975e+08\n",
              "618   2008       0    248918952    183300049.0   6.403625e+08\n",
              "725   2005       0    246957858    260176695.0   6.567854e+08\n",
              "558   2004       0    246638575    460627734.0   9.664594e+08\n",
              "721   1987       0    246047687    112289613.0   4.543216e+08\n",
              "526   1999       0    244730855    159152923.0   3.093808e+08\n",
              "923   2008       1    243507670    153270751.0   4.539960e+08\n",
              "945   2006       1    242717233    270875277.0   5.309261e+08"
            ]
          },
          "metadata": {
            "tags": []
          },
          "execution_count": 21
        }
      ]
    },
    {
      "cell_type": "markdown",
      "metadata": {
        "id": "6MQZbT_O0w77"
      },
      "source": [
        "## Criando nosso modelo"
      ]
    },
    {
      "cell_type": "code",
      "metadata": {
        "id": "duImjAZYXmDU"
      },
      "source": [
        "df.drop(columns='imdb',axis = 1,inplace=True)\n"
      ],
      "execution_count": 22,
      "outputs": []
    },
    {
      "cell_type": "code",
      "metadata": {
        "colab": {
          "base_uri": "https://localhost:8080/",
          "height": 204
        },
        "id": "TAJu6fWwX6nm",
        "outputId": "bee64010-5f7f-4b11-da17-1a86af309e0c"
      },
      "source": [
        "df.head()"
      ],
      "execution_count": 23,
      "outputs": [
        {
          "output_type": "execute_result",
          "data": {
            "text/html": [
              "<div>\n",
              "<style scoped>\n",
              "    .dataframe tbody tr th:only-of-type {\n",
              "        vertical-align: middle;\n",
              "    }\n",
              "\n",
              "    .dataframe tbody tr th {\n",
              "        vertical-align: top;\n",
              "    }\n",
              "\n",
              "    .dataframe thead th {\n",
              "        text-align: right;\n",
              "    }\n",
              "</style>\n",
              "<table border=\"1\" class=\"dataframe\">\n",
              "  <thead>\n",
              "    <tr style=\"text-align: right;\">\n",
              "      <th></th>\n",
              "      <th>year</th>\n",
              "      <th>budget</th>\n",
              "      <th>domgross</th>\n",
              "      <th>intgross</th>\n",
              "      <th>budget_2013</th>\n",
              "      <th>domgross_2013</th>\n",
              "      <th>intgross_2013</th>\n",
              "      <th>binary</th>\n",
              "    </tr>\n",
              "  </thead>\n",
              "  <tbody>\n",
              "    <tr>\n",
              "      <th>0</th>\n",
              "      <td>1974</td>\n",
              "      <td>13000000</td>\n",
              "      <td>57300000.0</td>\n",
              "      <td>57300000.0</td>\n",
              "      <td>61408439</td>\n",
              "      <td>270669505.0</td>\n",
              "      <td>270669505.0</td>\n",
              "      <td>1</td>\n",
              "    </tr>\n",
              "    <tr>\n",
              "      <th>1</th>\n",
              "      <td>1982</td>\n",
              "      <td>10700000</td>\n",
              "      <td>74706019.0</td>\n",
              "      <td>121706019.0</td>\n",
              "      <td>25821968</td>\n",
              "      <td>180285645.0</td>\n",
              "      <td>293709241.0</td>\n",
              "      <td>1</td>\n",
              "    </tr>\n",
              "    <tr>\n",
              "      <th>2</th>\n",
              "      <td>2008</td>\n",
              "      <td>15000000</td>\n",
              "      <td>2203641.0</td>\n",
              "      <td>6379575.0</td>\n",
              "      <td>16233845</td>\n",
              "      <td>2384904.0</td>\n",
              "      <td>6904335.0</td>\n",
              "      <td>1</td>\n",
              "    </tr>\n",
              "    <tr>\n",
              "      <th>3</th>\n",
              "      <td>2011</td>\n",
              "      <td>12000000</td>\n",
              "      <td>16311571.0</td>\n",
              "      <td>22750356.0</td>\n",
              "      <td>12428289</td>\n",
              "      <td>16893744.0</td>\n",
              "      <td>23562334.0</td>\n",
              "      <td>1</td>\n",
              "    </tr>\n",
              "    <tr>\n",
              "      <th>4</th>\n",
              "      <td>2000</td>\n",
              "      <td>26000000</td>\n",
              "      <td>45506619.0</td>\n",
              "      <td>75763814.0</td>\n",
              "      <td>35175618</td>\n",
              "      <td>61566286.0</td>\n",
              "      <td>102501499.0</td>\n",
              "      <td>0</td>\n",
              "    </tr>\n",
              "  </tbody>\n",
              "</table>\n",
              "</div>"
            ],
            "text/plain": [
              "   year    budget    domgross  ...  domgross_2013  intgross_2013  binary\n",
              "0  1974  13000000  57300000.0  ...    270669505.0    270669505.0       1\n",
              "1  1982  10700000  74706019.0  ...    180285645.0    293709241.0       1\n",
              "2  2008  15000000   2203641.0  ...      2384904.0      6904335.0       1\n",
              "3  2011  12000000  16311571.0  ...     16893744.0     23562334.0       1\n",
              "4  2000  26000000  45506619.0  ...     61566286.0    102501499.0       0\n",
              "\n",
              "[5 rows x 8 columns]"
            ]
          },
          "metadata": {
            "tags": []
          },
          "execution_count": 23
        }
      ]
    },
    {
      "cell_type": "code",
      "metadata": {
        "id": "98mdY8IbVCws"
      },
      "source": [
        "# separando as variáveis independentes da variável alvo\n",
        "# X todas as colunas sem a coluna 'target_default\n",
        "# y apenas a coluna 'target_default\n",
        "\n",
        "X = df.drop(columns='binary', axis=1)\n",
        "y = df['binary']"
      ],
      "execution_count": 24,
      "outputs": []
    },
    {
      "cell_type": "code",
      "metadata": {
        "id": "bdvLMpuhVC0U"
      },
      "source": [
        "# importando o modelo de seleção - KFold\n",
        "from sklearn.model_selection import KFold\n",
        "\n",
        "# importando nossas metricas\n",
        "from sklearn.metrics import accuracy_score\n",
        "\n",
        "# importando nosso modelo de machine learning - XGBoost\n",
        "from xgboost import XGBClassifier\n",
        "\n",
        "# importando nossa biblioteca de funções matemáticas\n",
        "import numpy as np"
      ],
      "execution_count": 25,
      "outputs": []
    },
    {
      "cell_type": "markdown",
      "metadata": {
        "id": "EkDNZHom05gy"
      },
      "source": [
        "## Verificando nossa métrica com XGBClassifier"
      ]
    },
    {
      "cell_type": "code",
      "metadata": {
        "colab": {
          "base_uri": "https://localhost:8080/"
        },
        "id": "Y-3IUOwXVC3q",
        "outputId": "11845c10-1f10-4144-b318-8df971122712"
      },
      "source": [
        "# Verificando nossa métrica com XGBClassifier\n",
        "# Com 5 repetições para cada divisão dos dados em 3 splits\n",
        "\n",
        "resultados = []\n",
        "for rep in range(5):\n",
        "  print ('Repetição :',rep)\n",
        "  kf = KFold(n_splits=3, shuffle=True, random_state = rep)\n",
        "  \n",
        "  for linhas_treino, linhas_teste in kf.split(X):\n",
        "    print('Treino :', linhas_treino.shape[0])\n",
        "    print('Teste :', linhas_teste.shape[0])\n",
        "\n",
        "    X_train, X_test = X.iloc[linhas_treino], X.iloc[linhas_teste]\n",
        "    y_train, y_test = y.iloc[linhas_treino], y.iloc[linhas_teste]\n",
        "\n",
        "    ml_model = XGBClassifier(learning_rate=0.1, \n",
        "                             n_estimators=100, \n",
        "                             max_depth=3, subsample=1.0, \n",
        "                             colsample_bytree=1.0, gamma=1, \n",
        "                             random_state=0, n_jobs=1) # 84.84\n",
        "    ml_model.fit(X_train, y_train)\n",
        "\n",
        "    p = ml_model.predict(X_test)\n",
        "\n",
        "    acc = np.mean(y_test == p)\n",
        "\n",
        "    resultados.append(acc)\n",
        "\n",
        "    print()\n",
        "    print('Acurácia',acc)\n",
        "    print()"
      ],
      "execution_count": 26,
      "outputs": [
        {
          "output_type": "stream",
          "text": [
            "Repetição : 0\n",
            "Treino : 1000\n",
            "Teste : 500\n",
            "\n",
            "Acurácia 0.556\n",
            "\n",
            "Treino : 1000\n",
            "Teste : 500\n",
            "\n",
            "Acurácia 0.572\n",
            "\n",
            "Treino : 1000\n",
            "Teste : 500\n",
            "\n",
            "Acurácia 0.578\n",
            "\n",
            "Repetição : 1\n",
            "Treino : 1000\n",
            "Teste : 500\n",
            "\n",
            "Acurácia 0.54\n",
            "\n",
            "Treino : 1000\n",
            "Teste : 500\n",
            "\n",
            "Acurácia 0.55\n",
            "\n",
            "Treino : 1000\n",
            "Teste : 500\n",
            "\n",
            "Acurácia 0.552\n",
            "\n",
            "Repetição : 2\n",
            "Treino : 1000\n",
            "Teste : 500\n",
            "\n",
            "Acurácia 0.534\n",
            "\n",
            "Treino : 1000\n",
            "Teste : 500\n",
            "\n",
            "Acurácia 0.536\n",
            "\n",
            "Treino : 1000\n",
            "Teste : 500\n",
            "\n",
            "Acurácia 0.592\n",
            "\n",
            "Repetição : 3\n",
            "Treino : 1000\n",
            "Teste : 500\n",
            "\n",
            "Acurácia 0.554\n",
            "\n",
            "Treino : 1000\n",
            "Teste : 500\n",
            "\n",
            "Acurácia 0.566\n",
            "\n",
            "Treino : 1000\n",
            "Teste : 500\n",
            "\n",
            "Acurácia 0.558\n",
            "\n",
            "Repetição : 4\n",
            "Treino : 1000\n",
            "Teste : 500\n",
            "\n",
            "Acurácia 0.544\n",
            "\n",
            "Treino : 1000\n",
            "Teste : 500\n",
            "\n",
            "Acurácia 0.592\n",
            "\n",
            "Treino : 1000\n",
            "Teste : 500\n",
            "\n",
            "Acurácia 0.548\n",
            "\n"
          ],
          "name": "stdout"
        }
      ]
    },
    {
      "cell_type": "code",
      "metadata": {
        "colab": {
          "base_uri": "https://localhost:8080/"
        },
        "id": "He5a0qDXYdi3",
        "outputId": "e022df58-6aed-4edc-881a-f5e3aba857d1"
      },
      "source": [
        "# Nossa acurácia média\n",
        "np.mean(resultados)"
      ],
      "execution_count": 27,
      "outputs": [
        {
          "output_type": "execute_result",
          "data": {
            "text/plain": [
              "0.5581333333333334"
            ]
          },
          "metadata": {
            "tags": []
          },
          "execution_count": 27
        }
      ]
    },
    {
      "cell_type": "markdown",
      "metadata": {
        "id": "P5eok0ABsfFf"
      },
      "source": [
        "## Regressão Logistica"
      ]
    },
    {
      "cell_type": "code",
      "metadata": {
        "id": "eq6n502qsdzR"
      },
      "source": [
        "# importar bibliotecas do modelo de Machine Learning\n",
        "from sklearn.linear_model import LogisticRegression\n",
        "from sklearn.tree import DecisionTreeClassifier"
      ],
      "execution_count": 28,
      "outputs": []
    },
    {
      "cell_type": "code",
      "metadata": {
        "colab": {
          "base_uri": "https://localhost:8080/"
        },
        "id": "EeHlqgqasm0M",
        "outputId": "a5c1f0d2-3cf3-425e-f2f2-b2a92eaa6e1d"
      },
      "source": [
        "# criar um modelo de Regressão Logística\n",
        "lr_model = LogisticRegression(solver='liblinear')\n",
        "lr_model.fit(X, y)\n",
        "\n",
        "# verificar a acurácia do modelo\n",
        "acc_logReg = round(lr_model.score(X, y) * 100, 2)\n",
        "print(\"Acurácia do modelo de Regressão Logística: {}\".format(acc_logReg))"
      ],
      "execution_count": 29,
      "outputs": [
        {
          "output_type": "stream",
          "text": [
            "Acurácia do modelo de Regressão Logística: 57.27\n"
          ],
          "name": "stdout"
        }
      ]
    },
    {
      "cell_type": "markdown",
      "metadata": {
        "id": "jNXergz61RsM"
      },
      "source": [
        "## Decision Tree"
      ]
    },
    {
      "cell_type": "code",
      "metadata": {
        "colab": {
          "base_uri": "https://localhost:8080/"
        },
        "id": "OavBPryw1Qwh",
        "outputId": "5bdd0f71-4516-4e71-91e3-1c86a6d52f46"
      },
      "source": [
        "# criar um modelo de árvore de decisão\n",
        "tree_model = DecisionTreeClassifier(max_depth=3)\n",
        "tree_model.fit(X, y)\n",
        "\n",
        "# verificar a acurácia do modelo\n",
        "acc_tree = round(tree_model.score(X, y) * 100, 2)\n",
        "print(\"Acurácia do modelo de Árvore de Decisão: {}\".format(acc_tree))"
      ],
      "execution_count": 30,
      "outputs": [
        {
          "output_type": "stream",
          "text": [
            "Acurácia do modelo de Árvore de Decisão: 59.73\n"
          ],
          "name": "stdout"
        }
      ]
    },
    {
      "cell_type": "markdown",
      "metadata": {
        "id": "oc9bFVOP2i-T"
      },
      "source": [
        "# Gerando nosso resultado"
      ]
    },
    {
      "cell_type": "code",
      "metadata": {
        "id": "RpnGf0UJtO4Y"
      },
      "source": [
        "# Importando o arquivo de teste\n",
        "df_test = pd.read_csv('/content/test.csv')"
      ],
      "execution_count": 31,
      "outputs": []
    },
    {
      "cell_type": "code",
      "metadata": {
        "id": "RAS5msZmxgRs"
      },
      "source": [
        "# Removendo a coluna imdb\n",
        "df_test.drop(columns='imdb', axis=1, inplace=True)"
      ],
      "execution_count": 32,
      "outputs": []
    },
    {
      "cell_type": "code",
      "metadata": {
        "id": "Y_JJcNAkyPoq"
      },
      "source": [
        "# Tratando os valores nulos\n",
        "df_test['budget'].fillna(df_test['budget'].mean(), inplace = True)\n",
        "df_test['domgross'].fillna(df_test['domgross'].mean(), inplace = True)\n",
        "df_test['intgross'].fillna(df_test['intgross'].median(), inplace = True)\n",
        "df_test['budget_2013'].fillna(df_test['budget_2013'].median(), inplace = True)\n",
        "df_test['domgross_2013'].fillna(df_test['domgross_2013'].median(), inplace = True)\n",
        "df_test['intgross_2013'].fillna(df_test['intgross_2013'].median(), inplace = True)"
      ],
      "execution_count": 33,
      "outputs": []
    },
    {
      "cell_type": "code",
      "metadata": {
        "colab": {
          "base_uri": "https://localhost:8080/",
          "height": 204
        },
        "id": "Q337InkIxU-2",
        "outputId": "dbdd71ef-b7d7-4bcc-f953-e6e12a774777"
      },
      "source": [
        "# Nossos dados tratados\n",
        "df_test.head()"
      ],
      "execution_count": 34,
      "outputs": [
        {
          "output_type": "execute_result",
          "data": {
            "text/html": [
              "<div>\n",
              "<style scoped>\n",
              "    .dataframe tbody tr th:only-of-type {\n",
              "        vertical-align: middle;\n",
              "    }\n",
              "\n",
              "    .dataframe tbody tr th {\n",
              "        vertical-align: top;\n",
              "    }\n",
              "\n",
              "    .dataframe thead th {\n",
              "        text-align: right;\n",
              "    }\n",
              "</style>\n",
              "<table border=\"1\" class=\"dataframe\">\n",
              "  <thead>\n",
              "    <tr style=\"text-align: right;\">\n",
              "      <th></th>\n",
              "      <th>year</th>\n",
              "      <th>budget</th>\n",
              "      <th>domgross</th>\n",
              "      <th>intgross</th>\n",
              "      <th>budget_2013</th>\n",
              "      <th>domgross_2013</th>\n",
              "      <th>intgross_2013</th>\n",
              "    </tr>\n",
              "  </thead>\n",
              "  <tbody>\n",
              "    <tr>\n",
              "      <th>0</th>\n",
              "      <td>2013</td>\n",
              "      <td>50000000</td>\n",
              "      <td>19452138.0</td>\n",
              "      <td>55940671.0</td>\n",
              "      <td>50000000</td>\n",
              "      <td>19452138.0</td>\n",
              "      <td>55940671.0</td>\n",
              "    </tr>\n",
              "    <tr>\n",
              "      <th>1</th>\n",
              "      <td>2013</td>\n",
              "      <td>40000000</td>\n",
              "      <td>57012977.0</td>\n",
              "      <td>66454811.0</td>\n",
              "      <td>40000000</td>\n",
              "      <td>57012977.0</td>\n",
              "      <td>66454811.0</td>\n",
              "    </tr>\n",
              "    <tr>\n",
              "      <th>2</th>\n",
              "      <td>2013</td>\n",
              "      <td>70000000</td>\n",
              "      <td>25213103.0</td>\n",
              "      <td>103813103.0</td>\n",
              "      <td>70000000</td>\n",
              "      <td>25213103.0</td>\n",
              "      <td>103813103.0</td>\n",
              "    </tr>\n",
              "    <tr>\n",
              "      <th>3</th>\n",
              "      <td>2013</td>\n",
              "      <td>195000000</td>\n",
              "      <td>65187603.0</td>\n",
              "      <td>197387603.0</td>\n",
              "      <td>195000000</td>\n",
              "      <td>65187603.0</td>\n",
              "      <td>197387603.0</td>\n",
              "    </tr>\n",
              "    <tr>\n",
              "      <th>4</th>\n",
              "      <td>2013</td>\n",
              "      <td>28000000</td>\n",
              "      <td>28795985.0</td>\n",
              "      <td>60839197.0</td>\n",
              "      <td>28000000</td>\n",
              "      <td>28795985.0</td>\n",
              "      <td>60839197.0</td>\n",
              "    </tr>\n",
              "  </tbody>\n",
              "</table>\n",
              "</div>"
            ],
            "text/plain": [
              "   year     budget    domgross  ...  budget_2013  domgross_2013  intgross_2013\n",
              "0  2013   50000000  19452138.0  ...     50000000     19452138.0     55940671.0\n",
              "1  2013   40000000  57012977.0  ...     40000000     57012977.0     66454811.0\n",
              "2  2013   70000000  25213103.0  ...     70000000     25213103.0    103813103.0\n",
              "3  2013  195000000  65187603.0  ...    195000000     65187603.0    197387603.0\n",
              "4  2013   28000000  28795985.0  ...     28000000     28795985.0     60839197.0\n",
              "\n",
              "[5 rows x 7 columns]"
            ]
          },
          "metadata": {
            "tags": []
          },
          "execution_count": 34
        }
      ]
    },
    {
      "cell_type": "code",
      "metadata": {
        "id": "lPVFe5oK1ium"
      },
      "source": [
        "# Salvando nossos resultos de predição com Decision Tree\n",
        "y_pred_lr = tree_model.predict(df_test)\n",
        "\n",
        "submission = pd.DataFrame({\n",
        "    \"Resultado\": y_pred_lr\n",
        "})\n",
        "\n",
        "# gerar arquivo csv\n",
        "submission.to_csv('./Tree_model_submission_lr.csv', index=False)"
      ],
      "execution_count": 35,
      "outputs": []
    },
    {
      "cell_type": "code",
      "metadata": {
        "colab": {
          "base_uri": "https://localhost:8080/"
        },
        "id": "qrDagQMwytHF",
        "outputId": "d6446135-9797-4b3a-a7c3-0c6c0e69a830"
      },
      "source": [
        "y_pred_lr"
      ],
      "execution_count": 36,
      "outputs": [
        {
          "output_type": "execute_result",
          "data": {
            "text/plain": [
              "array([1, 1, 0, 0, 1, 1, 0, 0, 0, 1, 1, 1, 1, 1, 1, 1, 0, 1, 1, 0, 1, 1,\n",
              "       1, 1, 1, 1, 1, 1, 1, 1, 0, 1, 1, 1, 1, 1, 1, 0, 1, 1, 0, 0, 1, 1,\n",
              "       1, 0, 1, 1, 1, 1, 1, 1, 1, 1, 1, 1, 0, 0, 1, 1, 1, 0, 0, 0, 1, 1,\n",
              "       1, 1, 1, 0, 0, 0, 1, 1, 1, 0, 1, 1, 1, 1, 1, 1, 1, 1, 1, 1, 1, 1,\n",
              "       0, 1, 0, 1, 1, 1, 0, 1, 1, 1, 0, 1, 1, 1, 1, 1, 1, 0, 1, 1, 1, 1,\n",
              "       1, 0, 1, 1, 1, 1, 0, 1, 0, 1, 0, 1, 1, 0, 0, 1, 1, 1, 1, 1, 1, 1,\n",
              "       0, 1, 1, 1, 1, 1, 1, 1, 1, 1, 0, 1, 1, 0, 1, 1, 1, 0, 0, 1, 1, 1,\n",
              "       1, 0, 1, 1, 1, 1, 0, 0, 1, 0, 0, 1, 0, 1, 0, 0, 0, 1, 1, 1, 1, 1,\n",
              "       1, 0, 1, 0, 1, 1, 1, 1, 0, 1, 0, 0, 0, 0, 1, 0, 1, 1, 1, 0, 1, 0,\n",
              "       0, 1, 1, 1, 1, 0, 1, 1, 1, 0, 1, 0, 1, 1, 0, 1, 1, 0, 0, 1, 1, 1,\n",
              "       0, 0, 0, 1, 0, 0, 0, 1, 1, 1, 0, 0, 1, 0, 1, 1, 1, 0, 1, 0, 1, 1,\n",
              "       1, 0, 1, 1, 1, 0, 1, 1, 1, 0, 1, 1, 1, 1, 1, 1, 1, 1, 1, 1, 1, 1,\n",
              "       0, 0, 0, 0, 0, 0, 1, 1, 0, 0, 1, 0, 0, 1, 0, 0, 0, 1, 0, 0, 0, 1,\n",
              "       0, 0, 0, 0, 0, 0, 1, 1])"
            ]
          },
          "metadata": {
            "tags": []
          },
          "execution_count": 36
        }
      ]
    },
    {
      "cell_type": "code",
      "metadata": {
        "id": "DWvVVWyZ3iHf"
      },
      "source": [
        ""
      ],
      "execution_count": null,
      "outputs": []
    }
  ]
}