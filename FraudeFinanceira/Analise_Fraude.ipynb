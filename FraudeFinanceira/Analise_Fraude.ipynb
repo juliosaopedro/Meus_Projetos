{
  "nbformat": 4,
  "nbformat_minor": 0,
  "metadata": {
    "colab": {
      "name": "Analise_Fraude.ipynb",
      "provenance": []
    },
    "kernelspec": {
      "name": "python3",
      "display_name": "Python 3"
    }
  },
  "cells": [
    {
      "cell_type": "markdown",
      "metadata": {
        "id": "iqkcF4TiIByU"
      },
      "source": [
        "<h1> <b> Análise de Fraude Financeira </b> </h1>\n",
        "\n",
        "<h2> Empresa Blocker Fraud Company </h2> \n",
        "\n",
        "Empresa especializada na detecção de fraudes em transações financeiras feitas através de dispositivos móveis. A empresa tem um serviço chamado “Blocker Fraud” no qual garante o bloqueio de transações fraudulentas.\n",
        "\n",
        "E o modelo de negócio da empresa é do tipo Serviço com a monetização feita por performance do serviço prestado, ou seja, o usuário paga uma taxa fixa sobre o sucesso na detecção de fraude das transações do cliente.\n",
        "\n",
        "Porém, a Blocker Fraud Company está em fase de expansão no Brasil e para adquirir clientes mais rapidamente, ela adotou uma estratégia muito agressiva. A estratégia funciona da seguinte forma:\n",
        "\n",
        "- A empresa vai receber 25% do valor de cada transação detectada verdadeiramente como fraude.\n",
        "- A empresa vai receber 5% do valor de cada transação detectada como fraude, porém a transação é verdadeiramente legítima.\n",
        "- A empresa vai devolver 100% do valor para o cliente, a cada transação detectada como legítima, porém a transação é verdadeiramente uma fraude.\n",
        "\n",
        "Com essa estratégia agressiva a empresa assume os riscos em falhar na detecção de fraude e é remunerada na detecção assertiva das fraudes.\n",
        "\n",
        "Para o cliente, é um excelente negócio contratar a Blocker Fraud Company. Apesar da taxa cobrada ser muito alta sobre o sucesso, 25%, a empresa reduz seus custos com transações fraudulentas detectadas corretamente e ainda o prejuízo causado por um erro do serviço de anti-fraude será coberto pela própria Blocker Fraud Company.\n",
        "\n",
        "Para a empresa, além de conseguir muitos clientes com essa estratégia arriscada em garantir o reembolso no caso de uma falha na detecção de fraude do cliente, ela depende somente da precisão e da acurácia dos modelos construídos pelos seus Cientistas de Dados, ou seja, quanto mais preciso for o modelo “Blocker Fraud”, maior o faturamento da empresa. Porém, se o modelo tiver baixa precisão, a empresa poderá ter um prejuízo enorme.\n",
        "\n",
        "## O Desafio\n",
        "Você foi contratado como um Consultor de Ciência de Dados para criar um modelo de alta precisão e acurácia na detecção de fraudes de transações feitas através de dispositivos móveis.\n",
        "\n",
        "Ao final da sua consultoria, você precisa entregar ao CEO da Blocker Fraud Company um modelo em produção no qual seu acesso será feito via API, ou seja, os clientes enviarão suas transações via API para que o seu modelo as classifique como fraudulentas ou legítimas.\n",
        "\n",
        "Além disso, você precisará entregar um relatório reportando a performance e os resultados do seu modelo em relação ao lucro e prejuízo que a empresa terá ao usar o modelo que você produziu. No seu relatório deve conter as respostas para as seguintes perguntas:\n",
        "\n",
        "- Qual a Precisão e Acurácia do modelo?\n",
        "- Qual a Confiabilidade do modelo em classificar as transações como legítimas ou fraudulentas?\n",
        "- Qual o Faturamento Esperado pela Empresa se classificarmos 100% das transações com o modelo?\n",
        "- Qual o Prejuízo Esperado pela Empresa em caso de falha do modelo?\n",
        "- Qual o Lucro Esperado pela Blocker Fraud Company ao utilizar o modelo?\n",
        "\n",
        "## Os Dados do desafio\n",
        "O conjunto de dados que será utilizado para criar a solução para a Blocker Fraud Company, está disponível na plataforma do Kaggle.\n",
        "\n",
        "Esse é o link: [Synthetic Financial Datasets For Fraud Detection](https://www.kaggle.com/ntnu-testimon/paysim1)"
      ]
    },
    {
      "cell_type": "code",
      "metadata": {
        "id": "2eLKQkISdb5l"
      },
      "source": [
        "# Importar os pacotes necessários\n",
        "\n",
        "# pandas para manipulação dos dados\n",
        "import pandas as pd\n",
        "\n",
        "# matplotlib para nossos gráficos\n",
        "import matplotlib.pyplot as plt\n",
        "\n",
        "# seaborn para uma melhor visualização dos gráficos\n",
        "import seaborn as sns\n",
        "\n",
        "# numpy para manipulações matemáticas \n",
        "import numpy as np"
      ],
      "execution_count": 1,
      "outputs": []
    },
    {
      "cell_type": "markdown",
      "metadata": {
        "id": "QQ0YvjZaIL32"
      },
      "source": [
        "<h2> Importando os dados </h2>\n",
        "\n",
        "Os dados podem ser obtidos pelo meio deste endereço [Link](https://www.kaggle.com/ntnu-testimon/paysim1). Consiste basicamente em um arquivo csv contendo 6.\n",
        "362.620 entradas e 11 colunas.<br>\n",
        "\n",
        "### Descrição das Colunas \n",
        "\n",
        "- `step` <br>\n",
        "Tipo - Numerica <br>\n",
        "Mapeia uma unidade de tempo no mundo real. Neste caso, 1 etapa equivale a 1 hora.<br>\n",
        "\n",
        "- `type` <br>\n",
        "Tipo - Caracter<br>\n",
        "Valores - CASH-IN, CASH-OUT, DEBIT, PAYMENT e TRANSFER<br>\n",
        "\n",
        "- `amount`<br>\n",
        "Tipo - numeric<br>\n",
        "Valor da transação na moeda local<br>\n",
        "\n",
        "- `nameOrig`<br>\n",
        "Tipo - caracter<br>\n",
        "Cliente que iniciou a transação<br>\n",
        "\n",
        "- `oldbalanceOrg`<br>\n",
        "Tipo - numerico<br>\n",
        "Saldo inicial antes da transação<br>\n",
        "\n",
        "- `newbalanceOrig`<br>\n",
        "Tipo - numerico<br>\n",
        "Saldo do cliente após a transação.<br>\n",
        "\n",
        "- `nameDest`<br>\n",
        "Tipo -caracter<br>\n",
        "ID do destinatário da transação.<br>\n",
        "\n",
        "- `oldbalanceDest`<br>\n",
        "Tipo -numerico<br>\n",
        "Saldo inicial do destinatário antes da transação.<br>\n",
        "\n",
        "- `newbalanceDest`<br>\n",
        "Tipo - numerico<br>\n",
        "Saldo do destinatário após a transação.<br>\n",
        "\n",
        "- `isFraud`<br>\n",
        "Tipo - numerico<br>\n",
        "Identifica uma transação fraudulenta (1) e não fraudulenta (0)<br>\n",
        "\n",
        "- `isFlaggedFraud` <br>\n",
        "Tipo - Numerico<br>\n",
        "O modelo de negócios visa controlar as transferências massivas de uma conta para outra e sinaliza tentativas ilegais. Uma tentativa ilegal neste conjunto de dados é uma tentativa de transferir mais de 200.000 em uma única transação.\n"
      ]
    },
    {
      "cell_type": "code",
      "metadata": {
        "id": "OSo_UiPQIbRV"
      },
      "source": [
        "df = pd.read_csv('/PS_20174392719_1491204439457_log.csv')"
      ],
      "execution_count": 2,
      "outputs": []
    },
    {
      "cell_type": "code",
      "metadata": {
        "id": "sz3Dz190TuPo",
        "outputId": "9b40ef22-873a-4622-a152-be8c8381d398",
        "colab": {
          "base_uri": "https://localhost:8080/",
          "height": 68
        }
      },
      "source": [
        "# Dimensões do df\n",
        "print(\"Dimensões do DataFrame:\")\n",
        "print(\"Linhas:\\t\\t{}\".format(df.shape[0]))\n",
        "print(\"Colunas:\\t{}\".format(df.shape[1]))"
      ],
      "execution_count": 3,
      "outputs": [
        {
          "output_type": "stream",
          "text": [
            "Dimensões do DataFrame:\n",
            "Linhas:\t\t6362620\n",
            "Colunas:\t11\n"
          ],
          "name": "stdout"
        }
      ]
    },
    {
      "cell_type": "code",
      "metadata": {
        "id": "xFuRC0hkT0Cq",
        "outputId": "fde857d6-e624-4813-8345-7754ad4595dd",
        "colab": {
          "base_uri": "https://localhost:8080/",
          "height": 204
        }
      },
      "source": [
        "# Visualizando as primeiras linhas\n",
        "df.head()"
      ],
      "execution_count": 4,
      "outputs": [
        {
          "output_type": "execute_result",
          "data": {
            "text/html": [
              "<div>\n",
              "<style scoped>\n",
              "    .dataframe tbody tr th:only-of-type {\n",
              "        vertical-align: middle;\n",
              "    }\n",
              "\n",
              "    .dataframe tbody tr th {\n",
              "        vertical-align: top;\n",
              "    }\n",
              "\n",
              "    .dataframe thead th {\n",
              "        text-align: right;\n",
              "    }\n",
              "</style>\n",
              "<table border=\"1\" class=\"dataframe\">\n",
              "  <thead>\n",
              "    <tr style=\"text-align: right;\">\n",
              "      <th></th>\n",
              "      <th>step</th>\n",
              "      <th>type</th>\n",
              "      <th>amount</th>\n",
              "      <th>nameOrig</th>\n",
              "      <th>oldbalanceOrg</th>\n",
              "      <th>newbalanceOrig</th>\n",
              "      <th>nameDest</th>\n",
              "      <th>oldbalanceDest</th>\n",
              "      <th>newbalanceDest</th>\n",
              "      <th>isFraud</th>\n",
              "      <th>isFlaggedFraud</th>\n",
              "    </tr>\n",
              "  </thead>\n",
              "  <tbody>\n",
              "    <tr>\n",
              "      <th>0</th>\n",
              "      <td>1</td>\n",
              "      <td>PAYMENT</td>\n",
              "      <td>9839.64</td>\n",
              "      <td>C1231006815</td>\n",
              "      <td>170136.0</td>\n",
              "      <td>160296.36</td>\n",
              "      <td>M1979787155</td>\n",
              "      <td>0.0</td>\n",
              "      <td>0.0</td>\n",
              "      <td>0</td>\n",
              "      <td>0</td>\n",
              "    </tr>\n",
              "    <tr>\n",
              "      <th>1</th>\n",
              "      <td>1</td>\n",
              "      <td>PAYMENT</td>\n",
              "      <td>1864.28</td>\n",
              "      <td>C1666544295</td>\n",
              "      <td>21249.0</td>\n",
              "      <td>19384.72</td>\n",
              "      <td>M2044282225</td>\n",
              "      <td>0.0</td>\n",
              "      <td>0.0</td>\n",
              "      <td>0</td>\n",
              "      <td>0</td>\n",
              "    </tr>\n",
              "    <tr>\n",
              "      <th>2</th>\n",
              "      <td>1</td>\n",
              "      <td>TRANSFER</td>\n",
              "      <td>181.00</td>\n",
              "      <td>C1305486145</td>\n",
              "      <td>181.0</td>\n",
              "      <td>0.00</td>\n",
              "      <td>C553264065</td>\n",
              "      <td>0.0</td>\n",
              "      <td>0.0</td>\n",
              "      <td>1</td>\n",
              "      <td>0</td>\n",
              "    </tr>\n",
              "    <tr>\n",
              "      <th>3</th>\n",
              "      <td>1</td>\n",
              "      <td>CASH_OUT</td>\n",
              "      <td>181.00</td>\n",
              "      <td>C840083671</td>\n",
              "      <td>181.0</td>\n",
              "      <td>0.00</td>\n",
              "      <td>C38997010</td>\n",
              "      <td>21182.0</td>\n",
              "      <td>0.0</td>\n",
              "      <td>1</td>\n",
              "      <td>0</td>\n",
              "    </tr>\n",
              "    <tr>\n",
              "      <th>4</th>\n",
              "      <td>1</td>\n",
              "      <td>PAYMENT</td>\n",
              "      <td>11668.14</td>\n",
              "      <td>C2048537720</td>\n",
              "      <td>41554.0</td>\n",
              "      <td>29885.86</td>\n",
              "      <td>M1230701703</td>\n",
              "      <td>0.0</td>\n",
              "      <td>0.0</td>\n",
              "      <td>0</td>\n",
              "      <td>0</td>\n",
              "    </tr>\n",
              "  </tbody>\n",
              "</table>\n",
              "</div>"
            ],
            "text/plain": [
              "   step      type    amount  ... newbalanceDest  isFraud  isFlaggedFraud\n",
              "0     1   PAYMENT   9839.64  ...            0.0        0               0\n",
              "1     1   PAYMENT   1864.28  ...            0.0        0               0\n",
              "2     1  TRANSFER    181.00  ...            0.0        1               0\n",
              "3     1  CASH_OUT    181.00  ...            0.0        1               0\n",
              "4     1   PAYMENT  11668.14  ...            0.0        0               0\n",
              "\n",
              "[5 rows x 11 columns]"
            ]
          },
          "metadata": {
            "tags": []
          },
          "execution_count": 4
        }
      ]
    },
    {
      "cell_type": "code",
      "metadata": {
        "id": "uw10zadeZvrA",
        "outputId": "f329755e-1680-492e-b0c4-df09d45a0722",
        "colab": {
          "base_uri": "https://localhost:8080/",
          "height": 297
        }
      },
      "source": [
        "# ver resumo estatístico do dados numéricos\n",
        "df.describe()"
      ],
      "execution_count": 5,
      "outputs": [
        {
          "output_type": "execute_result",
          "data": {
            "text/html": [
              "<div>\n",
              "<style scoped>\n",
              "    .dataframe tbody tr th:only-of-type {\n",
              "        vertical-align: middle;\n",
              "    }\n",
              "\n",
              "    .dataframe tbody tr th {\n",
              "        vertical-align: top;\n",
              "    }\n",
              "\n",
              "    .dataframe thead th {\n",
              "        text-align: right;\n",
              "    }\n",
              "</style>\n",
              "<table border=\"1\" class=\"dataframe\">\n",
              "  <thead>\n",
              "    <tr style=\"text-align: right;\">\n",
              "      <th></th>\n",
              "      <th>step</th>\n",
              "      <th>amount</th>\n",
              "      <th>oldbalanceOrg</th>\n",
              "      <th>newbalanceOrig</th>\n",
              "      <th>oldbalanceDest</th>\n",
              "      <th>newbalanceDest</th>\n",
              "      <th>isFraud</th>\n",
              "      <th>isFlaggedFraud</th>\n",
              "    </tr>\n",
              "  </thead>\n",
              "  <tbody>\n",
              "    <tr>\n",
              "      <th>count</th>\n",
              "      <td>6.362620e+06</td>\n",
              "      <td>6.362620e+06</td>\n",
              "      <td>6.362620e+06</td>\n",
              "      <td>6.362620e+06</td>\n",
              "      <td>6.362620e+06</td>\n",
              "      <td>6.362620e+06</td>\n",
              "      <td>6.362620e+06</td>\n",
              "      <td>6.362620e+06</td>\n",
              "    </tr>\n",
              "    <tr>\n",
              "      <th>mean</th>\n",
              "      <td>2.433972e+02</td>\n",
              "      <td>1.798619e+05</td>\n",
              "      <td>8.338831e+05</td>\n",
              "      <td>8.551137e+05</td>\n",
              "      <td>1.100702e+06</td>\n",
              "      <td>1.224996e+06</td>\n",
              "      <td>1.290820e-03</td>\n",
              "      <td>2.514687e-06</td>\n",
              "    </tr>\n",
              "    <tr>\n",
              "      <th>std</th>\n",
              "      <td>1.423320e+02</td>\n",
              "      <td>6.038582e+05</td>\n",
              "      <td>2.888243e+06</td>\n",
              "      <td>2.924049e+06</td>\n",
              "      <td>3.399180e+06</td>\n",
              "      <td>3.674129e+06</td>\n",
              "      <td>3.590480e-02</td>\n",
              "      <td>1.585775e-03</td>\n",
              "    </tr>\n",
              "    <tr>\n",
              "      <th>min</th>\n",
              "      <td>1.000000e+00</td>\n",
              "      <td>0.000000e+00</td>\n",
              "      <td>0.000000e+00</td>\n",
              "      <td>0.000000e+00</td>\n",
              "      <td>0.000000e+00</td>\n",
              "      <td>0.000000e+00</td>\n",
              "      <td>0.000000e+00</td>\n",
              "      <td>0.000000e+00</td>\n",
              "    </tr>\n",
              "    <tr>\n",
              "      <th>25%</th>\n",
              "      <td>1.560000e+02</td>\n",
              "      <td>1.338957e+04</td>\n",
              "      <td>0.000000e+00</td>\n",
              "      <td>0.000000e+00</td>\n",
              "      <td>0.000000e+00</td>\n",
              "      <td>0.000000e+00</td>\n",
              "      <td>0.000000e+00</td>\n",
              "      <td>0.000000e+00</td>\n",
              "    </tr>\n",
              "    <tr>\n",
              "      <th>50%</th>\n",
              "      <td>2.390000e+02</td>\n",
              "      <td>7.487194e+04</td>\n",
              "      <td>1.420800e+04</td>\n",
              "      <td>0.000000e+00</td>\n",
              "      <td>1.327057e+05</td>\n",
              "      <td>2.146614e+05</td>\n",
              "      <td>0.000000e+00</td>\n",
              "      <td>0.000000e+00</td>\n",
              "    </tr>\n",
              "    <tr>\n",
              "      <th>75%</th>\n",
              "      <td>3.350000e+02</td>\n",
              "      <td>2.087215e+05</td>\n",
              "      <td>1.073152e+05</td>\n",
              "      <td>1.442584e+05</td>\n",
              "      <td>9.430367e+05</td>\n",
              "      <td>1.111909e+06</td>\n",
              "      <td>0.000000e+00</td>\n",
              "      <td>0.000000e+00</td>\n",
              "    </tr>\n",
              "    <tr>\n",
              "      <th>max</th>\n",
              "      <td>7.430000e+02</td>\n",
              "      <td>9.244552e+07</td>\n",
              "      <td>5.958504e+07</td>\n",
              "      <td>4.958504e+07</td>\n",
              "      <td>3.560159e+08</td>\n",
              "      <td>3.561793e+08</td>\n",
              "      <td>1.000000e+00</td>\n",
              "      <td>1.000000e+00</td>\n",
              "    </tr>\n",
              "  </tbody>\n",
              "</table>\n",
              "</div>"
            ],
            "text/plain": [
              "               step        amount  ...       isFraud  isFlaggedFraud\n",
              "count  6.362620e+06  6.362620e+06  ...  6.362620e+06    6.362620e+06\n",
              "mean   2.433972e+02  1.798619e+05  ...  1.290820e-03    2.514687e-06\n",
              "std    1.423320e+02  6.038582e+05  ...  3.590480e-02    1.585775e-03\n",
              "min    1.000000e+00  0.000000e+00  ...  0.000000e+00    0.000000e+00\n",
              "25%    1.560000e+02  1.338957e+04  ...  0.000000e+00    0.000000e+00\n",
              "50%    2.390000e+02  7.487194e+04  ...  0.000000e+00    0.000000e+00\n",
              "75%    3.350000e+02  2.087215e+05  ...  0.000000e+00    0.000000e+00\n",
              "max    7.430000e+02  9.244552e+07  ...  1.000000e+00    1.000000e+00\n",
              "\n",
              "[8 rows x 8 columns]"
            ]
          },
          "metadata": {
            "tags": []
          },
          "execution_count": 5
        }
      ]
    },
    {
      "cell_type": "code",
      "metadata": {
        "id": "Imnt37QiZ69D",
        "outputId": "73abfbdd-0f06-44dc-e2a0-159c278cd519",
        "colab": {
          "base_uri": "https://localhost:8080/",
          "height": 255
        }
      },
      "source": [
        "# tipo das variáveis\n",
        "print(\"\\nTipos das Variáveis:\")\n",
        "print(df.dtypes)"
      ],
      "execution_count": 6,
      "outputs": [
        {
          "output_type": "stream",
          "text": [
            "\n",
            "Tipos das Variáveis:\n",
            "step                int64\n",
            "type               object\n",
            "amount            float64\n",
            "nameOrig           object\n",
            "oldbalanceOrg     float64\n",
            "newbalanceOrig    float64\n",
            "nameDest           object\n",
            "oldbalanceDest    float64\n",
            "newbalanceDest    float64\n",
            "isFraud             int64\n",
            "isFlaggedFraud      int64\n",
            "dtype: object\n"
          ],
          "name": "stdout"
        }
      ]
    },
    {
      "cell_type": "markdown",
      "metadata": {
        "id": "EOZfLT0taKTz"
      },
      "source": [
        "### Temos\n",
        "- 3 variáveis não numéricas \n",
        "- 8 do tipo numérico"
      ]
    },
    {
      "cell_type": "code",
      "metadata": {
        "id": "SyEiu7dgaEUe",
        "outputId": "928d6dff-2dea-4016-941c-d828baae7666",
        "colab": {
          "base_uri": "https://localhost:8080/",
          "height": 255
        }
      },
      "source": [
        "# Valores Ausentes\n",
        "print(\"\\nValores Ausentes:\")\n",
        "print((df.isnull().sum() / df.shape[0]).sort_values(ascending=False))"
      ],
      "execution_count": 7,
      "outputs": [
        {
          "output_type": "stream",
          "text": [
            "\n",
            "Valores Ausentes:\n",
            "isFlaggedFraud    0.0\n",
            "isFraud           0.0\n",
            "newbalanceDest    0.0\n",
            "oldbalanceDest    0.0\n",
            "nameDest          0.0\n",
            "newbalanceOrig    0.0\n",
            "oldbalanceOrg     0.0\n",
            "nameOrig          0.0\n",
            "amount            0.0\n",
            "type              0.0\n",
            "step              0.0\n",
            "dtype: float64\n"
          ],
          "name": "stdout"
        }
      ]
    },
    {
      "cell_type": "markdown",
      "metadata": {
        "id": "u8BRsCAnaroN"
      },
      "source": [
        "- Não temos valores nulos"
      ]
    },
    {
      "cell_type": "markdown",
      "metadata": {
        "id": "DVZVWIMfa7Qb"
      },
      "source": [
        "Uma outra análise interessante de se fazer diz respeito à contagem de valores únicos por features. Muitas vezes, variáveis numéricas podem esconder classes/categorias que melhor representariam uma feature, ou revelar uma quantidade elevada de classes para \"variáveis categóricas\"."
      ]
    },
    {
      "cell_type": "code",
      "metadata": {
        "id": "S1-9oVy6bGei",
        "outputId": "7e815325-b714-4bf1-bcb0-5c13881f7a62",
        "colab": {
          "base_uri": "https://localhost:8080/",
          "height": 255
        }
      },
      "source": [
        "# Valores Únicos\n",
        "print(\"\\nValores Únicos:\")\n",
        "print(df.nunique().sort_values())"
      ],
      "execution_count": 8,
      "outputs": [
        {
          "output_type": "stream",
          "text": [
            "\n",
            "Valores Únicos:\n",
            "isFraud                 2\n",
            "isFlaggedFraud          2\n",
            "type                    5\n",
            "step                  743\n",
            "oldbalanceOrg     1845844\n",
            "newbalanceOrig    2682586\n",
            "nameDest          2722362\n",
            "newbalanceDest    3555499\n",
            "oldbalanceDest    3614697\n",
            "amount            5316900\n",
            "nameOrig          6353307\n",
            "dtype: int64\n"
          ],
          "name": "stdout"
        }
      ]
    },
    {
      "cell_type": "code",
      "metadata": {
        "id": "d9_nLfq2dLOv",
        "outputId": "8d237879-08f4-41dc-efb9-6b76c77c5f57",
        "colab": {
          "base_uri": "https://localhost:8080/",
          "height": 417
        }
      },
      "source": [
        "# Proporção entre Inadimplentes no Dataset\n",
        "fig, ax = plt.subplots()\n",
        "sns.countplot('isFraud', data=df, ax=ax)\n",
        "ax.set_title(\"Fraudes\")\n",
        "ax.set_xlabel(\"Valor\")\n",
        "ax.set_ylabel(\"Contagem\")\n",
        "plt.show();\n",
        "\n",
        "print(\"Proporção de Fraudes no Dataset:\")\n",
        "print((df['isFraud'].value_counts() / df.shape[0] )*100)"
      ],
      "execution_count": 9,
      "outputs": [
        {
          "output_type": "stream",
          "text": [
            "/usr/local/lib/python3.6/dist-packages/seaborn/_decorators.py:43: FutureWarning: Pass the following variable as a keyword arg: x. From version 0.12, the only valid positional argument will be `data`, and passing other arguments without an explicit keyword will result in an error or misinterpretation.\n",
            "  FutureWarning\n"
          ],
          "name": "stderr"
        },
        {
          "output_type": "display_data",
          "data": {
            "image/png": "[encoded data removed]",
            "text/plain": [
              "<Figure size 432x288 with 1 Axes>"
            ]
          },
          "metadata": {
            "tags": [],
            "needs_background": "light"
          }
        },
        {
          "output_type": "stream",
          "text": [
            "Proporção de Fraudes no Dataset:\n",
            "0    99.870918\n",
            "1     0.129082\n",
            "Name: isFraud, dtype: float64\n"
          ],
          "name": "stdout"
        }
      ]
    },
    {
      "cell_type": "code",
      "metadata": {
        "id": "DmBSKxpHeduK",
        "outputId": "ffe2412c-cff5-421d-bba8-5ca5b663fca4",
        "colab": {
          "base_uri": "https://localhost:8080/",
          "height": 512
        }
      },
      "source": [
        "# Proporcao para os tipos de transacao\n",
        "fig, ax = plt.subplots()\n",
        "sns.countplot('type', data=df, ax=ax)\n",
        "ax.set_title(\"Grafico por Tipo de Transação\")\n",
        "ax.set_xlabel(\"Transações\")\n",
        "ax.set_ylabel(\"Contagem\")\n",
        "#plt.plot(df['score_1'])\n",
        "plt.xticks(rotation=90)\n",
        "plt.show();\n",
        "\n",
        "print(\"Proporção para os tipos de transação no Dataset:\")\n",
        "print((df['type'].value_counts() / df.shape[0] )*100)"
      ],
      "execution_count": 10,
      "outputs": [
        {
          "output_type": "stream",
          "text": [
            "/usr/local/lib/python3.6/dist-packages/seaborn/_decorators.py:43: FutureWarning: Pass the following variable as a keyword arg: x. From version 0.12, the only valid positional argument will be `data`, and passing other arguments without an explicit keyword will result in an error or misinterpretation.\n",
            "  FutureWarning\n"
          ],
          "name": "stderr"
        },
        {
          "output_type": "display_data",
          "data": {
            "image/png": "[encoded data removed]",
            "text/plain": [
              "<Figure size 432x288 with 1 Axes>"
            ]
          },
          "metadata": {
            "tags": [],
            "needs_background": "light"
          }
        },
        {
          "output_type": "stream",
          "text": [
            "Proporção para os tipos de transação no Dataset:\n",
            "CASH_OUT    35.166331\n",
            "PAYMENT     33.814608\n",
            "CASH_IN     21.992261\n",
            "TRANSFER     8.375622\n",
            "DEBIT        0.651178\n",
            "Name: type, dtype: float64\n"
          ],
          "name": "stdout"
        }
      ]
    },
    {
      "cell_type": "code",
      "metadata": {
        "id": "t7Wds9hovJK1",
        "outputId": "c7d127e3-11a2-4695-a8da-653aae3b6855",
        "colab": {
          "base_uri": "https://localhost:8080/",
          "height": 235
        }
      },
      "source": [
        "# Analisar a probabilidade de tipos de transação por fraude\n",
        "df[['type', 'isFraud']].groupby(['type']).mean()"
      ],
      "execution_count": 11,
      "outputs": [
        {
          "output_type": "execute_result",
          "data": {
            "text/html": [
              "<div>\n",
              "<style scoped>\n",
              "    .dataframe tbody tr th:only-of-type {\n",
              "        vertical-align: middle;\n",
              "    }\n",
              "\n",
              "    .dataframe tbody tr th {\n",
              "        vertical-align: top;\n",
              "    }\n",
              "\n",
              "    .dataframe thead th {\n",
              "        text-align: right;\n",
              "    }\n",
              "</style>\n",
              "<table border=\"1\" class=\"dataframe\">\n",
              "  <thead>\n",
              "    <tr style=\"text-align: right;\">\n",
              "      <th></th>\n",
              "      <th>isFraud</th>\n",
              "    </tr>\n",
              "    <tr>\n",
              "      <th>type</th>\n",
              "      <th></th>\n",
              "    </tr>\n",
              "  </thead>\n",
              "  <tbody>\n",
              "    <tr>\n",
              "      <th>CASH_IN</th>\n",
              "      <td>0.000000</td>\n",
              "    </tr>\n",
              "    <tr>\n",
              "      <th>CASH_OUT</th>\n",
              "      <td>0.001840</td>\n",
              "    </tr>\n",
              "    <tr>\n",
              "      <th>DEBIT</th>\n",
              "      <td>0.000000</td>\n",
              "    </tr>\n",
              "    <tr>\n",
              "      <th>PAYMENT</th>\n",
              "      <td>0.000000</td>\n",
              "    </tr>\n",
              "    <tr>\n",
              "      <th>TRANSFER</th>\n",
              "      <td>0.007688</td>\n",
              "    </tr>\n",
              "  </tbody>\n",
              "</table>\n",
              "</div>"
            ],
            "text/plain": [
              "           isFraud\n",
              "type              \n",
              "CASH_IN   0.000000\n",
              "CASH_OUT  0.001840\n",
              "DEBIT     0.000000\n",
              "PAYMENT   0.000000\n",
              "TRANSFER  0.007688"
            ]
          },
          "metadata": {
            "tags": []
          },
          "execution_count": 11
        }
      ]
    },
    {
      "cell_type": "markdown",
      "metadata": {
        "id": "2Er8nd_jfB-U"
      },
      "source": [
        "## Preparação dos dados\n",
        "\n",
        "Conforme nossas informações vamos fazer algumas limpezas. Excluir as colunas nameOrig e nameDest, pois se referem aos nomes dos clientes que não interferem no resultado da fraude."
      ]
    },
    {
      "cell_type": "code",
      "metadata": {
        "id": "HPQ5uAZIf5Ld"
      },
      "source": [
        "# Vamos fazer uma cópia do nosso dataset\n",
        "df_clean = df.copy()"
      ],
      "execution_count": 12,
      "outputs": []
    },
    {
      "cell_type": "code",
      "metadata": {
        "id": "STi31qnVf_Op"
      },
      "source": [
        "# Vamos excluir as colunas\n",
        "# nameOrig\n",
        "# nameDest\n",
        "df_clean.drop(labels=['nameOrig', 'nameDest'], axis=1, inplace=True)"
      ],
      "execution_count": 13,
      "outputs": []
    },
    {
      "cell_type": "code",
      "metadata": {
        "id": "MbzocjF8t8NZ"
      },
      "source": [
        "# converter 'type' em 0 , 1 , 2 , 3 , 4\n",
        "df_clean['type'] = df_clean['type'].map({'CASH_OUT': 0, 'PAYMENT': 1, 'CASH_IN': 2, 'TRANSFER':3, 'DEBIT':4})"
      ],
      "execution_count": 14,
      "outputs": []
    },
    {
      "cell_type": "code",
      "metadata": {
        "id": "jhsOj6gbnANy",
        "outputId": "ff871080-4f42-4ba1-d047-25c3513631be",
        "colab": {
          "base_uri": "https://localhost:8080/",
          "height": 669
        }
      },
      "source": [
        "df_clean.head(20)"
      ],
      "execution_count": 15,
      "outputs": [
        {
          "output_type": "execute_result",
          "data": {
            "text/html": [
              "<div>\n",
              "<style scoped>\n",
              "    .dataframe tbody tr th:only-of-type {\n",
              "        vertical-align: middle;\n",
              "    }\n",
              "\n",
              "    .dataframe tbody tr th {\n",
              "        vertical-align: top;\n",
              "    }\n",
              "\n",
              "    .dataframe thead th {\n",
              "        text-align: right;\n",
              "    }\n",
              "</style>\n",
              "<table border=\"1\" class=\"dataframe\">\n",
              "  <thead>\n",
              "    <tr style=\"text-align: right;\">\n",
              "      <th></th>\n",
              "      <th>step</th>\n",
              "      <th>type</th>\n",
              "      <th>amount</th>\n",
              "      <th>oldbalanceOrg</th>\n",
              "      <th>newbalanceOrig</th>\n",
              "      <th>oldbalanceDest</th>\n",
              "      <th>newbalanceDest</th>\n",
              "      <th>isFraud</th>\n",
              "      <th>isFlaggedFraud</th>\n",
              "    </tr>\n",
              "  </thead>\n",
              "  <tbody>\n",
              "    <tr>\n",
              "      <th>0</th>\n",
              "      <td>1</td>\n",
              "      <td>1</td>\n",
              "      <td>9839.64</td>\n",
              "      <td>170136.00</td>\n",
              "      <td>160296.36</td>\n",
              "      <td>0.0</td>\n",
              "      <td>0.00</td>\n",
              "      <td>0</td>\n",
              "      <td>0</td>\n",
              "    </tr>\n",
              "    <tr>\n",
              "      <th>1</th>\n",
              "      <td>1</td>\n",
              "      <td>1</td>\n",
              "      <td>1864.28</td>\n",
              "      <td>21249.00</td>\n",
              "      <td>19384.72</td>\n",
              "      <td>0.0</td>\n",
              "      <td>0.00</td>\n",
              "      <td>0</td>\n",
              "      <td>0</td>\n",
              "    </tr>\n",
              "    <tr>\n",
              "      <th>2</th>\n",
              "      <td>1</td>\n",
              "      <td>3</td>\n",
              "      <td>181.00</td>\n",
              "      <td>181.00</td>\n",
              "      <td>0.00</td>\n",
              "      <td>0.0</td>\n",
              "      <td>0.00</td>\n",
              "      <td>1</td>\n",
              "      <td>0</td>\n",
              "    </tr>\n",
              "    <tr>\n",
              "      <th>3</th>\n",
              "      <td>1</td>\n",
              "      <td>0</td>\n",
              "      <td>181.00</td>\n",
              "      <td>181.00</td>\n",
              "      <td>0.00</td>\n",
              "      <td>21182.0</td>\n",
              "      <td>0.00</td>\n",
              "      <td>1</td>\n",
              "      <td>0</td>\n",
              "    </tr>\n",
              "    <tr>\n",
              "      <th>4</th>\n",
              "      <td>1</td>\n",
              "      <td>1</td>\n",
              "      <td>11668.14</td>\n",
              "      <td>41554.00</td>\n",
              "      <td>29885.86</td>\n",
              "      <td>0.0</td>\n",
              "      <td>0.00</td>\n",
              "      <td>0</td>\n",
              "      <td>0</td>\n",
              "    </tr>\n",
              "    <tr>\n",
              "      <th>5</th>\n",
              "      <td>1</td>\n",
              "      <td>1</td>\n",
              "      <td>7817.71</td>\n",
              "      <td>53860.00</td>\n",
              "      <td>46042.29</td>\n",
              "      <td>0.0</td>\n",
              "      <td>0.00</td>\n",
              "      <td>0</td>\n",
              "      <td>0</td>\n",
              "    </tr>\n",
              "    <tr>\n",
              "      <th>6</th>\n",
              "      <td>1</td>\n",
              "      <td>1</td>\n",
              "      <td>7107.77</td>\n",
              "      <td>183195.00</td>\n",
              "      <td>176087.23</td>\n",
              "      <td>0.0</td>\n",
              "      <td>0.00</td>\n",
              "      <td>0</td>\n",
              "      <td>0</td>\n",
              "    </tr>\n",
              "    <tr>\n",
              "      <th>7</th>\n",
              "      <td>1</td>\n",
              "      <td>1</td>\n",
              "      <td>7861.64</td>\n",
              "      <td>176087.23</td>\n",
              "      <td>168225.59</td>\n",
              "      <td>0.0</td>\n",
              "      <td>0.00</td>\n",
              "      <td>0</td>\n",
              "      <td>0</td>\n",
              "    </tr>\n",
              "    <tr>\n",
              "      <th>8</th>\n",
              "      <td>1</td>\n",
              "      <td>1</td>\n",
              "      <td>4024.36</td>\n",
              "      <td>2671.00</td>\n",
              "      <td>0.00</td>\n",
              "      <td>0.0</td>\n",
              "      <td>0.00</td>\n",
              "      <td>0</td>\n",
              "      <td>0</td>\n",
              "    </tr>\n",
              "    <tr>\n",
              "      <th>9</th>\n",
              "      <td>1</td>\n",
              "      <td>4</td>\n",
              "      <td>5337.77</td>\n",
              "      <td>41720.00</td>\n",
              "      <td>36382.23</td>\n",
              "      <td>41898.0</td>\n",
              "      <td>40348.79</td>\n",
              "      <td>0</td>\n",
              "      <td>0</td>\n",
              "    </tr>\n",
              "    <tr>\n",
              "      <th>10</th>\n",
              "      <td>1</td>\n",
              "      <td>4</td>\n",
              "      <td>9644.94</td>\n",
              "      <td>4465.00</td>\n",
              "      <td>0.00</td>\n",
              "      <td>10845.0</td>\n",
              "      <td>157982.12</td>\n",
              "      <td>0</td>\n",
              "      <td>0</td>\n",
              "    </tr>\n",
              "    <tr>\n",
              "      <th>11</th>\n",
              "      <td>1</td>\n",
              "      <td>1</td>\n",
              "      <td>3099.97</td>\n",
              "      <td>20771.00</td>\n",
              "      <td>17671.03</td>\n",
              "      <td>0.0</td>\n",
              "      <td>0.00</td>\n",
              "      <td>0</td>\n",
              "      <td>0</td>\n",
              "    </tr>\n",
              "    <tr>\n",
              "      <th>12</th>\n",
              "      <td>1</td>\n",
              "      <td>1</td>\n",
              "      <td>2560.74</td>\n",
              "      <td>5070.00</td>\n",
              "      <td>2509.26</td>\n",
              "      <td>0.0</td>\n",
              "      <td>0.00</td>\n",
              "      <td>0</td>\n",
              "      <td>0</td>\n",
              "    </tr>\n",
              "    <tr>\n",
              "      <th>13</th>\n",
              "      <td>1</td>\n",
              "      <td>1</td>\n",
              "      <td>11633.76</td>\n",
              "      <td>10127.00</td>\n",
              "      <td>0.00</td>\n",
              "      <td>0.0</td>\n",
              "      <td>0.00</td>\n",
              "      <td>0</td>\n",
              "      <td>0</td>\n",
              "    </tr>\n",
              "    <tr>\n",
              "      <th>14</th>\n",
              "      <td>1</td>\n",
              "      <td>1</td>\n",
              "      <td>4098.78</td>\n",
              "      <td>503264.00</td>\n",
              "      <td>499165.22</td>\n",
              "      <td>0.0</td>\n",
              "      <td>0.00</td>\n",
              "      <td>0</td>\n",
              "      <td>0</td>\n",
              "    </tr>\n",
              "    <tr>\n",
              "      <th>15</th>\n",
              "      <td>1</td>\n",
              "      <td>0</td>\n",
              "      <td>229133.94</td>\n",
              "      <td>15325.00</td>\n",
              "      <td>0.00</td>\n",
              "      <td>5083.0</td>\n",
              "      <td>51513.44</td>\n",
              "      <td>0</td>\n",
              "      <td>0</td>\n",
              "    </tr>\n",
              "    <tr>\n",
              "      <th>16</th>\n",
              "      <td>1</td>\n",
              "      <td>1</td>\n",
              "      <td>1563.82</td>\n",
              "      <td>450.00</td>\n",
              "      <td>0.00</td>\n",
              "      <td>0.0</td>\n",
              "      <td>0.00</td>\n",
              "      <td>0</td>\n",
              "      <td>0</td>\n",
              "    </tr>\n",
              "    <tr>\n",
              "      <th>17</th>\n",
              "      <td>1</td>\n",
              "      <td>1</td>\n",
              "      <td>1157.86</td>\n",
              "      <td>21156.00</td>\n",
              "      <td>19998.14</td>\n",
              "      <td>0.0</td>\n",
              "      <td>0.00</td>\n",
              "      <td>0</td>\n",
              "      <td>0</td>\n",
              "    </tr>\n",
              "    <tr>\n",
              "      <th>18</th>\n",
              "      <td>1</td>\n",
              "      <td>1</td>\n",
              "      <td>671.64</td>\n",
              "      <td>15123.00</td>\n",
              "      <td>14451.36</td>\n",
              "      <td>0.0</td>\n",
              "      <td>0.00</td>\n",
              "      <td>0</td>\n",
              "      <td>0</td>\n",
              "    </tr>\n",
              "    <tr>\n",
              "      <th>19</th>\n",
              "      <td>1</td>\n",
              "      <td>3</td>\n",
              "      <td>215310.30</td>\n",
              "      <td>705.00</td>\n",
              "      <td>0.00</td>\n",
              "      <td>22425.0</td>\n",
              "      <td>0.00</td>\n",
              "      <td>0</td>\n",
              "      <td>0</td>\n",
              "    </tr>\n",
              "  </tbody>\n",
              "</table>\n",
              "</div>"
            ],
            "text/plain": [
              "    step  type     amount  ...  newbalanceDest  isFraud  isFlaggedFraud\n",
              "0      1     1    9839.64  ...            0.00        0               0\n",
              "1      1     1    1864.28  ...            0.00        0               0\n",
              "2      1     3     181.00  ...            0.00        1               0\n",
              "3      1     0     181.00  ...            0.00        1               0\n",
              "4      1     1   11668.14  ...            0.00        0               0\n",
              "5      1     1    7817.71  ...            0.00        0               0\n",
              "6      1     1    7107.77  ...            0.00        0               0\n",
              "7      1     1    7861.64  ...            0.00        0               0\n",
              "8      1     1    4024.36  ...            0.00        0               0\n",
              "9      1     4    5337.77  ...        40348.79        0               0\n",
              "10     1     4    9644.94  ...       157982.12        0               0\n",
              "11     1     1    3099.97  ...            0.00        0               0\n",
              "12     1     1    2560.74  ...            0.00        0               0\n",
              "13     1     1   11633.76  ...            0.00        0               0\n",
              "14     1     1    4098.78  ...            0.00        0               0\n",
              "15     1     0  229133.94  ...        51513.44        0               0\n",
              "16     1     1    1563.82  ...            0.00        0               0\n",
              "17     1     1    1157.86  ...            0.00        0               0\n",
              "18     1     1     671.64  ...            0.00        0               0\n",
              "19     1     3  215310.30  ...            0.00        0               0\n",
              "\n",
              "[20 rows x 9 columns]"
            ]
          },
          "metadata": {
            "tags": []
          },
          "execution_count": 15
        }
      ]
    },
    {
      "cell_type": "markdown",
      "metadata": {
        "id": "BkPcP_Z8rY5h"
      },
      "source": [
        "Para melhorar o desempenho do modelo, vamos normalizar as variáveis numéricas usando `StandardScaler`."
      ]
    },
    {
      "cell_type": "code",
      "metadata": {
        "id": "tpV-UI64reP9"
      },
      "source": [
        "# importando a biblioteca para normalizar nossos dados\n",
        "from sklearn.preprocessing import StandardScaler"
      ],
      "execution_count": 16,
      "outputs": []
    },
    {
      "cell_type": "code",
      "metadata": {
        "id": "4hBHaS7nriq0"
      },
      "source": [
        "# fazendo uma copia do nosso dataset já limpo\n",
        "scaled_df = df_clean.copy()"
      ],
      "execution_count": 17,
      "outputs": []
    },
    {
      "cell_type": "code",
      "metadata": {
        "id": "0IBXzkJrryfC"
      },
      "source": [
        "# selecionando as colunas para normalizar\n",
        "num_cols = scaled_df.drop(labels=['isFraud', 'isFlaggedFraud'] ,\n",
        "                         axis=1).select_dtypes(exclude='object').columns"
      ],
      "execution_count": 18,
      "outputs": []
    },
    {
      "cell_type": "code",
      "metadata": {
        "id": "tEqx1qbarysA"
      },
      "source": [
        "# normalizando as colunas numéricas\n",
        "scaled_df[num_cols] = StandardScaler().fit_transform(scaled_df[num_cols].values)"
      ],
      "execution_count": 21,
      "outputs": []
    },
    {
      "cell_type": "code",
      "metadata": {
        "id": "ElhB_3IisqFT",
        "outputId": "a62bac65-3c61-4a65-de1b-c8c1356eae32",
        "colab": {
          "base_uri": "https://localhost:8080/",
          "height": 204
        }
      },
      "source": [
        "# verificando nossos dados\n",
        "scaled_df.head()"
      ],
      "execution_count": 22,
      "outputs": [
        {
          "output_type": "execute_result",
          "data": {
            "text/html": [
              "<div>\n",
              "<style scoped>\n",
              "    .dataframe tbody tr th:only-of-type {\n",
              "        vertical-align: middle;\n",
              "    }\n",
              "\n",
              "    .dataframe tbody tr th {\n",
              "        vertical-align: top;\n",
              "    }\n",
              "\n",
              "    .dataframe thead th {\n",
              "        text-align: right;\n",
              "    }\n",
              "</style>\n",
              "<table border=\"1\" class=\"dataframe\">\n",
              "  <thead>\n",
              "    <tr style=\"text-align: right;\">\n",
              "      <th></th>\n",
              "      <th>step</th>\n",
              "      <th>type</th>\n",
              "      <th>amount</th>\n",
              "      <th>oldbalanceOrg</th>\n",
              "      <th>newbalanceOrig</th>\n",
              "      <th>oldbalanceDest</th>\n",
              "      <th>newbalanceDest</th>\n",
              "      <th>isFraud</th>\n",
              "      <th>isFlaggedFraud</th>\n",
              "    </tr>\n",
              "  </thead>\n",
              "  <tbody>\n",
              "    <tr>\n",
              "      <th>0</th>\n",
              "      <td>-1.703042</td>\n",
              "      <td>-0.056384</td>\n",
              "      <td>-0.281560</td>\n",
              "      <td>-0.229810</td>\n",
              "      <td>-0.237622</td>\n",
              "      <td>-0.323814</td>\n",
              "      <td>-0.333411</td>\n",
              "      <td>0</td>\n",
              "      <td>0</td>\n",
              "    </tr>\n",
              "    <tr>\n",
              "      <th>1</th>\n",
              "      <td>-1.703042</td>\n",
              "      <td>-0.056384</td>\n",
              "      <td>-0.294767</td>\n",
              "      <td>-0.281359</td>\n",
              "      <td>-0.285812</td>\n",
              "      <td>-0.323814</td>\n",
              "      <td>-0.333411</td>\n",
              "      <td>0</td>\n",
              "      <td>0</td>\n",
              "    </tr>\n",
              "    <tr>\n",
              "      <th>2</th>\n",
              "      <td>-1.703042</td>\n",
              "      <td>1.982567</td>\n",
              "      <td>-0.297555</td>\n",
              "      <td>-0.288654</td>\n",
              "      <td>-0.292442</td>\n",
              "      <td>-0.323814</td>\n",
              "      <td>-0.333411</td>\n",
              "      <td>1</td>\n",
              "      <td>0</td>\n",
              "    </tr>\n",
              "    <tr>\n",
              "      <th>3</th>\n",
              "      <td>-1.703042</td>\n",
              "      <td>-1.075860</td>\n",
              "      <td>-0.297555</td>\n",
              "      <td>-0.288654</td>\n",
              "      <td>-0.292442</td>\n",
              "      <td>-0.317582</td>\n",
              "      <td>-0.333411</td>\n",
              "      <td>1</td>\n",
              "      <td>0</td>\n",
              "    </tr>\n",
              "    <tr>\n",
              "      <th>4</th>\n",
              "      <td>-1.703042</td>\n",
              "      <td>-0.056384</td>\n",
              "      <td>-0.278532</td>\n",
              "      <td>-0.274329</td>\n",
              "      <td>-0.282221</td>\n",
              "      <td>-0.323814</td>\n",
              "      <td>-0.333411</td>\n",
              "      <td>0</td>\n",
              "      <td>0</td>\n",
              "    </tr>\n",
              "  </tbody>\n",
              "</table>\n",
              "</div>"
            ],
            "text/plain": [
              "       step      type    amount  ...  newbalanceDest  isFraud  isFlaggedFraud\n",
              "0 -1.703042 -0.056384 -0.281560  ...       -0.333411        0               0\n",
              "1 -1.703042 -0.056384 -0.294767  ...       -0.333411        0               0\n",
              "2 -1.703042  1.982567 -0.297555  ...       -0.333411        1               0\n",
              "3 -1.703042 -1.075860 -0.297555  ...       -0.333411        1               0\n",
              "4 -1.703042 -0.056384 -0.278532  ...       -0.333411        0               0\n",
              "\n",
              "[5 rows x 9 columns]"
            ]
          },
          "metadata": {
            "tags": []
          },
          "execution_count": 22
        }
      ]
    },
    {
      "cell_type": "markdown",
      "metadata": {
        "id": "4ziJ5g8eyXD-"
      },
      "source": [
        "## Balanceando nossos dados\n",
        "\n",
        "### Métodos para lidar com datasets \n",
        "\n",
        "Há diversas maneiras para atacar o problema de dados desbalanceados, que envolvem desde a construção de algoritmos específicos até a aplicação de algoritmos mais avançados como Recognition-based Learning e Cost-sensitive Learning.\n",
        "\n",
        "No entanto, uma outra abordagem bem mais simples tem sido amplamente usada (com ótimos resultados), a abordagem sampling.\n",
        "\n",
        "figura\n",
        "\n",
        "<i>Sampling</i> é um pré-processamento que visa minimizar as discrepâncias entre as classes por meio de uma reamostragem. Para gerar um conjunto balanceado, são usadas normalmente as seguintes técnicas:\n",
        "\n",
        "- <b>Over-sampling</b>: cria novas observações da classe minoritária a partir das informações contidas nos dados originais. Essa geração de novas entradas pode ser feita aleatoriamente com o auxílio de técnicas de clustering ou sinteticamente.\n",
        "- <b>Under-sampling</b>: reduz o desbalanceamento do dataset focando na classe majoritária. Ou seja, elimina aleatoriamente entradas da classe com maior número de ocorrências.\n",
        "\n",
        "\n",
        "### Vantagens e desvantagens de cada técnica\n",
        "\n",
        "Não existem uma solução perfeita e única, apenas com vantagens. Cada escolha uma renúncia, isso é <i>Data Science</i>. Quando você opta por uma abordagem, tem que estar ciente das limitações e implicações nos seus resultados – e transmitir isso para os <i>stakeholders</i>.\n",
        "\n",
        "O <i><b>Over-sampling</b></i> replica os dados já existentes, aumentando o número de instâncias das classes minoritárias. A vantagem é que nenhuma informação é descartada, porém o custo computacional será elevado e você irá deteriorar a performance do algoritmo para as classes minoritárias.\n",
        "\n",
        "Já o <i><b>Under-sampling</b></i> vai extrair um subconjunto aleatório da classe majoritária, preservando as características da classe minoritária, sendo ideal para situações onde você tem grandes volumes de dados. Apesar de reduzir o tempo computacional e de armazenamento, esta técnica descarta informações da classe majoritária, o que pode levar a uma performance inferior nas predições dela."
      ]
    },
    {
      "cell_type": "code",
      "metadata": {
        "id": "-CS86pcK0b4t"
      },
      "source": [
        "!pip install -q scikit-plot\n",
        "import scikitplot as skplt"
      ],
      "execution_count": 23,
      "outputs": []
    },
    {
      "cell_type": "code",
      "metadata": {
        "id": "Xr9PtiN4yVT4",
        "outputId": "0213b747-f982-4f25-8d17-9ac6ddd0c914",
        "colab": {
          "base_uri": "https://localhost:8080/",
          "height": 105
        }
      },
      "source": [
        "# importar os pacotes necessários\n",
        "import pandas as pd\n",
        "import matplotlib.pyplot as plt\n",
        "import seaborn as sns\n",
        "\n",
        "from sklearn.linear_model import LogisticRegression\n",
        "from sklearn.metrics import classification_report\n",
        "from sklearn.model_selection import train_test_split\n",
        "from sklearn.metrics import roc_auc_score, roc_curve, accuracy_score\n",
        "from imblearn.under_sampling import RandomUnderSampler\n",
        "\n",
        "# configurar o estilo dos gráficos com o Seaborn\n",
        "sns.set_style('dark')"
      ],
      "execution_count": 24,
      "outputs": [
        {
          "output_type": "stream",
          "text": [
            "/usr/local/lib/python3.6/dist-packages/sklearn/externals/six.py:31: FutureWarning: The module is deprecated in version 0.21 and will be removed in version 0.23 since we've dropped support for Python 2.7. Please rely on the official version of six (https://pypi.org/project/six/).\n",
            "  \"(https://pypi.org/project/six/).\", FutureWarning)\n",
            "/usr/local/lib/python3.6/dist-packages/sklearn/utils/deprecation.py:144: FutureWarning: The sklearn.neighbors.base module is  deprecated in version 0.22 and will be removed in version 0.24. The corresponding classes / functions should instead be imported from sklearn.neighbors. Anything that cannot be imported from sklearn.neighbors is now part of the private API.\n",
            "  warnings.warn(message, FutureWarning)\n"
          ],
          "name": "stderr"
        }
      ]
    },
    {
      "cell_type": "code",
      "metadata": {
        "id": "QN77KroU5VvC",
        "outputId": "50e53bed-4c25-4a4c-c9dc-f039b8a6cfe4",
        "colab": {
          "base_uri": "https://localhost:8080/",
          "height": 446
        }
      },
      "source": [
        "# ver o balanceamento das classes\n",
        "print(df.isFraud.value_counts())\n",
        "print(\"\\nFraudes representam {:.4f}% do dataset.\\n\".format((df[df.isFraud == 1].shape[0] / df.shape[0]) * 100))\n",
        " \n",
        "# plotar gráfico de barras para as Classes\n",
        "sns.countplot('isFraud', data=df);"
      ],
      "execution_count": 25,
      "outputs": [
        {
          "output_type": "stream",
          "text": [
            "0    6354407\n",
            "1       8213\n",
            "Name: isFraud, dtype: int64\n",
            "\n",
            "Fraudes representam 0.1291% do dataset.\n",
            "\n"
          ],
          "name": "stdout"
        },
        {
          "output_type": "stream",
          "text": [
            "/usr/local/lib/python3.6/dist-packages/seaborn/_decorators.py:43: FutureWarning: Pass the following variable as a keyword arg: x. From version 0.12, the only valid positional argument will be `data`, and passing other arguments without an explicit keyword will result in an error or misinterpretation.\n",
            "  FutureWarning\n"
          ],
          "name": "stderr"
        },
        {
          "output_type": "display_data",
          "data": {
            "image/png": "[encoded data removed]",
            "text/plain": [
              "<Figure size 432x288 with 1 Axes>"
            ]
          },
          "metadata": {
            "tags": []
          }
        }
      ]
    },
    {
      "cell_type": "markdown",
      "metadata": {
        "id": "cCo9ZnaB5xiE"
      },
      "source": [
        "### Separando nossos dados em teste e treino\n"
      ]
    },
    {
      "cell_type": "code",
      "metadata": {
        "id": "d3mR8WPNykK0",
        "outputId": "0e3d72b3-2075-47b8-d9f7-1b7572f56102",
        "colab": {
          "base_uri": "https://localhost:8080/",
          "height": 533
        }
      },
      "source": [
        "# separar variáveis entre X e y\n",
        "X = scaled_df.drop('isFraud', axis=1)\n",
        "y = scaled_df['isFraud']\n",
        "\n",
        "# dividir o dataset entre treino e teste\n",
        "X_train, X_test, y_train, y_test = train_test_split(X, y, stratify=y, shuffle=True)\n",
        "\n",
        "# instanciar e treinar um modelo de Regressão Logística\n",
        "model = LogisticRegression()\n",
        "model.fit(X_train, y_train)\n",
        "\n",
        "# fazer as previsões em cima dos dados de teste\n",
        "y_pred = model.predict(X_test)\n",
        "y_proba = model.predict_proba(X_test)\n",
        "\n",
        "# plotar a matrix de confusão\n",
        "skplt.metrics.plot_confusion_matrix(y_test, y_pred, normalize=True)\n",
        "\n",
        "# imprimir relatório de classificação\n",
        "print(\"Relatório de Classificação:\\n\", classification_report(y_test, y_pred, digits=4))\n",
        "\n",
        "# imprimir a acurácia do modelo\n",
        "print(\"Acurácia: {:.4f}\\n\".format(accuracy_score(y_test, y_pred)))\n",
        "\n",
        "# imprimir a área sob a curva\n",
        "print(\"AUC: {:.4f}\\n\".format(roc_auc_score(y_test, y_pred)))"
      ],
      "execution_count": 26,
      "outputs": [
        {
          "output_type": "stream",
          "text": [
            "Relatório de Classificação:\n",
            "               precision    recall  f1-score   support\n",
            "\n",
            "           0     0.9992    0.9999    0.9996   1588602\n",
            "           1     0.9068    0.4170    0.5712      2053\n",
            "\n",
            "    accuracy                         0.9992   1590655\n",
            "   macro avg     0.9530    0.7084    0.7854   1590655\n",
            "weighted avg     0.9991    0.9992    0.9990   1590655\n",
            "\n",
            "Acurácia: 0.9992\n",
            "\n",
            "AUC: 0.7084\n",
            "\n"
          ],
          "name": "stdout"
        },
        {
          "output_type": "display_data",
          "data": {
            "image/png": "[encoded data removed]",
            "text/plain": [
              "<Figure size 432x288 with 2 Axes>"
            ]
          },
          "metadata": {
            "tags": []
          }
        }
      ]
    },
    {
      "cell_type": "markdown",
      "metadata": {
        "id": "OnvZ8LrC6chl"
      },
      "source": [
        "## Balanceando nossos dados com a técnica Under-Sampling"
      ]
    },
    {
      "cell_type": "code",
      "metadata": {
        "id": "Aia_big90-ii",
        "outputId": "8196b546-4409-494a-c376-acdcc2cb3c74",
        "colab": {
          "base_uri": "https://localhost:8080/",
          "height": 404
        }
      },
      "source": [
        "# usar técnica under-sampling\n",
        "rus = RandomUnderSampler()\n",
        "X_res, y_res = rus.fit_sample(X_train, y_train)\n",
        "\n",
        "# ver o balanceamento das classes\n",
        "print(pd.Series(y_res).value_counts())\n",
        "\n",
        "# plotar a nova distribuição de classes\n",
        "sns.countplot(y_res);"
      ],
      "execution_count": 27,
      "outputs": [
        {
          "output_type": "stream",
          "text": [
            "1    6160\n",
            "0    6160\n",
            "dtype: int64\n"
          ],
          "name": "stdout"
        },
        {
          "output_type": "stream",
          "text": [
            "/usr/local/lib/python3.6/dist-packages/sklearn/utils/deprecation.py:87: FutureWarning: Function safe_indexing is deprecated; safe_indexing is deprecated in version 0.22 and will be removed in version 0.24.\n",
            "  warnings.warn(msg, category=FutureWarning)\n",
            "/usr/local/lib/python3.6/dist-packages/seaborn/_decorators.py:43: FutureWarning: Pass the following variable as a keyword arg: x. From version 0.12, the only valid positional argument will be `data`, and passing other arguments without an explicit keyword will result in an error or misinterpretation.\n",
            "  FutureWarning\n"
          ],
          "name": "stderr"
        },
        {
          "output_type": "display_data",
          "data": {
            "image/png": "[encoded data removed]",
            "text/plain": [
              "<Figure size 432x288 with 1 Axes>"
            ]
          },
          "metadata": {
            "tags": []
          }
        }
      ]
    },
    {
      "cell_type": "markdown",
      "metadata": {
        "id": "9j0_z3uB6l8I"
      },
      "source": [
        "## Aplicando novamente o modelo de Regressão Logística para os dados balanceados"
      ]
    },
    {
      "cell_type": "code",
      "metadata": {
        "id": "Z3bcNg2EUxCS",
        "outputId": "d3d44fb9-db15-4bb9-91f7-7ddaa4ec031c",
        "colab": {
          "base_uri": "https://localhost:8080/",
          "height": 533
        }
      },
      "source": [
        "# instanciar e treinar um modelo de Regressão Logística\n",
        "model_res = LogisticRegression()\n",
        "model_res.fit(X_res, y_res)\n",
        "\n",
        "# fazer as previsões em cima dos dados de teste\n",
        "y_pred_res = model_res.predict(X_test)\n",
        "y_proba_res = model_res.predict_proba(X_test)\n",
        "\n",
        "# plotar a matrix de confusão\n",
        "skplt.metrics.plot_confusion_matrix(y_test, y_pred_res, normalize=True)\n",
        "\n",
        "# imprimir relatório de classificação\n",
        "print(\"Relatório de Classificação:\\n\", classification_report(y_test, y_pred_res, digits=4))\n",
        "\n",
        "# imprimir a acurácia do modelo\n",
        "print(\"Acurácia: {:.4f}\\n\".format(accuracy_score(y_test, y_pred_res)))\n",
        "\n",
        "# imprimir a área sob da curva\n",
        "print(\"AUC: {:.4f}\\n\".format(roc_auc_score(y_test, y_pred_res)))"
      ],
      "execution_count": 28,
      "outputs": [
        {
          "output_type": "stream",
          "text": [
            "Relatório de Classificação:\n",
            "               precision    recall  f1-score   support\n",
            "\n",
            "           0     0.9998    0.9709    0.9851   1588602\n",
            "           1     0.0349    0.8149    0.0669      2053\n",
            "\n",
            "    accuracy                         0.9707   1590655\n",
            "   macro avg     0.5173    0.8929    0.5260   1590655\n",
            "weighted avg     0.9985    0.9707    0.9839   1590655\n",
            "\n",
            "Acurácia: 0.9707\n",
            "\n",
            "AUC: 0.8929\n",
            "\n"
          ],
          "name": "stdout"
        },
        {
          "output_type": "display_data",
          "data": {
            "image/png": "[encoded data removed]",
            "text/plain": [
              "<Figure size 432x288 with 2 Axes>"
            ]
          },
          "metadata": {
            "tags": []
          }
        }
      ]
    },
    {
      "cell_type": "code",
      "metadata": {
        "id": "Mq9mmNweeLLt"
      },
      "source": [
        ""
      ],
      "execution_count": null,
      "outputs": []
    }
  ]
}