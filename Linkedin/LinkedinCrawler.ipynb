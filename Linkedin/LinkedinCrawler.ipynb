{
 "cells": [
  {
   "cell_type": "markdown",
   "metadata": {},
   "source": [
    "# Crawler no Linkedin\n",
    "### Este projeto faz a captura diversas informações dos seus seguidores. "
   ]
  },
  {
   "cell_type": "code",
   "execution_count": 1,
   "metadata": {},
   "outputs": [
    {
     "name": "stdout",
     "output_type": "stream",
     "text": [
      "Requirement already satisfied: tqdm in c:\\programdata\\anaconda3\\lib\\site-packages (4.50.2)\n"
     ]
    }
   ],
   "source": [
    "# Instalar a biblioteca tqdm \n",
    "# Cria a barra de progresso\n",
    "!pip install tqdm"
   ]
  },
  {
   "cell_type": "code",
   "execution_count": 2,
   "metadata": {},
   "outputs": [
    {
     "name": "stdout",
     "output_type": "stream",
     "text": [
      "Requirement already satisfied: pyppeteer in c:\\programdata\\anaconda3\\lib\\site-packages (0.2.2)\n",
      "Requirement already satisfied: urllib3<2.0.0,>=1.25.8 in c:\\programdata\\anaconda3\\lib\\site-packages (from pyppeteer) (1.25.11)\n",
      "Requirement already satisfied: tqdm<5.0.0,>=4.42.1 in c:\\programdata\\anaconda3\\lib\\site-packages (from pyppeteer) (4.50.2)\n",
      "Requirement already satisfied: appdirs<2.0.0,>=1.4.3 in c:\\programdata\\anaconda3\\lib\\site-packages (from pyppeteer) (1.4.4)\n",
      "Requirement already satisfied: pyee<8.0.0,>=7.0.1 in c:\\programdata\\anaconda3\\lib\\site-packages (from pyppeteer) (7.0.4)\n",
      "Requirement already satisfied: websockets<9.0,>=8.1 in c:\\programdata\\anaconda3\\lib\\site-packages (from pyppeteer) (8.1)\n"
     ]
    }
   ],
   "source": [
    "# Instalar a biblioteca pyppeteer\n",
    "# Necessária para executar o browser\n",
    "!pip install pyppeteer"
   ]
  },
  {
   "cell_type": "code",
   "execution_count": 3,
   "metadata": {},
   "outputs": [],
   "source": [
    "# Importação das bibliotecas necessárias\n",
    "import asyncio\n",
    "from pyppeteer import launch\n",
    "import pandas as pd\n",
    "import requests\n",
    "from json import loads\n",
    "import time\n",
    "import random\n",
    "from datetime import datetime\n",
    "from tqdm.notebook import tqdm"
   ]
  },
  {
   "cell_type": "markdown",
   "metadata": {},
   "source": [
    "# Inicialização do browser para o usuário logar\n",
    "\n",
    "Faça login até chegar na página inicial do seu linkedin\n"
   ]
  },
  {
   "cell_type": "code",
   "execution_count": 4,
   "metadata": {},
   "outputs": [
    {
     "data": {
      "text/plain": [
       "<pyppeteer.network_manager.Response at 0x22a420554c0>"
      ]
     },
     "execution_count": 4,
     "metadata": {},
     "output_type": "execute_result"
    }
   ],
   "source": [
    "browser = await launch(\n",
    "        headless=False,\n",
    "        args=['--no-sandbox'],\n",
    "        autoClose=False\n",
    "    )\n",
    "page = await browser.newPage()\n",
    "await page.goto(\"https://www.linkedin.com/\")\n",
    "\n",
    "# digite se login e senha no browser e siga até estar na sua página inicial"
   ]
  },
  {
   "cell_type": "markdown",
   "metadata": {},
   "source": [
    "# Vai até a página de seus seguidores para pegar headers da API"
   ]
  },
  {
   "cell_type": "code",
   "execution_count": 5,
   "metadata": {},
   "outputs": [
    {
     "name": "stdout",
     "output_type": "stream",
     "text": [
      "8\n"
     ]
    }
   ],
   "source": [
    "await page.goto(\"https://www.linkedin.com/feed/followers/\")\n",
    "global headers\n",
    "headers = {}\n",
    "await page.setRequestInterception(True)\n",
    "async def intercept(request):\n",
    "    if (\"https://www.linkedin.com/voyager/api/feed/richRecommendedEntities\" in request.url ):\n",
    "        global headers\n",
    "        headers = request.headers\n",
    "        print(len(headers))\n",
    "    await request.continue_()\n",
    "page.on('request', lambda req: asyncio.ensure_future(intercept(req)))\n",
    "await page.evaluate( \"() => { window.scrollBy(0, window.innerHeight); }\");\n",
    "time.sleep(5)\n",
    "cookie1 = await page.cookies()\n",
    "s = []\n",
    "for e in cookie1:\n",
    "    s.append(f\"{e['name']}={e['value']}\")\n",
    "cookie1_str = \"; \".join(s)\n",
    "headers = {key: str(value) for key, value in headers.items()}\n",
    "headers[\"cookie\"] = cookie1_str"
   ]
  },
  {
   "cell_type": "markdown",
   "metadata": {},
   "source": [
    "# Funções para puxar dados do LinkedIn"
   ]
  },
  {
   "cell_type": "code",
   "execution_count": 6,
   "metadata": {},
   "outputs": [],
   "source": [
    "# Função para capturar os dados da página do Linkedin\n",
    "def get_data(countw, index_start, url, headers):\n",
    "    try:\n",
    "        resp = requests.get(url=url.format(countw=countw, index_start=index_start), headers=headers)\n",
    "        if resp.status_code == 200:\n",
    "            data = loads(resp.content.decode(\"utf-8\"))\n",
    "            return data\n",
    "        else:\n",
    "            raise Exception(f\"not allowed. headers or coockies problems. Status: {resp.status_code}\")\n",
    "    except Exception as e:\n",
    "        print(f\"error: {e}\")\n",
    "        return []\n",
    "    \n",
    "def agrupa_entidades(elements, data):\n",
    "    for element in data['data']['elements']:\n",
    "        for inc in data['included']:\n",
    "            ek = element.get(\"*recommendedEntity\", \"a\").split(\":member:\")[-1]\n",
    "            ik = inc.get('entityUrn',\"b\").split(\":\")[-1]\n",
    "            if ek == ik:\n",
    "                e = dict()\n",
    "                e.update(element)\n",
    "                e.update(inc)\n",
    "                elements[ek] = elements.get(ek, {})\n",
    "                elements[ek].update(e)\n",
    "    return elements\n",
    "\n",
    "\n",
    "# Cria o dicionario com as colunas necessárias para armazenar os dados do Linkedin\n",
    "def dict_element(e):\n",
    "    return {\n",
    "        \"seguidores\": e[\"followerCount\"],\n",
    "        \"influenciador\": e[\"influencer\"],\n",
    "        \"nome\": f\"{e['firstName']} {e['lastName']}\",\n",
    "        \"cargo\": e[\"occupation\"],\n",
    "        \"link\": f'https://www.linkedin.com/in/{e[\"publicIdentifier\"]}',\n",
    "        \"prova_social\": e[\"socialProofTotalCount\"],\n",
    "        \"publicacoes\": f'https://www.linkedin.com/in/{e[\"publicIdentifier\"]}/detail/recent-activity/shares/',\n",
    "        \"localizacao\": e[\"locationName\"]\n",
    "    }\n",
    "\n",
    "# Armazena os dados em um dataframe\n",
    "def dataFrame_element(e):\n",
    "    return pd.DataFrame.from_dict([dict_element(e)])\n",
    "\n",
    "\n",
    "# Função para recuperar os dados da página do Linkedin\n",
    "def get_data_in_range(groups_qty, countw, first_index_start, url_inf_scroll, headers, wait_time, wait_random_time):\n",
    "    df = pd.DataFrame([], columns=[\"seguidores\", \"influenciador\", \"nome\", \"cargo\", \"link\", \"prova_social\", \"publicacoes\", \"localizacao\"])\n",
    "    for i in tqdm(range(groups_qty)):\n",
    "        # data1 = get_data(countw, 1000 + countw*i, url_inf_scroll, headers)\n",
    "        data1 = get_data(countw, countw*i, url_inf_scroll, headers)\n",
    "        elements1 = dict()\n",
    "        agrupa_entidades(elements1, data1)\n",
    "        time.sleep(wait_time + wait_random_time * random.random())\n",
    "        for e in elements1.values():\n",
    "            df_t = dataFrame_element(e)\n",
    "            df = df.append(df_t, ignore_index=True)\n",
    "    return df\n",
    "            "
   ]
  },
  {
   "cell_type": "markdown",
   "metadata": {},
   "source": [
    "# Essa etapa executa de fato a consulta\n",
    "\n",
    "No primeiro parâmetro você passa seu número de seguidores divido por 20. Pode passar menos também, para trazer apenas uma amostra.\n",
    "Os dois ultimos parâmetros são de tempo para esperar entre uma requisição. Se quiser zerar ele fica mais rápido, mas não recomendo."
   ]
  },
  {
   "cell_type": "code",
   "execution_count": 7,
   "metadata": {},
   "outputs": [
    {
     "data": {
      "application/vnd.jupyter.widget-view+json": {
       "model_id": "f53916bcccf047bf9e910ddd64e8051d",
       "version_major": 2,
       "version_minor": 0
      },
      "text/plain": [
       "HBox(children=(HTML(value=''), FloatProgress(value=0.0, max=124.0), HTML(value='')))"
      ]
     },
     "metadata": {},
     "output_type": "display_data"
    },
    {
     "name": "stdout",
     "output_type": "stream",
     "text": [
      "\n"
     ]
    },
    {
     "data": {
      "text/html": [
       "<div>\n",
       "<style scoped>\n",
       "    .dataframe tbody tr th:only-of-type {\n",
       "        vertical-align: middle;\n",
       "    }\n",
       "\n",
       "    .dataframe tbody tr th {\n",
       "        vertical-align: top;\n",
       "    }\n",
       "\n",
       "    .dataframe thead th {\n",
       "        text-align: right;\n",
       "    }\n",
       "</style>\n",
       "<table border=\"1\" class=\"dataframe\">\n",
       "  <thead>\n",
       "    <tr style=\"text-align: right;\">\n",
       "      <th></th>\n",
       "      <th>seguidores</th>\n",
       "      <th>influenciador</th>\n",
       "      <th>nome</th>\n",
       "      <th>cargo</th>\n",
       "      <th>link</th>\n",
       "      <th>prova_social</th>\n",
       "      <th>publicacoes</th>\n",
       "      <th>localizacao</th>\n",
       "    </tr>\n",
       "  </thead>\n",
       "  <tbody>\n",
       "    <tr>\n",
       "      <th>0</th>\n",
       "      <td>17028</td>\n",
       "      <td>False</td>\n",
       "      <td>Prof. Gretz</td>\n",
       "      <td>PALESTRANTE PENTA CAMPEÃO DO TOP OF MIND</td>\n",
       "      <td>https://www.linkedin.com/in/profgretz</td>\n",
       "      <td>3</td>\n",
       "      <td>https://www.linkedin.com/in/profgretz/detail/r...</td>\n",
       "      <td>None</td>\n",
       "    </tr>\n",
       "    <tr>\n",
       "      <th>1</th>\n",
       "      <td>1048</td>\n",
       "      <td>False</td>\n",
       "      <td>Joab  Santana Santos</td>\n",
       "      <td>Biologist - Data Scientist || Python || Machin...</td>\n",
       "      <td>https://www.linkedin.com/in/joabsantanna</td>\n",
       "      <td>0</td>\n",
       "      <td>https://www.linkedin.com/in/joabsantanna/detai...</td>\n",
       "      <td>None</td>\n",
       "    </tr>\n",
       "    <tr>\n",
       "      <th>2</th>\n",
       "      <td>752</td>\n",
       "      <td>False</td>\n",
       "      <td>Amazile López, PhD</td>\n",
       "      <td>Data Analytics | Análise de Dados | Data Scien...</td>\n",
       "      <td>https://www.linkedin.com/in/amazilelópez</td>\n",
       "      <td>0</td>\n",
       "      <td>https://www.linkedin.com/in/amazilelópez/detai...</td>\n",
       "      <td>None</td>\n",
       "    </tr>\n",
       "    <tr>\n",
       "      <th>3</th>\n",
       "      <td>12269</td>\n",
       "      <td>False</td>\n",
       "      <td>Anderson Carlos da Silva Pedro</td>\n",
       "      <td>Pós-Graduação Latu Sensu – Especialização em G...</td>\n",
       "      <td>https://www.linkedin.com/in/anderson-carlos-da...</td>\n",
       "      <td>4</td>\n",
       "      <td>https://www.linkedin.com/in/anderson-carlos-da...</td>\n",
       "      <td>None</td>\n",
       "    </tr>\n",
       "    <tr>\n",
       "      <th>4</th>\n",
       "      <td>443</td>\n",
       "      <td>False</td>\n",
       "      <td>João Gross</td>\n",
       "      <td>Master Researcher at Federal University of Rio...</td>\n",
       "      <td>https://www.linkedin.com/in/jlggross</td>\n",
       "      <td>0</td>\n",
       "      <td>https://www.linkedin.com/in/jlggross/detail/re...</td>\n",
       "      <td>None</td>\n",
       "    </tr>\n",
       "    <tr>\n",
       "      <th>...</th>\n",
       "      <td>...</td>\n",
       "      <td>...</td>\n",
       "      <td>...</td>\n",
       "      <td>...</td>\n",
       "      <td>...</td>\n",
       "      <td>...</td>\n",
       "      <td>...</td>\n",
       "      <td>...</td>\n",
       "    </tr>\n",
       "    <tr>\n",
       "      <th>1461</th>\n",
       "      <td>432</td>\n",
       "      <td>False</td>\n",
       "      <td>José Albuquerque Moreira</td>\n",
       "      <td>Professor na www moodlemais moodlecloud com</td>\n",
       "      <td>https://www.linkedin.com/in/josé-albuquerque-m...</td>\n",
       "      <td>0</td>\n",
       "      <td>https://www.linkedin.com/in/josé-albuquerque-m...</td>\n",
       "      <td>None</td>\n",
       "    </tr>\n",
       "    <tr>\n",
       "      <th>1462</th>\n",
       "      <td>953</td>\n",
       "      <td>False</td>\n",
       "      <td>Wilson dos Anjos Junior</td>\n",
       "      <td>Data Scientist at Beegol</td>\n",
       "      <td>https://www.linkedin.com/in/wilson-dos-anjos-j...</td>\n",
       "      <td>1</td>\n",
       "      <td>https://www.linkedin.com/in/wilson-dos-anjos-j...</td>\n",
       "      <td>None</td>\n",
       "    </tr>\n",
       "    <tr>\n",
       "      <th>1463</th>\n",
       "      <td>1664</td>\n",
       "      <td>False</td>\n",
       "      <td>Karinne Cristina</td>\n",
       "      <td>Cientista de Dados Júnior | Refinaria de Dados</td>\n",
       "      <td>https://www.linkedin.com/in/karinnecristinaper...</td>\n",
       "      <td>4</td>\n",
       "      <td>https://www.linkedin.com/in/karinnecristinaper...</td>\n",
       "      <td>None</td>\n",
       "    </tr>\n",
       "    <tr>\n",
       "      <th>1464</th>\n",
       "      <td>6342</td>\n",
       "      <td>False</td>\n",
       "      <td>Alaap Dhall</td>\n",
       "      <td>Result Oriented Data Scientist | #ONO | Kaggle...</td>\n",
       "      <td>https://www.linkedin.com/in/alaapdhall</td>\n",
       "      <td>2</td>\n",
       "      <td>https://www.linkedin.com/in/alaapdhall/detail/...</td>\n",
       "      <td>None</td>\n",
       "    </tr>\n",
       "    <tr>\n",
       "      <th>1465</th>\n",
       "      <td>794</td>\n",
       "      <td>False</td>\n",
       "      <td>Arthur Otero</td>\n",
       "      <td>Consultor | TIM Brasil</td>\n",
       "      <td>https://www.linkedin.com/in/arthur-otero-57920...</td>\n",
       "      <td>0</td>\n",
       "      <td>https://www.linkedin.com/in/arthur-otero-57920...</td>\n",
       "      <td>None</td>\n",
       "    </tr>\n",
       "  </tbody>\n",
       "</table>\n",
       "<p>1466 rows × 8 columns</p>\n",
       "</div>"
      ],
      "text/plain": [
       "     seguidores influenciador                            nome  \\\n",
       "0         17028         False                     Prof. Gretz   \n",
       "1          1048         False            Joab  Santana Santos   \n",
       "2           752         False              Amazile López, PhD   \n",
       "3         12269         False  Anderson Carlos da Silva Pedro   \n",
       "4           443         False                      João Gross   \n",
       "...         ...           ...                             ...   \n",
       "1461        432         False        José Albuquerque Moreira   \n",
       "1462        953         False         Wilson dos Anjos Junior   \n",
       "1463       1664         False                Karinne Cristina   \n",
       "1464       6342         False                     Alaap Dhall   \n",
       "1465        794         False                    Arthur Otero   \n",
       "\n",
       "                                                  cargo  \\\n",
       "0              PALESTRANTE PENTA CAMPEÃO DO TOP OF MIND   \n",
       "1     Biologist - Data Scientist || Python || Machin...   \n",
       "2     Data Analytics | Análise de Dados | Data Scien...   \n",
       "3     Pós-Graduação Latu Sensu – Especialização em G...   \n",
       "4     Master Researcher at Federal University of Rio...   \n",
       "...                                                 ...   \n",
       "1461        Professor na www moodlemais moodlecloud com   \n",
       "1462                           Data Scientist at Beegol   \n",
       "1463     Cientista de Dados Júnior | Refinaria de Dados   \n",
       "1464  Result Oriented Data Scientist | #ONO | Kaggle...   \n",
       "1465                             Consultor | TIM Brasil   \n",
       "\n",
       "                                                   link prova_social  \\\n",
       "0                 https://www.linkedin.com/in/profgretz            3   \n",
       "1              https://www.linkedin.com/in/joabsantanna            0   \n",
       "2              https://www.linkedin.com/in/amazilelópez            0   \n",
       "3     https://www.linkedin.com/in/anderson-carlos-da...            4   \n",
       "4                  https://www.linkedin.com/in/jlggross            0   \n",
       "...                                                 ...          ...   \n",
       "1461  https://www.linkedin.com/in/josé-albuquerque-m...            0   \n",
       "1462  https://www.linkedin.com/in/wilson-dos-anjos-j...            1   \n",
       "1463  https://www.linkedin.com/in/karinnecristinaper...            4   \n",
       "1464             https://www.linkedin.com/in/alaapdhall            2   \n",
       "1465  https://www.linkedin.com/in/arthur-otero-57920...            0   \n",
       "\n",
       "                                            publicacoes localizacao  \n",
       "0     https://www.linkedin.com/in/profgretz/detail/r...        None  \n",
       "1     https://www.linkedin.com/in/joabsantanna/detai...        None  \n",
       "2     https://www.linkedin.com/in/amazilelópez/detai...        None  \n",
       "3     https://www.linkedin.com/in/anderson-carlos-da...        None  \n",
       "4     https://www.linkedin.com/in/jlggross/detail/re...        None  \n",
       "...                                                 ...         ...  \n",
       "1461  https://www.linkedin.com/in/josé-albuquerque-m...        None  \n",
       "1462  https://www.linkedin.com/in/wilson-dos-anjos-j...        None  \n",
       "1463  https://www.linkedin.com/in/karinnecristinaper...        None  \n",
       "1464  https://www.linkedin.com/in/alaapdhall/detail/...        None  \n",
       "1465  https://www.linkedin.com/in/arthur-otero-57920...        None  \n",
       "\n",
       "[1466 rows x 8 columns]"
      ]
     },
     "execution_count": 7,
     "metadata": {},
     "output_type": "execute_result"
    }
   ],
   "source": [
    "countw = 20\n",
    "index_start = 280\n",
    "url_inf_scroll = \"https://www.linkedin.com/voyager/api/feed/richRecommendedEntities?count={countw}&q=followerRecommendations&start={index_start}\"\n",
    "\n",
    "df = get_data_in_range(124, countw, 0, url_inf_scroll, headers, .1, .5)\n",
    "df"
   ]
  },
  {
   "cell_type": "markdown",
   "metadata": {},
   "source": [
    "#  Exibe o data frame ordenado por quantidade de seguidores"
   ]
  },
  {
   "cell_type": "code",
   "execution_count": 8,
   "metadata": {},
   "outputs": [
    {
     "data": {
      "text/html": [
       "<div>\n",
       "<style scoped>\n",
       "    .dataframe tbody tr th:only-of-type {\n",
       "        vertical-align: middle;\n",
       "    }\n",
       "\n",
       "    .dataframe tbody tr th {\n",
       "        vertical-align: top;\n",
       "    }\n",
       "\n",
       "    .dataframe thead th {\n",
       "        text-align: right;\n",
       "    }\n",
       "</style>\n",
       "<table border=\"1\" class=\"dataframe\">\n",
       "  <thead>\n",
       "    <tr style=\"text-align: right;\">\n",
       "      <th></th>\n",
       "      <th>seguidores</th>\n",
       "      <th>influenciador</th>\n",
       "      <th>nome</th>\n",
       "      <th>cargo</th>\n",
       "      <th>link</th>\n",
       "      <th>prova_social</th>\n",
       "      <th>publicacoes</th>\n",
       "      <th>localizacao</th>\n",
       "    </tr>\n",
       "  </thead>\n",
       "  <tbody>\n",
       "    <tr>\n",
       "      <th>28</th>\n",
       "      <td>39237</td>\n",
       "      <td>False</td>\n",
       "      <td>Diego Cidade</td>\n",
       "      <td>CEO da Academia do Universitário | LinkedIn To...</td>\n",
       "      <td>https://www.linkedin.com/in/diegocidade</td>\n",
       "      <td>12</td>\n",
       "      <td>https://www.linkedin.com/in/diegocidade/detail...</td>\n",
       "      <td>None</td>\n",
       "    </tr>\n",
       "    <tr>\n",
       "      <th>177</th>\n",
       "      <td>35695</td>\n",
       "      <td>False</td>\n",
       "      <td>Marco Tavora Ph.D.</td>\n",
       "      <td>Theoretical Physicist | Science and Mathematic...</td>\n",
       "      <td>https://www.linkedin.com/in/marco-tavora</td>\n",
       "      <td>14</td>\n",
       "      <td>https://www.linkedin.com/in/marco-tavora/detai...</td>\n",
       "      <td>None</td>\n",
       "    </tr>\n",
       "    <tr>\n",
       "      <th>1207</th>\n",
       "      <td>34098</td>\n",
       "      <td>False</td>\n",
       "      <td>Ana Mazzi</td>\n",
       "      <td>Talent Acquisition | Recruiter | Recrutamento ...</td>\n",
       "      <td>https://www.linkedin.com/in/ana-mazzi</td>\n",
       "      <td>14</td>\n",
       "      <td>https://www.linkedin.com/in/ana-mazzi/detail/r...</td>\n",
       "      <td>None</td>\n",
       "    </tr>\n",
       "    <tr>\n",
       "      <th>1432</th>\n",
       "      <td>32714</td>\n",
       "      <td>False</td>\n",
       "      <td>Ilya Brotzky</td>\n",
       "      <td>CEO &amp; Founder VanHack | Techstars | G20 Delega...</td>\n",
       "      <td>https://www.linkedin.com/in/ilyabrotzky</td>\n",
       "      <td>10</td>\n",
       "      <td>https://www.linkedin.com/in/ilyabrotzky/detail...</td>\n",
       "      <td>None</td>\n",
       "    </tr>\n",
       "    <tr>\n",
       "      <th>509</th>\n",
       "      <td>31341</td>\n",
       "      <td>False</td>\n",
       "      <td>Elisete Vasconcelos  _ Perfil Cheio</td>\n",
       "      <td>Talent Acquisition_Recursos Humanos _ Tech Rec...</td>\n",
       "      <td>https://www.linkedin.com/in/elisete-vasconcelo...</td>\n",
       "      <td>15</td>\n",
       "      <td>https://www.linkedin.com/in/elisete-vasconcelo...</td>\n",
       "      <td>None</td>\n",
       "    </tr>\n",
       "  </tbody>\n",
       "</table>\n",
       "</div>"
      ],
      "text/plain": [
       "     seguidores influenciador                                 nome  \\\n",
       "28        39237         False                         Diego Cidade   \n",
       "177       35695         False                   Marco Tavora Ph.D.   \n",
       "1207      34098         False                            Ana Mazzi   \n",
       "1432      32714         False                         Ilya Brotzky   \n",
       "509       31341         False  Elisete Vasconcelos  _ Perfil Cheio   \n",
       "\n",
       "                                                  cargo  \\\n",
       "28    CEO da Academia do Universitário | LinkedIn To...   \n",
       "177   Theoretical Physicist | Science and Mathematic...   \n",
       "1207  Talent Acquisition | Recruiter | Recrutamento ...   \n",
       "1432  CEO & Founder VanHack | Techstars | G20 Delega...   \n",
       "509   Talent Acquisition_Recursos Humanos _ Tech Rec...   \n",
       "\n",
       "                                                   link prova_social  \\\n",
       "28              https://www.linkedin.com/in/diegocidade           12   \n",
       "177            https://www.linkedin.com/in/marco-tavora           14   \n",
       "1207              https://www.linkedin.com/in/ana-mazzi           14   \n",
       "1432            https://www.linkedin.com/in/ilyabrotzky           10   \n",
       "509   https://www.linkedin.com/in/elisete-vasconcelo...           15   \n",
       "\n",
       "                                            publicacoes localizacao  \n",
       "28    https://www.linkedin.com/in/diegocidade/detail...        None  \n",
       "177   https://www.linkedin.com/in/marco-tavora/detai...        None  \n",
       "1207  https://www.linkedin.com/in/ana-mazzi/detail/r...        None  \n",
       "1432  https://www.linkedin.com/in/ilyabrotzky/detail...        None  \n",
       "509   https://www.linkedin.com/in/elisete-vasconcelo...        None  "
      ]
     },
     "execution_count": 8,
     "metadata": {},
     "output_type": "execute_result"
    }
   ],
   "source": [
    "df.sort_values(by=\"seguidores\", ascending=False).head()\n"
   ]
  },
  {
   "cell_type": "markdown",
   "metadata": {},
   "source": [
    "# Salva o dataframe em csv com a data e hora"
   ]
  },
  {
   "cell_type": "code",
   "execution_count": 9,
   "metadata": {},
   "outputs": [],
   "source": [
    "df.sort_values(by=\"seguidores\", ascending=False).to_csv(f'crawledin-{datetime.now().strftime(\"%Y-%m-%d_%H-%M\")}.csv', index=False)"
   ]
  },
  {
   "cell_type": "markdown",
   "metadata": {},
   "source": [
    "# Visita a página de seguidores com conteudo."
   ]
  },
  {
   "cell_type": "code",
   "execution_count": null,
   "metadata": {},
   "outputs": [],
   "source": [
    "#\n",
    "#for index, row in df.sample(20).iterrows():\n",
    "#    print(row['link'])\n",
    "#    await page.goto(row['publicacoes'])\n",
    "#    elements = (await page.querySelectorAll(\"h1\"))\n",
    "#    tem_post = True\n",
    "#    for e in elements:\n",
    "#        if \"Nada para ver por enquanto\" in await page.evaluate('(element) => element.textContent', e):\n",
    "#            tem_post = False\n",
    "#    if tem_post:\n",
    "#        time.sleep(9 + 2 * random.random())\n",
    "#    else:\n",
    "#        time.sleep(1)\n",
    "\n"
   ]
  }
 ],
 "metadata": {
  "kernelspec": {
   "display_name": "Python 3",
   "language": "python",
   "name": "python3"
  },
  "language_info": {
   "codemirror_mode": {
    "name": "ipython",
    "version": 3
   },
   "file_extension": ".py",
   "mimetype": "text/x-python",
   "name": "python",
   "nbconvert_exporter": "python",
   "pygments_lexer": "ipython3",
   "version": "3.8.5"
  }
 },
 "nbformat": 4,
 "nbformat_minor": 4
}
