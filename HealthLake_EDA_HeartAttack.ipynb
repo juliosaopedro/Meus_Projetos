{
  "nbformat": 4,
  "nbformat_minor": 0,
  "metadata": {
    "kernelspec": {
      "display_name": "Python 3",
      "language": "python",
      "name": "python3"
    },
    "language_info": {
      "codemirror_mode": {
        "name": "ipython",
        "version": 3
      },
      "file_extension": ".py",
      "mimetype": "text/x-python",
      "name": "python",
      "nbconvert_exporter": "python",
      "pygments_lexer": "ipython3",
      "version": "3.6.5"
    },
    "colab": {
      "name": "AnaliseExploratoriaDoencasCardiovasculares.ipynb",
      "provenance": []
    }
  },
  "cells": [
    {
      "cell_type": "markdown",
      "metadata": {
        "id": "l2E9QS6dgBw5"
      },
      "source": [
        "# Análise Exploratória de Dados - Doenças Cardiovasculares\n",
        "\n",
        "Doenças cardiovasculares são uma classe contendo diferentes tipos de doenças que afetam de alguma maneira o coração ou os vasos sanguíneos. Dentro da classe, existem várias doenças como angina de peito, cardiopatia, arritmia cardíaca e aneurisma da aorta.\n",
        "\n",
        "<center><img src=\"https://raw.githubusercontent.com/carlosfab/curso_data_science_na_pratica/master/modulo_03/396260-PCIO15-306.jpg\"></center>\n",
        "\n",
        "Apesar de ser uma das principais causas de morte em todo o mundo, estima-se que cerca de 90% das doenças cardiovasculares poderiam ser evitadas por meio da adoção de algumas medidas e mudanças no *lifestyle*.\n",
        "\n",
        "Existem hoje várias pesquisas na área de *Machine Learning* visando a construções de modelos preditivos que ajudem os médicos a descobrirem doenças cardiovasculares em seus pacientes.\n",
        "\n",
        "Estudos publicados na revista *na revista Nature Biomedical Engineering* mostram que algoritmos de *Deep Learning* foram capazes de antecipar doenças cardíacas em até 5 anos.\n",
        "\n",
        "Definitivamente, o uso de Inteligência Artificial tem impactado profundamente a área da saúde, e tem proporcionado aos profissionais médicos insumos de inteligência cada vez mais precisos."
      ]
    },
    {
      "cell_type": "markdown",
      "metadata": {
        "id": "zKfjP50kgBw7"
      },
      "source": [
        "## Obtenção dos Dados\n",
        "\n",
        "O conjunto principal de dados usado neste projeto foi coletado da ***Cleveland Clinic Foundation*** e se encontra disponível no conhecido [Repositório UCI *Machine Learning*](https://archive.ics.uci.edu/ml/datasets/heart+Disease). Ressalta-se que os nomes, identidade e documentos pessoais dos pacientes foram removidos completamente do banco de dados.\n",
        "\n",
        "O *dataset* processado contém dados de 303 pessoas e 76 atributos. Entretanto, os principais artigos e estudos publicados optaram por usar apenas 14 atributos, considerados de maior relevância. Da mesma maneira, este projeto de *Data Science* usará essas mesmas 14 variáveis principais.\n",
        "\n",
        "<p><img alt=\"Colaboratory logo\" height=\"100\" src=\"https://raw.githubusercontent.com/carlosfab/curso_data_science_na_pratica/master/modulo_03/Large45.jpg\" align=\"right\" hspace=\"20px\" vspace=\"0px\"></p>\n",
        "\n",
        "* O arquivo `csv` com os dados de 303 pessoas e 14 atributos pode ser baixado [neste link](https://raw.githubusercontent.com/carlosfab/curso_data_science_na_pratica/master/modulo_03/heart-disease-uci.csv).\n",
        "\n",
        "* O arquivo contendo todos os detalhes e documentação do *dataset* usado neste projeto se encontra [neste link](https://github.com/carlosfab/curso_data_science_na_pratica/blob/master/modulo_03/heart-disease.names).\n",
        "\n",
        "* Há ainda um *dataset* secundário que será utilizado para ver a evolução no número de mortes por doenças cardiovasculares no Brasil (entre os anos de 2004-2017). Esses dados foram disponibilizados pela [Sociedade Brasileira de Cardiologia](http://www.cardiometro.com.br/anteriores.asp), e podem ser baixados [neste link](https://raw.githubusercontent.com/carlosfab/curso_data_science_na_pratica/master/modulo_03/mortes_doencas_cardiovasculares.csv).\n",
        "\n"
      ]
    },
    {
      "cell_type": "markdown",
      "metadata": {
        "id": "pab_Ze8IgBw8"
      },
      "source": [
        "### Informações sobre os atributos:\n",
        "\n",
        "\n",
        "* `age` - idade em anos\n",
        "* `sex` - sexo do paciente\n",
        "  * 0: mulher\n",
        "  * 1: homem\n",
        "* `cp` - tipo da dor torácica\n",
        "  * 1: angina típica\n",
        "  * 2: angina atípica\n",
        "  * 3: dor não cardíaca\n",
        "  * 4: assintomática\n",
        "* `trestbps` - pressão arterial em repouso\n",
        "* `chol` - colesterol sérico (*mg/dl*)\n",
        "* `fbs` - açucar no sangue em jejum > 120*mg/dl*\n",
        "  * 0: `False`\n",
        "  * 1: `True`\n",
        "* `restecg` - resultado do eletrocardiografia de repouso\n",
        "  * 0: normal\n",
        "  * 1: anormalidades de ST-T  (inversão da onda T e elevação ou depressão de > 0.05*mV*)\n",
        "  * 2: hipertrofia ventricular esquerda provável ou definitiva (pelos critérios de Romhilt-Estes)\n",
        "* `thalach` - frequência cardíaca máxima atingida\n",
        "* `exang` - angina induzida pelo exercício\n",
        "  * 0: não\n",
        "  * 1: sim\n",
        "* `oldpeak` - depessão do segmento ST induzida pelo exercício em relação ao repouso\n",
        "* `slope` - inclinação do segmento ST no pico do exercício\n",
        "* `ca` - número de vasos principais colorido por fluoroscopia\n",
        "* `thal` - *thallium stress test* é um exame de imagem nuclear que mostra como o sangue flui para o coração enquanto você se exercita ou em repouso. O *Thalium* é um elemento químico radioativo.\n",
        "  * 3: normal\n",
        "  * 6: defeito fixo\n",
        "  * 7: defeito reversível\n",
        "* `num` - diagnóstico de doença cardíaca (diagnóstico angiográfico)\n",
        "  * 0: não há doença cardíaca ( < 50% de estreitamento do diâmetro)\n",
        "  * 1,2,3,4: há doença cardíaca ( > 50% de estreitamento do diâmetro)\n",
        "  "
      ]
    },
    {
      "cell_type": "markdown",
      "metadata": {
        "id": "bIXDWbTbgBw9"
      },
      "source": [
        "### Importar os Dados\n",
        "\n",
        "Em uma etapa inicial, importaremos os dois *datasets* mencionados no início do *notebook*:\n",
        "\n",
        "* Um contendo os dados relacionados às doenças cardiovasculares (303 pessoas e 14 atributos); e\n",
        "* Um contendo os dados da mortalidade no Brasil por doenças cardiovasculares."
      ]
    },
    {
      "cell_type": "code",
      "metadata": {
        "id": "eE2p_yEEgBw-"
      },
      "source": [
        "# importar as bibliotecas necessárias\n",
        "import pandas as pd\n",
        "import matplotlib.pyplot as plt\n",
        "\n",
        "# url dos datasets\n",
        "dataset_uci = \"https://raw.githubusercontent.com/carlosfab/curso_data_science_na_pratica/master/modulo_03/heart-disease-uci.csv\"\n",
        "dataset_brasil = \"https://raw.githubusercontent.com/carlosfab/curso_data_science_na_pratica/master/modulo_03/mortes_doencas_cardiovasculares.csv\"\n",
        "\n",
        "# importar dataset da UCI\n",
        "df = pd.read_csv(dataset_uci)\n",
        "\n",
        "# importar dataset dos indíces do Brasil\n",
        "df_brasil = pd.read_csv(dataset_brasil, index_col=\"ano\")\n",
        "#df = pd.read_csv(data, index_col=\"data\", parse_dates=True)"
      ],
      "execution_count": null,
      "outputs": []
    },
    {
      "cell_type": "markdown",
      "metadata": {
        "id": "EnePelcGgBw_"
      },
      "source": [
        "### Verificando os dados importados\n",
        " * Dados da Cleveland Clinic Foundation"
      ]
    },
    {
      "cell_type": "code",
      "metadata": {
        "id": "bO3vGzpOgBxA",
        "outputId": "2e2cae09-6124-4499-83fe-8faf877141ad"
      },
      "source": [
        "df.head()"
      ],
      "execution_count": null,
      "outputs": [
        {
          "output_type": "execute_result",
          "data": {
            "text/html": [
              "<div>\n",
              "<style scoped>\n",
              "    .dataframe tbody tr th:only-of-type {\n",
              "        vertical-align: middle;\n",
              "    }\n",
              "\n",
              "    .dataframe tbody tr th {\n",
              "        vertical-align: top;\n",
              "    }\n",
              "\n",
              "    .dataframe thead th {\n",
              "        text-align: right;\n",
              "    }\n",
              "</style>\n",
              "<table border=\"1\" class=\"dataframe\">\n",
              "  <thead>\n",
              "    <tr style=\"text-align: right;\">\n",
              "      <th></th>\n",
              "      <th>age</th>\n",
              "      <th>sex</th>\n",
              "      <th>cp</th>\n",
              "      <th>trestbps</th>\n",
              "      <th>chol</th>\n",
              "      <th>fbs</th>\n",
              "      <th>restecg</th>\n",
              "      <th>thalach</th>\n",
              "      <th>exang</th>\n",
              "      <th>oldpeak</th>\n",
              "      <th>slope</th>\n",
              "      <th>ca</th>\n",
              "      <th>thal</th>\n",
              "      <th>num</th>\n",
              "    </tr>\n",
              "  </thead>\n",
              "  <tbody>\n",
              "    <tr>\n",
              "      <th>0</th>\n",
              "      <td>63.0</td>\n",
              "      <td>1.0</td>\n",
              "      <td>1.0</td>\n",
              "      <td>145.0</td>\n",
              "      <td>233.0</td>\n",
              "      <td>1.0</td>\n",
              "      <td>2.0</td>\n",
              "      <td>150.0</td>\n",
              "      <td>0.0</td>\n",
              "      <td>2.3</td>\n",
              "      <td>3.0</td>\n",
              "      <td>0.0</td>\n",
              "      <td>6.0</td>\n",
              "      <td>0</td>\n",
              "    </tr>\n",
              "    <tr>\n",
              "      <th>1</th>\n",
              "      <td>67.0</td>\n",
              "      <td>1.0</td>\n",
              "      <td>4.0</td>\n",
              "      <td>160.0</td>\n",
              "      <td>286.0</td>\n",
              "      <td>0.0</td>\n",
              "      <td>2.0</td>\n",
              "      <td>108.0</td>\n",
              "      <td>1.0</td>\n",
              "      <td>1.5</td>\n",
              "      <td>2.0</td>\n",
              "      <td>3.0</td>\n",
              "      <td>3.0</td>\n",
              "      <td>2</td>\n",
              "    </tr>\n",
              "    <tr>\n",
              "      <th>2</th>\n",
              "      <td>67.0</td>\n",
              "      <td>1.0</td>\n",
              "      <td>4.0</td>\n",
              "      <td>120.0</td>\n",
              "      <td>229.0</td>\n",
              "      <td>0.0</td>\n",
              "      <td>2.0</td>\n",
              "      <td>129.0</td>\n",
              "      <td>1.0</td>\n",
              "      <td>2.6</td>\n",
              "      <td>2.0</td>\n",
              "      <td>2.0</td>\n",
              "      <td>7.0</td>\n",
              "      <td>1</td>\n",
              "    </tr>\n",
              "    <tr>\n",
              "      <th>3</th>\n",
              "      <td>37.0</td>\n",
              "      <td>1.0</td>\n",
              "      <td>3.0</td>\n",
              "      <td>130.0</td>\n",
              "      <td>250.0</td>\n",
              "      <td>0.0</td>\n",
              "      <td>0.0</td>\n",
              "      <td>187.0</td>\n",
              "      <td>0.0</td>\n",
              "      <td>3.5</td>\n",
              "      <td>3.0</td>\n",
              "      <td>0.0</td>\n",
              "      <td>3.0</td>\n",
              "      <td>0</td>\n",
              "    </tr>\n",
              "    <tr>\n",
              "      <th>4</th>\n",
              "      <td>41.0</td>\n",
              "      <td>0.0</td>\n",
              "      <td>2.0</td>\n",
              "      <td>130.0</td>\n",
              "      <td>204.0</td>\n",
              "      <td>0.0</td>\n",
              "      <td>2.0</td>\n",
              "      <td>172.0</td>\n",
              "      <td>0.0</td>\n",
              "      <td>1.4</td>\n",
              "      <td>1.0</td>\n",
              "      <td>0.0</td>\n",
              "      <td>3.0</td>\n",
              "      <td>0</td>\n",
              "    </tr>\n",
              "  </tbody>\n",
              "</table>\n",
              "</div>"
            ],
            "text/plain": [
              "    age  sex   cp  trestbps   chol  fbs  restecg  thalach  exang  oldpeak  \\\n",
              "0  63.0  1.0  1.0     145.0  233.0  1.0      2.0    150.0    0.0      2.3   \n",
              "1  67.0  1.0  4.0     160.0  286.0  0.0      2.0    108.0    1.0      1.5   \n",
              "2  67.0  1.0  4.0     120.0  229.0  0.0      2.0    129.0    1.0      2.6   \n",
              "3  37.0  1.0  3.0     130.0  250.0  0.0      0.0    187.0    0.0      3.5   \n",
              "4  41.0  0.0  2.0     130.0  204.0  0.0      2.0    172.0    0.0      1.4   \n",
              "\n",
              "   slope   ca  thal  num  \n",
              "0    3.0  0.0   6.0    0  \n",
              "1    2.0  3.0   3.0    2  \n",
              "2    2.0  2.0   7.0    1  \n",
              "3    3.0  0.0   3.0    0  \n",
              "4    1.0  0.0   3.0    0  "
            ]
          },
          "metadata": {
            "tags": []
          },
          "execution_count": 2
        }
      ]
    },
    {
      "cell_type": "markdown",
      "metadata": {
        "id": "PfqZDjkPgBxB"
      },
      "source": [
        "* Dados da Sociedade Brasileira de Cardiologia"
      ]
    },
    {
      "cell_type": "code",
      "metadata": {
        "id": "8XftFuIDgBxC",
        "outputId": "41220de8-eb07-41eb-953b-6147648972bd"
      },
      "source": [
        "df_brasil.head()"
      ],
      "execution_count": null,
      "outputs": [
        {
          "output_type": "execute_result",
          "data": {
            "text/html": [
              "<div>\n",
              "<style scoped>\n",
              "    .dataframe tbody tr th:only-of-type {\n",
              "        vertical-align: middle;\n",
              "    }\n",
              "\n",
              "    .dataframe tbody tr th {\n",
              "        vertical-align: top;\n",
              "    }\n",
              "\n",
              "    .dataframe thead th {\n",
              "        text-align: right;\n",
              "    }\n",
              "</style>\n",
              "<table border=\"1\" class=\"dataframe\">\n",
              "  <thead>\n",
              "    <tr style=\"text-align: right;\">\n",
              "      <th></th>\n",
              "      <th>mortes_doencas_cardio</th>\n",
              "    </tr>\n",
              "    <tr>\n",
              "      <th>ano</th>\n",
              "      <th></th>\n",
              "    </tr>\n",
              "  </thead>\n",
              "  <tbody>\n",
              "    <tr>\n",
              "      <th>2017</th>\n",
              "      <td>383.961</td>\n",
              "    </tr>\n",
              "    <tr>\n",
              "      <th>2016</th>\n",
              "      <td>362.091</td>\n",
              "    </tr>\n",
              "    <tr>\n",
              "      <th>2015</th>\n",
              "      <td>349.584</td>\n",
              "    </tr>\n",
              "    <tr>\n",
              "      <th>2014</th>\n",
              "      <td>340.284</td>\n",
              "    </tr>\n",
              "    <tr>\n",
              "      <th>2013</th>\n",
              "      <td>339.672</td>\n",
              "    </tr>\n",
              "  </tbody>\n",
              "</table>\n",
              "</div>"
            ],
            "text/plain": [
              "      mortes_doencas_cardio\n",
              "ano                        \n",
              "2017                383.961\n",
              "2016                362.091\n",
              "2015                349.584\n",
              "2014                340.284\n",
              "2013                339.672"
            ]
          },
          "metadata": {
            "tags": []
          },
          "execution_count": 3
        }
      ]
    },
    {
      "cell_type": "markdown",
      "metadata": {
        "id": "JssmCIkSgBxD"
      },
      "source": [
        "Olhando acima as informações sobre os atributos da ***Cleveland Clinic Foundation*** , percebemos que nossa variável alvo (`num`) possui cinco valores possíveis: \\[0, 1, 2, 3, 4\\].\n",
        "\n",
        "No entanto, seguindo a maioria das pesquisas que utilizaram esse *dataset*, iremos considerar apenas duas situações possíveis:\n",
        "\n",
        "* **0** - não há doença cardíaca\n",
        "* **1** - há doença cardíaca\n",
        "\n",
        "Então, iremos igualar a 1 os valores compreendidos entre 1-4."
      ]
    },
    {
      "cell_type": "code",
      "metadata": {
        "id": "7eKVAvv4gBxD",
        "outputId": "4f6591d9-af3b-417a-f036-9302bea4caa9"
      },
      "source": [
        "# variável alvo antes\n",
        "df.num.value_counts()"
      ],
      "execution_count": null,
      "outputs": [
        {
          "output_type": "execute_result",
          "data": {
            "text/plain": [
              "0    164\n",
              "1     55\n",
              "2     36\n",
              "3     35\n",
              "4     13\n",
              "Name: num, dtype: int64"
            ]
          },
          "metadata": {
            "tags": []
          },
          "execution_count": 4
        }
      ]
    },
    {
      "cell_type": "code",
      "metadata": {
        "id": "5KRvAOODgBxE"
      },
      "source": [
        "# converter valores >= 1 em 1\n",
        "df.loc[df.num != 0, 'num'] = 1"
      ],
      "execution_count": null,
      "outputs": []
    },
    {
      "cell_type": "code",
      "metadata": {
        "id": "fUtt9m75gBxE",
        "outputId": "5dd6a34b-e202-4c54-8a86-b8204b0840f5"
      },
      "source": [
        "# verificando nossa alteracao\n",
        "df.num.value_counts()"
      ],
      "execution_count": null,
      "outputs": [
        {
          "output_type": "execute_result",
          "data": {
            "text/plain": [
              "0    164\n",
              "1    139\n",
              "Name: num, dtype: int64"
            ]
          },
          "metadata": {
            "tags": []
          },
          "execution_count": 6
        }
      ]
    },
    {
      "cell_type": "markdown",
      "metadata": {
        "id": "huoaEf6sgBxE"
      },
      "source": [
        "Olhando acima as informações sobre os atributos da ***Cleveland Clinic Foundation*** , nosso atributo `thal` - *thallium stress test* que é um exame de imagem nuclear que mostra como o sangue flui a ou em repouso. Possui os seguintes valores:\n",
        "  * 3: normal\n",
        "  * 6: defeito fixo\n",
        "  * 7: defeito reversível\n",
        "  \n",
        "Para efeito de análise vamos considerar apenas duas situações:\n",
        "\n",
        "* **0** - Normal\n",
        "* **1** - Defeito\n",
        "\n",
        "Então, iremos igualar a **0** os valores iguais a 3 e **1** para os valores 6 ou 7."
      ]
    },
    {
      "cell_type": "code",
      "metadata": {
        "id": "_badnH9FgBxF",
        "outputId": "3bb3f31f-039b-4d12-d141-27ec0fbc1ef2"
      },
      "source": [
        "# Quantidades antes da atualização\n",
        "df.thal.value_counts()"
      ],
      "execution_count": null,
      "outputs": [
        {
          "output_type": "execute_result",
          "data": {
            "text/plain": [
              "3.0    168\n",
              "7.0    117\n",
              "6.0     18\n",
              "Name: thal, dtype: int64"
            ]
          },
          "metadata": {
            "tags": []
          },
          "execution_count": 7
        }
      ]
    },
    {
      "cell_type": "code",
      "metadata": {
        "id": "uviTlQK8gBxF"
      },
      "source": [
        "# converter valores 3 para 0\n",
        "df.loc[df.thal == 3, 'thal'] = 0\n",
        "\n",
        "# converter valores 6 ou 7 para 1\n",
        "df.loc[df.thal == 6, 'thal'] = 1\n",
        "df.loc[df.thal == 7, 'thal'] = 1\n"
      ],
      "execution_count": null,
      "outputs": []
    },
    {
      "cell_type": "code",
      "metadata": {
        "id": "_NHaeiPQgBxF",
        "outputId": "cae6bb75-b454-412f-fb41-f6716546fd5d"
      },
      "source": [
        "# Quantidades apos atualização\n",
        "df.thal.value_counts()"
      ],
      "execution_count": null,
      "outputs": [
        {
          "output_type": "execute_result",
          "data": {
            "text/plain": [
              "0.0    168\n",
              "1.0    135\n",
              "Name: thal, dtype: int64"
            ]
          },
          "metadata": {
            "tags": []
          },
          "execution_count": 9
        }
      ]
    },
    {
      "cell_type": "markdown",
      "metadata": {
        "id": "d44Zr4iWgBxF"
      },
      "source": [
        "## Iniciando nossa análise exploratória\n",
        "\n",
        "* Ver o tamanho do df (shape)\n",
        "* Ver a descrição estatística do df (describe)\n",
        "* Ver os tipos das variáveis do df (dtypes)\n",
        "* Ver as 5 primeiras entradas do df (head)\n",
        "* Contar quantos valores \"não há doença cardíaca\" (0) e \"há doença cardíaca\" (1) existem no *dataset* (value_counts)\n",
        "* Ver valores ausentes do df (isnull().sum())\n",
        "* Plotar o gráfico de linha para df_brasil\n",
        "* Plotar o gráfico de barras para ver a quantidade de homens e mulheres em df\n",
        "* Plotar o gráfico de dispersão para as variáveis `age` e `chol`\n",
        "* plotar um histograma para o colesterol sérico\n",
        "* plotar um gráfico de pizza para `restecg`\n",
        "* Plotar um *heatmap* com as correlações\n",
        "* Qualquer outra análise que você quiser.\n"
      ]
    },
    {
      "cell_type": "markdown",
      "metadata": {
        "id": "HoLGv5oWgBxG"
      },
      "source": [
        "###  Vamos ver o tamanho do nosso conjunto de dados (dataset)"
      ]
    },
    {
      "cell_type": "code",
      "metadata": {
        "id": "xZDBIG6QgBxG",
        "outputId": "dc21911a-e14c-4c8a-ea08-d6c7e25cc8eb"
      },
      "source": [
        "print('Ocorrências. Numero de casos avaliados :', df.shape[0])\n",
        "print('Características avaliadas : ', df.shape[1])"
      ],
      "execution_count": null,
      "outputs": [
        {
          "output_type": "stream",
          "text": [
            "Ocorrências. Numero de casos avaliados : 303\n",
            "Características avaliadas :  14\n"
          ],
          "name": "stdout"
        }
      ]
    },
    {
      "cell_type": "markdown",
      "metadata": {
        "id": "MLD6EYkWgBxG"
      },
      "source": [
        "### Vamos ver como estão distribuídos os nossos dados\n",
        "* A média da idade dos pacientes é de 54 anos\n",
        "* Temos 97 mulheres e 206 homens\n",
        "* E do total de indivíduos 164 não apresentaram doenças cardiovasculares contra 139 que apresentaram."
      ]
    },
    {
      "cell_type": "code",
      "metadata": {
        "id": "7pd09wlUgBxG",
        "outputId": "cce4025a-f0aa-4ecd-bcbc-691e64fde6d8"
      },
      "source": [
        "# Distribuição Geral\n",
        "df.describe()"
      ],
      "execution_count": null,
      "outputs": [
        {
          "output_type": "execute_result",
          "data": {
            "text/html": [
              "<div>\n",
              "<style scoped>\n",
              "    .dataframe tbody tr th:only-of-type {\n",
              "        vertical-align: middle;\n",
              "    }\n",
              "\n",
              "    .dataframe tbody tr th {\n",
              "        vertical-align: top;\n",
              "    }\n",
              "\n",
              "    .dataframe thead th {\n",
              "        text-align: right;\n",
              "    }\n",
              "</style>\n",
              "<table border=\"1\" class=\"dataframe\">\n",
              "  <thead>\n",
              "    <tr style=\"text-align: right;\">\n",
              "      <th></th>\n",
              "      <th>age</th>\n",
              "      <th>sex</th>\n",
              "      <th>cp</th>\n",
              "      <th>trestbps</th>\n",
              "      <th>chol</th>\n",
              "      <th>fbs</th>\n",
              "      <th>restecg</th>\n",
              "      <th>thalach</th>\n",
              "      <th>exang</th>\n",
              "      <th>oldpeak</th>\n",
              "      <th>slope</th>\n",
              "      <th>ca</th>\n",
              "      <th>thal</th>\n",
              "      <th>num</th>\n",
              "    </tr>\n",
              "  </thead>\n",
              "  <tbody>\n",
              "    <tr>\n",
              "      <th>count</th>\n",
              "      <td>303.000000</td>\n",
              "      <td>303.000000</td>\n",
              "      <td>303.000000</td>\n",
              "      <td>303.000000</td>\n",
              "      <td>303.000000</td>\n",
              "      <td>303.000000</td>\n",
              "      <td>303.000000</td>\n",
              "      <td>303.000000</td>\n",
              "      <td>303.000000</td>\n",
              "      <td>303.000000</td>\n",
              "      <td>303.000000</td>\n",
              "      <td>303.000000</td>\n",
              "      <td>303.000000</td>\n",
              "      <td>303.000000</td>\n",
              "    </tr>\n",
              "    <tr>\n",
              "      <th>mean</th>\n",
              "      <td>54.438944</td>\n",
              "      <td>0.679868</td>\n",
              "      <td>3.158416</td>\n",
              "      <td>131.689769</td>\n",
              "      <td>246.693069</td>\n",
              "      <td>0.148515</td>\n",
              "      <td>0.990099</td>\n",
              "      <td>149.607261</td>\n",
              "      <td>0.326733</td>\n",
              "      <td>1.039604</td>\n",
              "      <td>1.600660</td>\n",
              "      <td>0.663366</td>\n",
              "      <td>0.445545</td>\n",
              "      <td>0.458746</td>\n",
              "    </tr>\n",
              "    <tr>\n",
              "      <th>std</th>\n",
              "      <td>9.038662</td>\n",
              "      <td>0.467299</td>\n",
              "      <td>0.960126</td>\n",
              "      <td>17.599748</td>\n",
              "      <td>51.776918</td>\n",
              "      <td>0.356198</td>\n",
              "      <td>0.994971</td>\n",
              "      <td>22.875003</td>\n",
              "      <td>0.469794</td>\n",
              "      <td>1.161075</td>\n",
              "      <td>0.616226</td>\n",
              "      <td>0.934375</td>\n",
              "      <td>0.497848</td>\n",
              "      <td>0.499120</td>\n",
              "    </tr>\n",
              "    <tr>\n",
              "      <th>min</th>\n",
              "      <td>29.000000</td>\n",
              "      <td>0.000000</td>\n",
              "      <td>1.000000</td>\n",
              "      <td>94.000000</td>\n",
              "      <td>126.000000</td>\n",
              "      <td>0.000000</td>\n",
              "      <td>0.000000</td>\n",
              "      <td>71.000000</td>\n",
              "      <td>0.000000</td>\n",
              "      <td>0.000000</td>\n",
              "      <td>1.000000</td>\n",
              "      <td>0.000000</td>\n",
              "      <td>0.000000</td>\n",
              "      <td>0.000000</td>\n",
              "    </tr>\n",
              "    <tr>\n",
              "      <th>25%</th>\n",
              "      <td>48.000000</td>\n",
              "      <td>0.000000</td>\n",
              "      <td>3.000000</td>\n",
              "      <td>120.000000</td>\n",
              "      <td>211.000000</td>\n",
              "      <td>0.000000</td>\n",
              "      <td>0.000000</td>\n",
              "      <td>133.500000</td>\n",
              "      <td>0.000000</td>\n",
              "      <td>0.000000</td>\n",
              "      <td>1.000000</td>\n",
              "      <td>0.000000</td>\n",
              "      <td>0.000000</td>\n",
              "      <td>0.000000</td>\n",
              "    </tr>\n",
              "    <tr>\n",
              "      <th>50%</th>\n",
              "      <td>56.000000</td>\n",
              "      <td>1.000000</td>\n",
              "      <td>3.000000</td>\n",
              "      <td>130.000000</td>\n",
              "      <td>241.000000</td>\n",
              "      <td>0.000000</td>\n",
              "      <td>1.000000</td>\n",
              "      <td>153.000000</td>\n",
              "      <td>0.000000</td>\n",
              "      <td>0.800000</td>\n",
              "      <td>2.000000</td>\n",
              "      <td>0.000000</td>\n",
              "      <td>0.000000</td>\n",
              "      <td>0.000000</td>\n",
              "    </tr>\n",
              "    <tr>\n",
              "      <th>75%</th>\n",
              "      <td>61.000000</td>\n",
              "      <td>1.000000</td>\n",
              "      <td>4.000000</td>\n",
              "      <td>140.000000</td>\n",
              "      <td>275.000000</td>\n",
              "      <td>0.000000</td>\n",
              "      <td>2.000000</td>\n",
              "      <td>166.000000</td>\n",
              "      <td>1.000000</td>\n",
              "      <td>1.600000</td>\n",
              "      <td>2.000000</td>\n",
              "      <td>1.000000</td>\n",
              "      <td>1.000000</td>\n",
              "      <td>1.000000</td>\n",
              "    </tr>\n",
              "    <tr>\n",
              "      <th>max</th>\n",
              "      <td>77.000000</td>\n",
              "      <td>1.000000</td>\n",
              "      <td>4.000000</td>\n",
              "      <td>200.000000</td>\n",
              "      <td>564.000000</td>\n",
              "      <td>1.000000</td>\n",
              "      <td>2.000000</td>\n",
              "      <td>202.000000</td>\n",
              "      <td>1.000000</td>\n",
              "      <td>6.200000</td>\n",
              "      <td>3.000000</td>\n",
              "      <td>3.000000</td>\n",
              "      <td>1.000000</td>\n",
              "      <td>1.000000</td>\n",
              "    </tr>\n",
              "  </tbody>\n",
              "</table>\n",
              "</div>"
            ],
            "text/plain": [
              "              age         sex          cp    trestbps        chol         fbs  \\\n",
              "count  303.000000  303.000000  303.000000  303.000000  303.000000  303.000000   \n",
              "mean    54.438944    0.679868    3.158416  131.689769  246.693069    0.148515   \n",
              "std      9.038662    0.467299    0.960126   17.599748   51.776918    0.356198   \n",
              "min     29.000000    0.000000    1.000000   94.000000  126.000000    0.000000   \n",
              "25%     48.000000    0.000000    3.000000  120.000000  211.000000    0.000000   \n",
              "50%     56.000000    1.000000    3.000000  130.000000  241.000000    0.000000   \n",
              "75%     61.000000    1.000000    4.000000  140.000000  275.000000    0.000000   \n",
              "max     77.000000    1.000000    4.000000  200.000000  564.000000    1.000000   \n",
              "\n",
              "          restecg     thalach       exang     oldpeak       slope          ca  \\\n",
              "count  303.000000  303.000000  303.000000  303.000000  303.000000  303.000000   \n",
              "mean     0.990099  149.607261    0.326733    1.039604    1.600660    0.663366   \n",
              "std      0.994971   22.875003    0.469794    1.161075    0.616226    0.934375   \n",
              "min      0.000000   71.000000    0.000000    0.000000    1.000000    0.000000   \n",
              "25%      0.000000  133.500000    0.000000    0.000000    1.000000    0.000000   \n",
              "50%      1.000000  153.000000    0.000000    0.800000    2.000000    0.000000   \n",
              "75%      2.000000  166.000000    1.000000    1.600000    2.000000    1.000000   \n",
              "max      2.000000  202.000000    1.000000    6.200000    3.000000    3.000000   \n",
              "\n",
              "             thal         num  \n",
              "count  303.000000  303.000000  \n",
              "mean     0.445545    0.458746  \n",
              "std      0.497848    0.499120  \n",
              "min      0.000000    0.000000  \n",
              "25%      0.000000    0.000000  \n",
              "50%      0.000000    0.000000  \n",
              "75%      1.000000    1.000000  \n",
              "max      1.000000    1.000000  "
            ]
          },
          "metadata": {
            "tags": []
          },
          "execution_count": 11
        }
      ]
    },
    {
      "cell_type": "code",
      "metadata": {
        "id": "hKuSZTehgBxH",
        "outputId": "6eb16fc2-7492-4509-cfa7-ef9396cc9640"
      },
      "source": [
        "# Quantidade por sexo\n",
        "# 0 - Mulher\n",
        "# 1 - Homen\n",
        "df.sex.value_counts()"
      ],
      "execution_count": null,
      "outputs": [
        {
          "output_type": "execute_result",
          "data": {
            "text/plain": [
              "1.0    206\n",
              "0.0     97\n",
              "Name: sex, dtype: int64"
            ]
          },
          "metadata": {
            "tags": []
          },
          "execution_count": 12
        }
      ]
    },
    {
      "cell_type": "code",
      "metadata": {
        "id": "kOukuVI2gBxH",
        "outputId": "b8fe8f29-fde6-4687-e305-5ae221de41eb"
      },
      "source": [
        "# Quantidade de ocorrencias \n",
        "# 0 Não apresenta doença\n",
        "# 1 Apresenta doença\n",
        "\n",
        "df.num.value_counts()"
      ],
      "execution_count": null,
      "outputs": [
        {
          "output_type": "execute_result",
          "data": {
            "text/plain": [
              "0    164\n",
              "1    139\n",
              "Name: num, dtype: int64"
            ]
          },
          "metadata": {
            "tags": []
          },
          "execution_count": 13
        }
      ]
    },
    {
      "cell_type": "code",
      "metadata": {
        "id": "BUE13chwgBxH",
        "outputId": "c1cd75b4-f7d3-4765-c4c5-649c3e16b41c"
      },
      "source": [
        "# Verificando a ocorrencia da presença da doenca por sexo\n",
        "# Mulheres\n",
        "# 72 Não apresentaram a doença\n",
        "# 25 Apresentaram a doença\n",
        "\n",
        "# Homens\n",
        "# 92 Não apresentaram a doença\n",
        "# 114 Apresentaram doença\n",
        "\n",
        "df.groupby(['sex','num']).count()"
      ],
      "execution_count": null,
      "outputs": [
        {
          "output_type": "execute_result",
          "data": {
            "text/html": [
              "<div>\n",
              "<style scoped>\n",
              "    .dataframe tbody tr th:only-of-type {\n",
              "        vertical-align: middle;\n",
              "    }\n",
              "\n",
              "    .dataframe tbody tr th {\n",
              "        vertical-align: top;\n",
              "    }\n",
              "\n",
              "    .dataframe thead th {\n",
              "        text-align: right;\n",
              "    }\n",
              "</style>\n",
              "<table border=\"1\" class=\"dataframe\">\n",
              "  <thead>\n",
              "    <tr style=\"text-align: right;\">\n",
              "      <th></th>\n",
              "      <th></th>\n",
              "      <th>age</th>\n",
              "      <th>cp</th>\n",
              "      <th>trestbps</th>\n",
              "      <th>chol</th>\n",
              "      <th>fbs</th>\n",
              "      <th>restecg</th>\n",
              "      <th>thalach</th>\n",
              "      <th>exang</th>\n",
              "      <th>oldpeak</th>\n",
              "      <th>slope</th>\n",
              "      <th>ca</th>\n",
              "      <th>thal</th>\n",
              "    </tr>\n",
              "    <tr>\n",
              "      <th>sex</th>\n",
              "      <th>num</th>\n",
              "      <th></th>\n",
              "      <th></th>\n",
              "      <th></th>\n",
              "      <th></th>\n",
              "      <th></th>\n",
              "      <th></th>\n",
              "      <th></th>\n",
              "      <th></th>\n",
              "      <th></th>\n",
              "      <th></th>\n",
              "      <th></th>\n",
              "      <th></th>\n",
              "    </tr>\n",
              "  </thead>\n",
              "  <tbody>\n",
              "    <tr>\n",
              "      <th rowspan=\"2\" valign=\"top\">0.0</th>\n",
              "      <th>0</th>\n",
              "      <td>72</td>\n",
              "      <td>72</td>\n",
              "      <td>72</td>\n",
              "      <td>72</td>\n",
              "      <td>72</td>\n",
              "      <td>72</td>\n",
              "      <td>72</td>\n",
              "      <td>72</td>\n",
              "      <td>72</td>\n",
              "      <td>72</td>\n",
              "      <td>72</td>\n",
              "      <td>72</td>\n",
              "    </tr>\n",
              "    <tr>\n",
              "      <th>1</th>\n",
              "      <td>25</td>\n",
              "      <td>25</td>\n",
              "      <td>25</td>\n",
              "      <td>25</td>\n",
              "      <td>25</td>\n",
              "      <td>25</td>\n",
              "      <td>25</td>\n",
              "      <td>25</td>\n",
              "      <td>25</td>\n",
              "      <td>25</td>\n",
              "      <td>25</td>\n",
              "      <td>25</td>\n",
              "    </tr>\n",
              "    <tr>\n",
              "      <th rowspan=\"2\" valign=\"top\">1.0</th>\n",
              "      <th>0</th>\n",
              "      <td>92</td>\n",
              "      <td>92</td>\n",
              "      <td>92</td>\n",
              "      <td>92</td>\n",
              "      <td>92</td>\n",
              "      <td>92</td>\n",
              "      <td>92</td>\n",
              "      <td>92</td>\n",
              "      <td>92</td>\n",
              "      <td>92</td>\n",
              "      <td>92</td>\n",
              "      <td>92</td>\n",
              "    </tr>\n",
              "    <tr>\n",
              "      <th>1</th>\n",
              "      <td>114</td>\n",
              "      <td>114</td>\n",
              "      <td>114</td>\n",
              "      <td>114</td>\n",
              "      <td>114</td>\n",
              "      <td>114</td>\n",
              "      <td>114</td>\n",
              "      <td>114</td>\n",
              "      <td>114</td>\n",
              "      <td>114</td>\n",
              "      <td>114</td>\n",
              "      <td>114</td>\n",
              "    </tr>\n",
              "  </tbody>\n",
              "</table>\n",
              "</div>"
            ],
            "text/plain": [
              "         age   cp  trestbps  chol  fbs  restecg  thalach  exang  oldpeak  \\\n",
              "sex num                                                                    \n",
              "0.0 0     72   72        72    72   72       72       72     72       72   \n",
              "    1     25   25        25    25   25       25       25     25       25   \n",
              "1.0 0     92   92        92    92   92       92       92     92       92   \n",
              "    1    114  114       114   114  114      114      114    114      114   \n",
              "\n",
              "         slope   ca  thal  \n",
              "sex num                    \n",
              "0.0 0       72   72    72  \n",
              "    1       25   25    25  \n",
              "1.0 0       92   92    92  \n",
              "    1      114  114   114  "
            ]
          },
          "metadata": {
            "tags": []
          },
          "execution_count": 14
        }
      ]
    },
    {
      "cell_type": "markdown",
      "metadata": {
        "id": "-0i9e4cIgBxI"
      },
      "source": [
        "### Vamos identificar o tipo das variáveis"
      ]
    },
    {
      "cell_type": "code",
      "metadata": {
        "id": "-Qr3GGnagBxI",
        "outputId": "06c8f0c6-b59c-4d65-84c5-ab1b824f0c85"
      },
      "source": [
        "df.dtypes"
      ],
      "execution_count": null,
      "outputs": [
        {
          "output_type": "execute_result",
          "data": {
            "text/plain": [
              "age         float64\n",
              "sex         float64\n",
              "cp          float64\n",
              "trestbps    float64\n",
              "chol        float64\n",
              "fbs         float64\n",
              "restecg     float64\n",
              "thalach     float64\n",
              "exang       float64\n",
              "oldpeak     float64\n",
              "slope       float64\n",
              "ca          float64\n",
              "thal        float64\n",
              "num           int64\n",
              "dtype: object"
            ]
          },
          "metadata": {
            "tags": []
          },
          "execution_count": 15
        }
      ]
    },
    {
      "cell_type": "markdown",
      "metadata": {
        "id": "d9zcJKM2gBxI"
      },
      "source": [
        "### Exibindo as primeiras linhas do nosso conjunto de dados"
      ]
    },
    {
      "cell_type": "code",
      "metadata": {
        "id": "SytS0qvUgBxJ",
        "outputId": "14c2910d-8bba-482d-8021-c2c48ac2d6d1"
      },
      "source": [
        "df.head()"
      ],
      "execution_count": null,
      "outputs": [
        {
          "output_type": "execute_result",
          "data": {
            "text/html": [
              "<div>\n",
              "<style scoped>\n",
              "    .dataframe tbody tr th:only-of-type {\n",
              "        vertical-align: middle;\n",
              "    }\n",
              "\n",
              "    .dataframe tbody tr th {\n",
              "        vertical-align: top;\n",
              "    }\n",
              "\n",
              "    .dataframe thead th {\n",
              "        text-align: right;\n",
              "    }\n",
              "</style>\n",
              "<table border=\"1\" class=\"dataframe\">\n",
              "  <thead>\n",
              "    <tr style=\"text-align: right;\">\n",
              "      <th></th>\n",
              "      <th>age</th>\n",
              "      <th>sex</th>\n",
              "      <th>cp</th>\n",
              "      <th>trestbps</th>\n",
              "      <th>chol</th>\n",
              "      <th>fbs</th>\n",
              "      <th>restecg</th>\n",
              "      <th>thalach</th>\n",
              "      <th>exang</th>\n",
              "      <th>oldpeak</th>\n",
              "      <th>slope</th>\n",
              "      <th>ca</th>\n",
              "      <th>thal</th>\n",
              "      <th>num</th>\n",
              "    </tr>\n",
              "  </thead>\n",
              "  <tbody>\n",
              "    <tr>\n",
              "      <th>0</th>\n",
              "      <td>63.0</td>\n",
              "      <td>1.0</td>\n",
              "      <td>1.0</td>\n",
              "      <td>145.0</td>\n",
              "      <td>233.0</td>\n",
              "      <td>1.0</td>\n",
              "      <td>2.0</td>\n",
              "      <td>150.0</td>\n",
              "      <td>0.0</td>\n",
              "      <td>2.3</td>\n",
              "      <td>3.0</td>\n",
              "      <td>0.0</td>\n",
              "      <td>1.0</td>\n",
              "      <td>0</td>\n",
              "    </tr>\n",
              "    <tr>\n",
              "      <th>1</th>\n",
              "      <td>67.0</td>\n",
              "      <td>1.0</td>\n",
              "      <td>4.0</td>\n",
              "      <td>160.0</td>\n",
              "      <td>286.0</td>\n",
              "      <td>0.0</td>\n",
              "      <td>2.0</td>\n",
              "      <td>108.0</td>\n",
              "      <td>1.0</td>\n",
              "      <td>1.5</td>\n",
              "      <td>2.0</td>\n",
              "      <td>3.0</td>\n",
              "      <td>0.0</td>\n",
              "      <td>1</td>\n",
              "    </tr>\n",
              "    <tr>\n",
              "      <th>2</th>\n",
              "      <td>67.0</td>\n",
              "      <td>1.0</td>\n",
              "      <td>4.0</td>\n",
              "      <td>120.0</td>\n",
              "      <td>229.0</td>\n",
              "      <td>0.0</td>\n",
              "      <td>2.0</td>\n",
              "      <td>129.0</td>\n",
              "      <td>1.0</td>\n",
              "      <td>2.6</td>\n",
              "      <td>2.0</td>\n",
              "      <td>2.0</td>\n",
              "      <td>1.0</td>\n",
              "      <td>1</td>\n",
              "    </tr>\n",
              "    <tr>\n",
              "      <th>3</th>\n",
              "      <td>37.0</td>\n",
              "      <td>1.0</td>\n",
              "      <td>3.0</td>\n",
              "      <td>130.0</td>\n",
              "      <td>250.0</td>\n",
              "      <td>0.0</td>\n",
              "      <td>0.0</td>\n",
              "      <td>187.0</td>\n",
              "      <td>0.0</td>\n",
              "      <td>3.5</td>\n",
              "      <td>3.0</td>\n",
              "      <td>0.0</td>\n",
              "      <td>0.0</td>\n",
              "      <td>0</td>\n",
              "    </tr>\n",
              "    <tr>\n",
              "      <th>4</th>\n",
              "      <td>41.0</td>\n",
              "      <td>0.0</td>\n",
              "      <td>2.0</td>\n",
              "      <td>130.0</td>\n",
              "      <td>204.0</td>\n",
              "      <td>0.0</td>\n",
              "      <td>2.0</td>\n",
              "      <td>172.0</td>\n",
              "      <td>0.0</td>\n",
              "      <td>1.4</td>\n",
              "      <td>1.0</td>\n",
              "      <td>0.0</td>\n",
              "      <td>0.0</td>\n",
              "      <td>0</td>\n",
              "    </tr>\n",
              "  </tbody>\n",
              "</table>\n",
              "</div>"
            ],
            "text/plain": [
              "    age  sex   cp  trestbps   chol  fbs  restecg  thalach  exang  oldpeak  \\\n",
              "0  63.0  1.0  1.0     145.0  233.0  1.0      2.0    150.0    0.0      2.3   \n",
              "1  67.0  1.0  4.0     160.0  286.0  0.0      2.0    108.0    1.0      1.5   \n",
              "2  67.0  1.0  4.0     120.0  229.0  0.0      2.0    129.0    1.0      2.6   \n",
              "3  37.0  1.0  3.0     130.0  250.0  0.0      0.0    187.0    0.0      3.5   \n",
              "4  41.0  0.0  2.0     130.0  204.0  0.0      2.0    172.0    0.0      1.4   \n",
              "\n",
              "   slope   ca  thal  num  \n",
              "0    3.0  0.0   1.0    0  \n",
              "1    2.0  3.0   0.0    1  \n",
              "2    2.0  2.0   1.0    1  \n",
              "3    3.0  0.0   0.0    0  \n",
              "4    1.0  0.0   0.0    0  "
            ]
          },
          "metadata": {
            "tags": []
          },
          "execution_count": 16
        }
      ]
    },
    {
      "cell_type": "markdown",
      "metadata": {
        "id": "Qnk1CjWsgBxJ"
      },
      "source": [
        "### Para nossa análise precisamos verificar se todos os valores estão preenchidos"
      ]
    },
    {
      "cell_type": "code",
      "metadata": {
        "id": "2sA5TPqcgBxJ",
        "outputId": "7548cfb1-784c-476e-95c9-c685ea2047ac"
      },
      "source": [
        "df.isnull().sum()"
      ],
      "execution_count": null,
      "outputs": [
        {
          "output_type": "execute_result",
          "data": {
            "text/plain": [
              "age         0\n",
              "sex         0\n",
              "cp          0\n",
              "trestbps    0\n",
              "chol        0\n",
              "fbs         0\n",
              "restecg     0\n",
              "thalach     0\n",
              "exang       0\n",
              "oldpeak     0\n",
              "slope       0\n",
              "ca          0\n",
              "thal        0\n",
              "num         0\n",
              "dtype: int64"
            ]
          },
          "metadata": {
            "tags": []
          },
          "execution_count": 17
        }
      ]
    },
    {
      "cell_type": "markdown",
      "metadata": {
        "id": "w_8ojRmQgBxK"
      },
      "source": [
        "#### Todos os nossos valores estão preenchidos."
      ]
    },
    {
      "cell_type": "markdown",
      "metadata": {
        "id": "Z5GFxpT7gBxK"
      },
      "source": [
        "### Gráfico do conjunto de dados da Sociedade Brasileira de Cardiologia"
      ]
    },
    {
      "cell_type": "markdown",
      "metadata": {
        "id": "M6roqfimgBxK"
      },
      "source": [
        "#### Para o nosso conjunto de dados da Sociedade Brasileira de Cardiologia"
      ]
    },
    {
      "cell_type": "code",
      "metadata": {
        "id": "n6uuI02ogBxK",
        "outputId": "015b63b4-2ec6-482f-d7a9-9fdf8f82b3bc"
      },
      "source": [
        "df_brasil.head()"
      ],
      "execution_count": null,
      "outputs": [
        {
          "output_type": "execute_result",
          "data": {
            "text/html": [
              "<div>\n",
              "<style scoped>\n",
              "    .dataframe tbody tr th:only-of-type {\n",
              "        vertical-align: middle;\n",
              "    }\n",
              "\n",
              "    .dataframe tbody tr th {\n",
              "        vertical-align: top;\n",
              "    }\n",
              "\n",
              "    .dataframe thead th {\n",
              "        text-align: right;\n",
              "    }\n",
              "</style>\n",
              "<table border=\"1\" class=\"dataframe\">\n",
              "  <thead>\n",
              "    <tr style=\"text-align: right;\">\n",
              "      <th></th>\n",
              "      <th>mortes_doencas_cardio</th>\n",
              "    </tr>\n",
              "    <tr>\n",
              "      <th>ano</th>\n",
              "      <th></th>\n",
              "    </tr>\n",
              "  </thead>\n",
              "  <tbody>\n",
              "    <tr>\n",
              "      <th>2017</th>\n",
              "      <td>383.961</td>\n",
              "    </tr>\n",
              "    <tr>\n",
              "      <th>2016</th>\n",
              "      <td>362.091</td>\n",
              "    </tr>\n",
              "    <tr>\n",
              "      <th>2015</th>\n",
              "      <td>349.584</td>\n",
              "    </tr>\n",
              "    <tr>\n",
              "      <th>2014</th>\n",
              "      <td>340.284</td>\n",
              "    </tr>\n",
              "    <tr>\n",
              "      <th>2013</th>\n",
              "      <td>339.672</td>\n",
              "    </tr>\n",
              "  </tbody>\n",
              "</table>\n",
              "</div>"
            ],
            "text/plain": [
              "      mortes_doencas_cardio\n",
              "ano                        \n",
              "2017                383.961\n",
              "2016                362.091\n",
              "2015                349.584\n",
              "2014                340.284\n",
              "2013                339.672"
            ]
          },
          "metadata": {
            "tags": []
          },
          "execution_count": 18
        }
      ]
    },
    {
      "cell_type": "code",
      "metadata": {
        "id": "G6vGs_ZCgBxK"
      },
      "source": [
        "# importando pacotes \n",
        "\n",
        "import matplotlib.pyplot as plt\n",
        "\n",
        "import seaborn as sns"
      ],
      "execution_count": null,
      "outputs": []
    },
    {
      "cell_type": "code",
      "metadata": {
        "id": "Qxd_RrASgBxK",
        "outputId": "d26a228a-9d36-495f-df62-6ed51992829c"
      },
      "source": [
        "# colocando um efeito para o nosso gráfico\n",
        "sns.set()\n",
        "\n",
        "# parametrizando nosso grafico\n",
        "\n",
        "fig, ax=plt.subplots()\n",
        "\n",
        "# parametrizando o grafico\n",
        "df_brasil['mortes_doencas_cardio'].plot(kind='line', ax=ax)\n",
        "\n",
        "ax.set_title(\"Evolução de mortes causadas por doenças cardiovasculares\")\n",
        "\n",
        "ax.set_xlabel(\"Anos\")\n",
        "ax.set_ylabel(\"Quantidade de mortes\")\n",
        "\n",
        "plt.tight_layout()\n"
      ],
      "execution_count": null,
      "outputs": [
        {
          "output_type": "display_data",
          "data": {
            "image/png": "[encoded data removed]",
            "text/plain": [
              "<Figure size 432x288 with 1 Axes>"
            ]
          },
          "metadata": {
            "tags": []
          }
        }
      ]
    },
    {
      "cell_type": "markdown",
      "metadata": {
        "id": "LDnaGLITgBxK"
      },
      "source": [
        "#### Pelo gráfico podemos observar que o número de mortes causadas por doenças cardiovasculares, no período de 2004 a 2016, vem aumentado"
      ]
    },
    {
      "cell_type": "markdown",
      "metadata": {
        "id": "R1DLErd-gBxK"
      },
      "source": [
        "### Vamos gerar um gráfico de barras para ver a quantidade de homens e mulheres"
      ]
    },
    {
      "cell_type": "markdown",
      "metadata": {
        "id": "5a-9JfnkgBxL"
      },
      "source": [
        "#### Substituindo os valores do sexo para texto\n",
        "* 0 - Feminino\n",
        "* 1 - Masculino"
      ]
    },
    {
      "cell_type": "code",
      "metadata": {
        "id": "QD52-R1xgBxL"
      },
      "source": [
        "# copiando o dataset para outro\n",
        "df_sexo = df.copy()\n",
        "\n",
        "# converter 0 para Feminino\n",
        "df_sexo.loc[df_sexo.sex == 0 , 'sex'] = 'Feminino'\n",
        "\n",
        "# converter 1 para Masculino\n",
        "df_sexo.loc[df_sexo.sex == 1 , 'sex'] = 'Masculino'\n"
      ],
      "execution_count": null,
      "outputs": []
    },
    {
      "cell_type": "code",
      "metadata": {
        "id": "syFk0GongBxL"
      },
      "source": [
        "import seaborn as sbr"
      ],
      "execution_count": null,
      "outputs": []
    },
    {
      "cell_type": "code",
      "metadata": {
        "id": "1HcjCcb1gBxL",
        "outputId": "317064de-fb53-4068-e0d2-accd1b2b2947"
      },
      "source": [
        "# Com Seaborn\n",
        "sbr.factorplot('sex', data=df_sexo, kind='count');"
      ],
      "execution_count": null,
      "outputs": [
        {
          "output_type": "display_data",
          "data": {
            "image/png": "[encoded data removed]",
            "text/plain": [
              "<Figure size 288x288 with 1 Axes>"
            ]
          },
          "metadata": {
            "tags": []
          }
        }
      ]
    },
    {
      "cell_type": "code",
      "metadata": {
        "id": "xt6ijQwVgBxL",
        "outputId": "c99c4d09-c9ac-4e83-9578-8b9b9ebc767f"
      },
      "source": [
        "df.sex.value_counts()"
      ],
      "execution_count": null,
      "outputs": [
        {
          "output_type": "execute_result",
          "data": {
            "text/plain": [
              "1.0    206\n",
              "0.0     97\n",
              "Name: sex, dtype: int64"
            ]
          },
          "metadata": {
            "tags": []
          },
          "execution_count": 24
        }
      ]
    },
    {
      "cell_type": "markdown",
      "metadata": {
        "id": "5vFyRGPogBxL"
      },
      "source": [
        "###  Plotar o gráfico de dispersão para as variáveis `age` e `chol`"
      ]
    },
    {
      "cell_type": "code",
      "metadata": {
        "id": "T1f5NNRJgBxL",
        "outputId": "f14cfb91-34f2-4bab-917f-07ca5a993e28"
      },
      "source": [
        "fig, ax=plt.subplots(figsize=(10,6))\n",
        "\n",
        "df.plot.scatter(c='blue', x='age', y='chol', ax=ax);"
      ],
      "execution_count": null,
      "outputs": [
        {
          "output_type": "display_data",
          "data": {
            "image/png": "[encoded data removed]",
            "text/plain": [
              "<Figure size 720x432 with 1 Axes>"
            ]
          },
          "metadata": {
            "tags": []
          }
        }
      ]
    },
    {
      "cell_type": "markdown",
      "metadata": {
        "id": "UW31T1bIgBxL"
      },
      "source": [
        "### Com uma reta para representar a regressão linear"
      ]
    },
    {
      "cell_type": "code",
      "metadata": {
        "id": "yKN0GbckgBxL",
        "outputId": "aaefc985-4e5d-4e10-cc11-a69e1f4c8c8b"
      },
      "source": [
        "# importar o seaborn\n",
        "import seaborn as sns\n",
        "\n",
        "# plotar scatter plot e regressão linear\n",
        "fig, ax = plt.subplots()\n",
        "\n",
        "ax.set_xlim(right=75)\n",
        "\n",
        "sns.regplot(df['age'],df['chol'], scatter_kws={\"s\":20},\n",
        "            line_kws={\"color\": \"red\"}, data=df, ax=ax)\n",
        "\n",
        "plt.tight_layout();\n"
      ],
      "execution_count": null,
      "outputs": [
        {
          "output_type": "display_data",
          "data": {
            "image/png": "[encoded data removed]",
            "text/plain": [
              "<Figure size 432x288 with 1 Axes>"
            ]
          },
          "metadata": {
            "tags": []
          }
        }
      ]
    },
    {
      "cell_type": "markdown",
      "metadata": {
        "id": "Wu2OEAo6gBxM"
      },
      "source": [
        "* Podemos observar uma leve tendência no aumento do colesterol à medida que a idade aumenta"
      ]
    },
    {
      "cell_type": "markdown",
      "metadata": {
        "id": "ND-LcmH0gBxM"
      },
      "source": [
        "### Histograma para o colesterol sérico"
      ]
    },
    {
      "cell_type": "code",
      "metadata": {
        "id": "pfvvHEx3gBxM",
        "outputId": "44168595-c011-466d-cc07-aa53af690366"
      },
      "source": [
        "# importando numpy\n",
        "import numpy as np\n",
        "\n",
        "# valores do eixo x (xticks)\n",
        "# array([16.4 , 17.48, 18.56, 19.64, 20.72, 21.8 , 22.88, 23.96, 25.04,26.12, 27.2 ])\n",
        "count, bin_edges = np.histogram(df['chol'])\n",
        "\n",
        "# criando nosso grafico\n",
        "fig, ax=plt.subplots(figsize=(10,6))\n",
        "\n",
        "# eixo x = Colesterol Serico\n",
        "df['chol'].plot(kind='hist', ax=ax, bins=50, density= True, xticks=bin_edges)\n",
        "\n",
        "ax.set_title(\"Histograma para o Colesterol Sérico\")\n",
        "\n",
        "# Eixo y\n",
        "ax.set_ylabel(\"Frequência\")\n",
        "\n",
        "# Exibindo o gráfico\n",
        "plt.tight_layout();"
      ],
      "execution_count": null,
      "outputs": [
        {
          "output_type": "display_data",
          "data": {
            "image/png": "[encoded data removed]",
            "text/plain": [
              "<Figure size 720x432 with 1 Axes>"
            ]
          },
          "metadata": {
            "tags": []
          }
        }
      ]
    },
    {
      "cell_type": "markdown",
      "metadata": {
        "id": "JFnW6ibmgBxM"
      },
      "source": [
        "* Podemos observar que os valores se concentram, aproximadamente, entre 190 e 280 mg/dl"
      ]
    },
    {
      "cell_type": "markdown",
      "metadata": {
        "id": "g5Kx-KGMgBxM"
      },
      "source": [
        "### Gráfico de pizza para `restecg` - Resultado do Eletrocardiografia de Repouso"
      ]
    },
    {
      "cell_type": "code",
      "metadata": {
        "id": "Eggvaa-ygBxN",
        "outputId": "c7ae2b9d-b6f1-4a9b-a049-dc250419b16d"
      },
      "source": [
        "# verificando as ocorrencia para coluna `resteg` , representarão as fatias do nosso gráfico de pizza\n",
        "df['restecg'].unique()"
      ],
      "execution_count": null,
      "outputs": [
        {
          "output_type": "execute_result",
          "data": {
            "text/plain": [
              "array([2., 0., 1.])"
            ]
          },
          "metadata": {
            "tags": []
          },
          "execution_count": 28
        }
      ]
    },
    {
      "cell_type": "code",
      "metadata": {
        "id": "ysrMvboRgBxN",
        "outputId": "944d5f08-d3f6-402c-d2d2-8a33b42b88b9"
      },
      "source": [
        "# verificando a quantidade de cada ocorrencia\n",
        "# 0 - Normal\n",
        "# 1 - Anormalidades de ST\n",
        "# 2 - Hipertrofia ventricular\n",
        "\n",
        "df['restecg'].value_counts()"
      ],
      "execution_count": null,
      "outputs": [
        {
          "output_type": "execute_result",
          "data": {
            "text/plain": [
              "0.0    151\n",
              "2.0    148\n",
              "1.0      4\n",
              "Name: restecg, dtype: int64"
            ]
          },
          "metadata": {
            "tags": []
          },
          "execution_count": 29
        }
      ]
    },
    {
      "cell_type": "code",
      "metadata": {
        "id": "b0xrGtwUgBxN",
        "outputId": "9d7bf6d3-2cbb-4aac-f7ec-8e048307350b"
      },
      "source": [
        "# transformando dataframe em dicionario\n",
        "dict(df['restecg'].value_counts())"
      ],
      "execution_count": null,
      "outputs": [
        {
          "output_type": "execute_result",
          "data": {
            "text/plain": [
              "{0.0: 151, 2.0: 148, 1.0: 4}"
            ]
          },
          "metadata": {
            "tags": []
          },
          "execution_count": 30
        }
      ]
    },
    {
      "cell_type": "markdown",
      "metadata": {
        "id": "wZWAnHppgBxN"
      },
      "source": [
        "### Atribuindo descrição para os valores de restecg"
      ]
    },
    {
      "cell_type": "code",
      "metadata": {
        "id": "rv3G7WA4gBxN"
      },
      "source": [
        "df_label_pizza = df"
      ],
      "execution_count": null,
      "outputs": []
    },
    {
      "cell_type": "markdown",
      "metadata": {
        "id": "fWStc7QUgBxN"
      },
      "source": [
        "#### Renomeando os valores"
      ]
    },
    {
      "cell_type": "code",
      "metadata": {
        "id": "XqlE7Z48gBxN"
      },
      "source": [
        "df_label_pizza['restecg']=df_label_pizza['restecg'].map({0.0:'Normal', 1.0 : 'Anormalidades de ST', 2.0 : 'Hipertrofia Ventricular'})"
      ],
      "execution_count": null,
      "outputs": []
    },
    {
      "cell_type": "code",
      "metadata": {
        "id": "wekaTMDsgBxN",
        "outputId": "c4eda095-81b2-4764-c8e3-ef6b3ae87ad0"
      },
      "source": [
        "# Colocando dicionario em variavel\n",
        "df_label_pizza_dic = dict(df_label_pizza['restecg'].value_counts())\n",
        "\n",
        "df_label_pizza_dic"
      ],
      "execution_count": null,
      "outputs": [
        {
          "output_type": "execute_result",
          "data": {
            "text/plain": [
              "{'Normal': 151, 'Hipertrofia Ventricular': 148, 'Anormalidades de ST': 4}"
            ]
          },
          "metadata": {
            "tags": []
          },
          "execution_count": 33
        }
      ]
    },
    {
      "cell_type": "code",
      "metadata": {
        "id": "9mvOAewigBxO"
      },
      "source": [
        "label = df_label_pizza_dic.keys()"
      ],
      "execution_count": null,
      "outputs": []
    },
    {
      "cell_type": "code",
      "metadata": {
        "id": "JTuSfTlRgBxO"
      },
      "source": [
        "size = df_label_pizza_dic.values()"
      ],
      "execution_count": null,
      "outputs": []
    },
    {
      "cell_type": "code",
      "metadata": {
        "id": "5yLzEfbRgBxO"
      },
      "source": [
        "# destacando a fatia de maior valor\n",
        "exp = (0.1,0,0)"
      ],
      "execution_count": null,
      "outputs": []
    },
    {
      "cell_type": "code",
      "metadata": {
        "id": "Nv71iqnhgBxO"
      },
      "source": [
        "# valores em forma de percentual\n",
        "per = '%1.1f%%'"
      ],
      "execution_count": null,
      "outputs": []
    },
    {
      "cell_type": "code",
      "metadata": {
        "id": "G0Tp9zX6gBxO",
        "outputId": "5dc565f8-efb2-4c39-d5af-284b183cef25"
      },
      "source": [
        "# preparando o grafico\n",
        "fig , ax=plt.subplots(figsize=(6,6))\n",
        "\n",
        "# montado o grafico de pizza (pie)\n",
        "ax.pie(size, labels=label, explode=exp, shadow=True, autopct=per);"
      ],
      "execution_count": null,
      "outputs": [
        {
          "output_type": "display_data",
          "data": {
            "image/png": "[encoded data removed]",
            "text/plain": [
              "<Figure size 432x432 with 1 Axes>"
            ]
          },
          "metadata": {
            "tags": []
          }
        }
      ]
    },
    {
      "cell_type": "markdown",
      "metadata": {
        "id": "VFwPjuHvgBxO"
      },
      "source": [
        "* Pelo gráfico podemos observar que praticamente, metade tem o resulado normal e a outra metade tem alguma anormalidade"
      ]
    },
    {
      "cell_type": "markdown",
      "metadata": {
        "id": "9CBswnzdgBxO"
      },
      "source": [
        "### Gráfico de mapa de calor *heatmap* com as correlações\n",
        "."
      ]
    },
    {
      "cell_type": "code",
      "metadata": {
        "id": "w3kIssoVgBxO",
        "outputId": "b73a4212-fc65-496f-d1f9-92a7b45d2b94"
      },
      "source": [
        "df.head()"
      ],
      "execution_count": null,
      "outputs": [
        {
          "output_type": "execute_result",
          "data": {
            "text/html": [
              "<div>\n",
              "<style scoped>\n",
              "    .dataframe tbody tr th:only-of-type {\n",
              "        vertical-align: middle;\n",
              "    }\n",
              "\n",
              "    .dataframe tbody tr th {\n",
              "        vertical-align: top;\n",
              "    }\n",
              "\n",
              "    .dataframe thead th {\n",
              "        text-align: right;\n",
              "    }\n",
              "</style>\n",
              "<table border=\"1\" class=\"dataframe\">\n",
              "  <thead>\n",
              "    <tr style=\"text-align: right;\">\n",
              "      <th></th>\n",
              "      <th>age</th>\n",
              "      <th>sex</th>\n",
              "      <th>cp</th>\n",
              "      <th>trestbps</th>\n",
              "      <th>chol</th>\n",
              "      <th>fbs</th>\n",
              "      <th>restecg</th>\n",
              "      <th>thalach</th>\n",
              "      <th>exang</th>\n",
              "      <th>oldpeak</th>\n",
              "      <th>slope</th>\n",
              "      <th>ca</th>\n",
              "      <th>thal</th>\n",
              "      <th>num</th>\n",
              "    </tr>\n",
              "  </thead>\n",
              "  <tbody>\n",
              "    <tr>\n",
              "      <th>0</th>\n",
              "      <td>63.0</td>\n",
              "      <td>1.0</td>\n",
              "      <td>1.0</td>\n",
              "      <td>145.0</td>\n",
              "      <td>233.0</td>\n",
              "      <td>1.0</td>\n",
              "      <td>Hipertrofia Ventricular</td>\n",
              "      <td>150.0</td>\n",
              "      <td>0.0</td>\n",
              "      <td>2.3</td>\n",
              "      <td>3.0</td>\n",
              "      <td>0.0</td>\n",
              "      <td>1.0</td>\n",
              "      <td>0</td>\n",
              "    </tr>\n",
              "    <tr>\n",
              "      <th>1</th>\n",
              "      <td>67.0</td>\n",
              "      <td>1.0</td>\n",
              "      <td>4.0</td>\n",
              "      <td>160.0</td>\n",
              "      <td>286.0</td>\n",
              "      <td>0.0</td>\n",
              "      <td>Hipertrofia Ventricular</td>\n",
              "      <td>108.0</td>\n",
              "      <td>1.0</td>\n",
              "      <td>1.5</td>\n",
              "      <td>2.0</td>\n",
              "      <td>3.0</td>\n",
              "      <td>0.0</td>\n",
              "      <td>1</td>\n",
              "    </tr>\n",
              "    <tr>\n",
              "      <th>2</th>\n",
              "      <td>67.0</td>\n",
              "      <td>1.0</td>\n",
              "      <td>4.0</td>\n",
              "      <td>120.0</td>\n",
              "      <td>229.0</td>\n",
              "      <td>0.0</td>\n",
              "      <td>Hipertrofia Ventricular</td>\n",
              "      <td>129.0</td>\n",
              "      <td>1.0</td>\n",
              "      <td>2.6</td>\n",
              "      <td>2.0</td>\n",
              "      <td>2.0</td>\n",
              "      <td>1.0</td>\n",
              "      <td>1</td>\n",
              "    </tr>\n",
              "    <tr>\n",
              "      <th>3</th>\n",
              "      <td>37.0</td>\n",
              "      <td>1.0</td>\n",
              "      <td>3.0</td>\n",
              "      <td>130.0</td>\n",
              "      <td>250.0</td>\n",
              "      <td>0.0</td>\n",
              "      <td>Normal</td>\n",
              "      <td>187.0</td>\n",
              "      <td>0.0</td>\n",
              "      <td>3.5</td>\n",
              "      <td>3.0</td>\n",
              "      <td>0.0</td>\n",
              "      <td>0.0</td>\n",
              "      <td>0</td>\n",
              "    </tr>\n",
              "    <tr>\n",
              "      <th>4</th>\n",
              "      <td>41.0</td>\n",
              "      <td>0.0</td>\n",
              "      <td>2.0</td>\n",
              "      <td>130.0</td>\n",
              "      <td>204.0</td>\n",
              "      <td>0.0</td>\n",
              "      <td>Hipertrofia Ventricular</td>\n",
              "      <td>172.0</td>\n",
              "      <td>0.0</td>\n",
              "      <td>1.4</td>\n",
              "      <td>1.0</td>\n",
              "      <td>0.0</td>\n",
              "      <td>0.0</td>\n",
              "      <td>0</td>\n",
              "    </tr>\n",
              "  </tbody>\n",
              "</table>\n",
              "</div>"
            ],
            "text/plain": [
              "    age  sex   cp  trestbps   chol  fbs                  restecg  thalach  \\\n",
              "0  63.0  1.0  1.0     145.0  233.0  1.0  Hipertrofia Ventricular    150.0   \n",
              "1  67.0  1.0  4.0     160.0  286.0  0.0  Hipertrofia Ventricular    108.0   \n",
              "2  67.0  1.0  4.0     120.0  229.0  0.0  Hipertrofia Ventricular    129.0   \n",
              "3  37.0  1.0  3.0     130.0  250.0  0.0                   Normal    187.0   \n",
              "4  41.0  0.0  2.0     130.0  204.0  0.0  Hipertrofia Ventricular    172.0   \n",
              "\n",
              "   exang  oldpeak  slope   ca  thal  num  \n",
              "0    0.0      2.3    3.0  0.0   1.0    0  \n",
              "1    1.0      1.5    2.0  3.0   0.0    1  \n",
              "2    1.0      2.6    2.0  2.0   1.0    1  \n",
              "3    0.0      3.5    3.0  0.0   0.0    0  \n",
              "4    0.0      1.4    1.0  0.0   0.0    0  "
            ]
          },
          "metadata": {
            "tags": []
          },
          "execution_count": 39
        }
      ]
    },
    {
      "cell_type": "code",
      "metadata": {
        "id": "Cn9s7phmgBxP",
        "outputId": "4414de10-0e3d-46ad-c381-6a2449addbdd"
      },
      "source": [
        "# Importando pacotes necessarios para plotar um gráfico do tipo heatmap (mapa de calor)\n",
        "# Seaborn é uma biblioteca de visualização de dados Python baseada em matplotlibexang\t\n",
        "import seaborn as sbs \n",
        "\n",
        "df_heatmap = df.copy()\n",
        "\n",
        "# criar uma matriz de correlação dos atributos que mais influenciam na indicação de doença ou não\n",
        "corr = df_heatmap[['cp', 'restecg','thal','exang','restecg','oldpeak','ca','num']].corr()\n",
        "\n",
        "# mostrar a matriz de correlação\n",
        "display(corr)\n",
        "\n",
        "# plotar um heatmap a partir das correlações\n",
        "sbs.heatmap(corr, cmap='RdBu', fmt='.2f', square=True, linecolor='white', annot=True);"
      ],
      "execution_count": null,
      "outputs": [
        {
          "output_type": "display_data",
          "data": {
            "text/html": [
              "<div>\n",
              "<style scoped>\n",
              "    .dataframe tbody tr th:only-of-type {\n",
              "        vertical-align: middle;\n",
              "    }\n",
              "\n",
              "    .dataframe tbody tr th {\n",
              "        vertical-align: top;\n",
              "    }\n",
              "\n",
              "    .dataframe thead th {\n",
              "        text-align: right;\n",
              "    }\n",
              "</style>\n",
              "<table border=\"1\" class=\"dataframe\">\n",
              "  <thead>\n",
              "    <tr style=\"text-align: right;\">\n",
              "      <th></th>\n",
              "      <th>cp</th>\n",
              "      <th>thal</th>\n",
              "      <th>exang</th>\n",
              "      <th>oldpeak</th>\n",
              "      <th>ca</th>\n",
              "      <th>num</th>\n",
              "    </tr>\n",
              "  </thead>\n",
              "  <tbody>\n",
              "    <tr>\n",
              "      <th>cp</th>\n",
              "      <td>1.000000</td>\n",
              "      <td>0.260565</td>\n",
              "      <td>0.384060</td>\n",
              "      <td>0.202277</td>\n",
              "      <td>0.233117</td>\n",
              "      <td>0.414446</td>\n",
              "    </tr>\n",
              "    <tr>\n",
              "      <th>thal</th>\n",
              "      <td>0.260565</td>\n",
              "      <td>1.000000</td>\n",
              "      <td>0.324082</td>\n",
              "      <td>0.345731</td>\n",
              "      <td>0.259429</td>\n",
              "      <td>0.520628</td>\n",
              "    </tr>\n",
              "    <tr>\n",
              "      <th>exang</th>\n",
              "      <td>0.384060</td>\n",
              "      <td>0.324082</td>\n",
              "      <td>1.000000</td>\n",
              "      <td>0.288223</td>\n",
              "      <td>0.145788</td>\n",
              "      <td>0.431894</td>\n",
              "    </tr>\n",
              "    <tr>\n",
              "      <th>oldpeak</th>\n",
              "      <td>0.202277</td>\n",
              "      <td>0.345731</td>\n",
              "      <td>0.288223</td>\n",
              "      <td>1.000000</td>\n",
              "      <td>0.301067</td>\n",
              "      <td>0.424510</td>\n",
              "    </tr>\n",
              "    <tr>\n",
              "      <th>ca</th>\n",
              "      <td>0.233117</td>\n",
              "      <td>0.259429</td>\n",
              "      <td>0.145788</td>\n",
              "      <td>0.301067</td>\n",
              "      <td>1.000000</td>\n",
              "      <td>0.460033</td>\n",
              "    </tr>\n",
              "    <tr>\n",
              "      <th>num</th>\n",
              "      <td>0.414446</td>\n",
              "      <td>0.520628</td>\n",
              "      <td>0.431894</td>\n",
              "      <td>0.424510</td>\n",
              "      <td>0.460033</td>\n",
              "      <td>1.000000</td>\n",
              "    </tr>\n",
              "  </tbody>\n",
              "</table>\n",
              "</div>"
            ],
            "text/plain": [
              "               cp      thal     exang   oldpeak        ca       num\n",
              "cp       1.000000  0.260565  0.384060  0.202277  0.233117  0.414446\n",
              "thal     0.260565  1.000000  0.324082  0.345731  0.259429  0.520628\n",
              "exang    0.384060  0.324082  1.000000  0.288223  0.145788  0.431894\n",
              "oldpeak  0.202277  0.345731  0.288223  1.000000  0.301067  0.424510\n",
              "ca       0.233117  0.259429  0.145788  0.301067  1.000000  0.460033\n",
              "num      0.414446  0.520628  0.431894  0.424510  0.460033  1.000000"
            ]
          },
          "metadata": {
            "tags": []
          }
        },
        {
          "output_type": "display_data",
          "data": {
            "image/png": "[encoded data removed]",
            "text/plain": [
              "<Figure size 432x288 with 2 Axes>"
            ]
          },
          "metadata": {
            "tags": []
          }
        }
      ]
    },
    {
      "cell_type": "markdown",
      "metadata": {
        "id": "Wa-fkVEIgBxP"
      },
      "source": [
        "# Alguns insights\n",
        "\n",
        "## Analisamos dois conjuntos de dados (dataset).\n",
        "\n",
        "***Cleveland Clinic Foundation*** \n",
        "\n",
        "* Conjunto de dados relacionados às doenças cardiovasculares. \n",
        "* Foram apresentadas 303 ocorrências com 14 atributos\n",
        "* A média da idade dos pacientes é de 54 anos\n",
        "* Temos 97 mulheres e 206 homens\n",
        "* Do total de 303 ocorrências, 164 não apresentaram doenças cardiovasculares contra 139 que apresentaram.\n",
        "\n",
        "#### Por Sexo\n",
        "Mulheres\n",
        " * 72 Não apresentaram a doença\n",
        " * 25 Apresentaram a doença\n",
        "\n",
        " Homens\n",
        " * 92 Não apresentaram a doença\n",
        " * 114 Apresentaram doença\n",
        "\n",
        "Pelo gráfico de `Pizza`, conseguimos observar que praticamente metade tem o resultado normal para o Resultado do Eletrocardiograma de Repouso e a outra metade apresentou alguma anormalidade\n",
        " \n",
        " Podemos gráfico de `Dispersão` podemos concluir que existe uma uma leve tendência no aumento do colesterol à medida que a idade aumenta\n",
        " \n",
        " Analisando o Mapa de Calor `heatmap`, conseguimos identificar uma correlação entre:\n",
        " \n",
        " * `cp` - tipo da dor torácica\n",
        " * `oldpeak` - depessão do segmento ST induzida pelo exercício em relação ao repouso\n",
        " * `ca` - número de vasos principais colorido por fluoroscopia\n",
        " * `thal` - *thallium stress test* é um exame de imagem nuclear que mostra como o sangue flui para o coração enquanto você se exercita ou em repouso.\n",
        " * `exang` - angina induzida pelo exercício\n",
        " \n",
        " ***Sociedade Brasileira de Cardiologia***\n",
        " \n",
        " A partir do gráfico de linhas, vemos com clareza o aumento do número de morte ano a ano. Período avalidado, 2004 a 2017.\n"
      ]
    },
    {
      "cell_type": "code",
      "metadata": {
        "id": "Ju0liDU1gBxP"
      },
      "source": [
        ""
      ],
      "execution_count": null,
      "outputs": []
    }
  ]
}