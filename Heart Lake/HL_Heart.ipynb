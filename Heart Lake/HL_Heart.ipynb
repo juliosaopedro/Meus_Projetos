{
  "nbformat": 4,
  "nbformat_minor": 0,
  "metadata": {
    "kernelspec": {
      "display_name": "Python 3",
      "language": "python",
      "name": "python3"
    },
    "language_info": {
      "codemirror_mode": {
        "name": "ipython",
        "version": 3
      },
      "file_extension": ".py",
      "mimetype": "text/x-python",
      "name": "python",
      "nbconvert_exporter": "python",
      "pygments_lexer": "ipython3",
      "version": "3.6.5"
    },
    "colab": {
      "name": "HL_Heart",
      "provenance": [],
      "collapsed_sections": [
        "w_8ojRmQgBxK"
      ]
    }
  },
  "cells": [
    {
      "cell_type": "markdown",
      "metadata": {
        "id": "7SNVVq_Omtmm"
      },
      "source": [
        "## Nosso problema\n",
        "\n",
        "1 - O que você entendeu do dataset? Explique como se eu tivesse 5 anos de idade.<br>\n",
        "2 - Catalogar as informações e classificar os dados quanto ao tipo pode consultar a fonte\n",
        "(https://archive.ics.uci.edu/ml/datasets/Heart+Disease) <br>\n",
        "3 - É preciso tratar/normalizar algum deles? Justifique sua resposta.<br>\n",
        "4 - Tente ordenar as features por relevância. Justifique sua resposta.<br>"
      ]
    },
    {
      "cell_type": "markdown",
      "metadata": {
        "id": "l2E9QS6dgBw5"
      },
      "source": [
        "# Análise Exploratória de Dados - Doenças Cardiovasculares\n",
        "\n",
        "Doenças cardiovasculares são uma classe contendo diferentes tipos de doenças que afetam de alguma maneira o coração ou os vasos sanguíneos. Dentro da classe, existem várias doenças como angina de peito, cardiopatia, arritmia cardíaca e aneurisma da aorta.\n",
        "\n",
        "<center><img src=\"https://raw.githubusercontent.com/carlosfab/curso_data_science_na_pratica/master/modulo_03/396260-PCIO15-306.jpg\"></center>\n",
        "\n",
        "Apesar de ser uma das principais causas de morte em todo o mundo, estima-se que cerca de 90% das doenças cardiovasculares poderiam ser evitadas por meio da adoção de algumas medidas e mudanças no *lifestyle*.\n",
        "\n",
        "Existem hoje várias pesquisas na área de *Machine Learning* visando a construções de modelos preditivos que ajudem os médicos a descobrirem doenças cardiovasculares em seus pacientes.\n",
        "\n",
        "Estudos publicados na revista *na revista Nature Biomedical Engineering* mostram que algoritmos de *Deep Learning* foram capazes de antecipar doenças cardíacas em até 5 anos.\n",
        "\n",
        "Definitivamente, o uso de Inteligência Artificial tem impactado profundamente a área da saúde, e tem proporcionado aos profissionais médicos insumos de inteligência cada vez mais precisos."
      ]
    },
    {
      "cell_type": "markdown",
      "metadata": {
        "id": "zKfjP50kgBw7"
      },
      "source": [
        "## Sobre os Dados\n",
        "\n",
        "Este banco de dados contém 76 atributos, mas todos os experimentos publicados referem-se ao uso de um subconjunto de 14 deles. Em particular, o banco de dados de Cleveland é o único que tem sido usado por pesquisadores de ML para\n",
        "esta data. O campo \"alvo\" refere-se à presença de doença cardíaca no paciente. É um número inteiro com valor ***0 = nenhuma / menos chance de ataque cardíaco*** e ***1 = mais chance de ataque cardíaco***\n",
        "\n",
        "O conjunto principal de dados usado neste projeto encontra-se disponível neste [link](https://www.kaggle.com/nareshbhat/health-care-data-set-on-heart-attack-possibility). Ressalta-se que os nomes, identidade e documentos pessoais dos pacientes foram removidos completamente do banco de dados.\n",
        "\n",
        "O *dataset* processado contém dados de 303 pessoas e 76 atributos. Entretanto, os principais artigos e estudos publicados optaram por usar apenas 14 atributos, considerados de maior relevância. Da mesma maneira, este projeto de *Data Science* usará essas mesmas 14 variáveis principais.\n",
        "<p><img alt=\"Colaboratory logo\" height=\"100\" src=\"https://raw.githubusercontent.com/carlosfab/curso_data_science_na_pratica/master/modulo_03/Large45.jpg\" align=\"right\" hspace=\"20px\" vspace=\"0px\"></p>\n",
        "\n",
        "\n"
      ]
    },
    {
      "cell_type": "markdown",
      "metadata": {
        "id": "pab_Ze8IgBw8"
      },
      "source": [
        "### Informações sobre os atributos:\n",
        "\n",
        "\n",
        "* `age` - idade em anos\n",
        "* `sex` - sexo do paciente\n",
        "  * 0: mulher\n",
        "  * 1: homem\n",
        "* `cp` - tipo da dor torácica\n",
        "  * 1: angina típica\n",
        "  * 2: angina atípica\n",
        "  * 3: dor não cardíaca\n",
        "  * 4: assintomática\n",
        "* `trestbps` - pressão arterial em repouso\n",
        "* `chol` - colesterol sérico (*mg/dl*)\n",
        "* `fbs` - açucar no sangue em jejum > 120*mg/dl*\n",
        "  * 0: `False`\n",
        "  * 1: `True`\n",
        "* `restecg` - resultado do eletrocardiografia de repouso\n",
        "  * 0: normal\n",
        "  * 1: anormalidades de ST-T  (inversão da onda T e elevação ou depressão de > 0.05*mV*)\n",
        "  * 2: hipertrofia ventricular esquerda provável ou definitiva (pelos critérios de Romhilt-Estes)\n",
        "* `thalach` - frequência cardíaca máxima atingida\n",
        "* `exang` - angina induzida pelo exercício\n",
        "  * 0: não\n",
        "  * 1: sim\n",
        "* `oldpeak` - depessão do segmento ST induzida pelo exercício em relação ao repouso\n",
        "* `slope` - inclinação do segmento ST no pico do exercício\n",
        "* `ca` - número de vasos principais colorido por fluoroscopia\n",
        "* `thal` - *thallium stress test* é um exame de imagem nuclear que mostra como o sangue flui para o coração enquanto você se exercita ou em repouso. O *Thalium* é um elemento químico radioativo.\n",
        "  * 0: normal\n",
        "  * 1: defeito fixo\n",
        "  * 2: defeito reversível\n",
        "* `target` - diagnóstico de doença cardíaca (diagnóstico angiográfico)\n",
        "  * 0: não há doença cardíaca ( < 50% de estreitamento do diâmetro)\n",
        "  * 1,2,3,4: há doença cardíaca ( > 50% de estreitamento do diâmetro)\n",
        "  "
      ]
    },
    {
      "cell_type": "markdown",
      "metadata": {
        "id": "bIXDWbTbgBw9"
      },
      "source": [
        "### Importar os Dados\n",
        "\n",
        "Em uma etapa inicial, importaremos os dois *datasets* mencionados no início do *notebook*:\n",
        "\n",
        "* Um contendo os dados relacionados às doenças cardiovasculares (303 pessoas e 14 atributos); e\n",
        "* Um contendo os dados da mortalidade no Brasil por doenças cardiovasculares."
      ]
    },
    {
      "cell_type": "code",
      "metadata": {
        "id": "eE2p_yEEgBw-"
      },
      "source": [
        "# importar as bibliotecas necessárias\n",
        "import pandas as pd\n",
        "import matplotlib.pyplot as plt\n"
      ],
      "execution_count": 39,
      "outputs": []
    },
    {
      "cell_type": "code",
      "metadata": {
        "id": "gw4R1LCYiU13"
      },
      "source": [
        "# url dos datasets\n",
        "dataset = \"/content/heart.csv\"\n",
        "\n",
        "# importar dataset da UCI\n",
        "df = pd.read_csv(dataset, delimiter=';')"
      ],
      "execution_count": 40,
      "outputs": []
    },
    {
      "cell_type": "markdown",
      "metadata": {
        "id": "EnePelcGgBw_"
      },
      "source": [
        "### Verificando os dados importados\n"
      ]
    },
    {
      "cell_type": "code",
      "metadata": {
        "id": "bO3vGzpOgBxA",
        "colab": {
          "base_uri": "https://localhost:8080/",
          "height": 203
        },
        "outputId": "2dd3505c-06a6-4824-db81-84379a34f83b"
      },
      "source": [
        "df.head()"
      ],
      "execution_count": 41,
      "outputs": [
        {
          "output_type": "execute_result",
          "data": {
            "text/html": [
              "<div>\n",
              "<style scoped>\n",
              "    .dataframe tbody tr th:only-of-type {\n",
              "        vertical-align: middle;\n",
              "    }\n",
              "\n",
              "    .dataframe tbody tr th {\n",
              "        vertical-align: top;\n",
              "    }\n",
              "\n",
              "    .dataframe thead th {\n",
              "        text-align: right;\n",
              "    }\n",
              "</style>\n",
              "<table border=\"1\" class=\"dataframe\">\n",
              "  <thead>\n",
              "    <tr style=\"text-align: right;\">\n",
              "      <th></th>\n",
              "      <th>age</th>\n",
              "      <th>sex</th>\n",
              "      <th>cp</th>\n",
              "      <th>trestbps</th>\n",
              "      <th>chol</th>\n",
              "      <th>fbs</th>\n",
              "      <th>restecg</th>\n",
              "      <th>thalach</th>\n",
              "      <th>exang</th>\n",
              "      <th>oldpeak</th>\n",
              "      <th>slope</th>\n",
              "      <th>ca</th>\n",
              "      <th>thal</th>\n",
              "      <th>target</th>\n",
              "    </tr>\n",
              "  </thead>\n",
              "  <tbody>\n",
              "    <tr>\n",
              "      <th>0</th>\n",
              "      <td>63</td>\n",
              "      <td>1</td>\n",
              "      <td>3</td>\n",
              "      <td>145</td>\n",
              "      <td>233</td>\n",
              "      <td>1</td>\n",
              "      <td>0</td>\n",
              "      <td>150</td>\n",
              "      <td>0</td>\n",
              "      <td>2.3</td>\n",
              "      <td>0</td>\n",
              "      <td>0</td>\n",
              "      <td>1</td>\n",
              "      <td>1</td>\n",
              "    </tr>\n",
              "    <tr>\n",
              "      <th>1</th>\n",
              "      <td>37</td>\n",
              "      <td>1</td>\n",
              "      <td>2</td>\n",
              "      <td>130</td>\n",
              "      <td>250</td>\n",
              "      <td>0</td>\n",
              "      <td>1</td>\n",
              "      <td>187</td>\n",
              "      <td>0</td>\n",
              "      <td>3.5</td>\n",
              "      <td>0</td>\n",
              "      <td>0</td>\n",
              "      <td>2</td>\n",
              "      <td>1</td>\n",
              "    </tr>\n",
              "    <tr>\n",
              "      <th>2</th>\n",
              "      <td>41</td>\n",
              "      <td>0</td>\n",
              "      <td>1</td>\n",
              "      <td>130</td>\n",
              "      <td>204</td>\n",
              "      <td>0</td>\n",
              "      <td>0</td>\n",
              "      <td>172</td>\n",
              "      <td>0</td>\n",
              "      <td>1.4</td>\n",
              "      <td>2</td>\n",
              "      <td>0</td>\n",
              "      <td>2</td>\n",
              "      <td>1</td>\n",
              "    </tr>\n",
              "    <tr>\n",
              "      <th>3</th>\n",
              "      <td>56</td>\n",
              "      <td>1</td>\n",
              "      <td>1</td>\n",
              "      <td>120</td>\n",
              "      <td>236</td>\n",
              "      <td>0</td>\n",
              "      <td>1</td>\n",
              "      <td>178</td>\n",
              "      <td>0</td>\n",
              "      <td>0.8</td>\n",
              "      <td>2</td>\n",
              "      <td>0</td>\n",
              "      <td>2</td>\n",
              "      <td>1</td>\n",
              "    </tr>\n",
              "    <tr>\n",
              "      <th>4</th>\n",
              "      <td>57</td>\n",
              "      <td>0</td>\n",
              "      <td>0</td>\n",
              "      <td>120</td>\n",
              "      <td>354</td>\n",
              "      <td>0</td>\n",
              "      <td>1</td>\n",
              "      <td>163</td>\n",
              "      <td>1</td>\n",
              "      <td>0.6</td>\n",
              "      <td>2</td>\n",
              "      <td>0</td>\n",
              "      <td>2</td>\n",
              "      <td>1</td>\n",
              "    </tr>\n",
              "  </tbody>\n",
              "</table>\n",
              "</div>"
            ],
            "text/plain": [
              "   age  sex  cp  trestbps  chol  fbs  ...  exang  oldpeak  slope  ca  thal  target\n",
              "0   63    1   3       145   233    1  ...      0      2.3      0   0     1       1\n",
              "1   37    1   2       130   250    0  ...      0      3.5      0   0     2       1\n",
              "2   41    0   1       130   204    0  ...      0      1.4      2   0     2       1\n",
              "3   56    1   1       120   236    0  ...      0      0.8      2   0     2       1\n",
              "4   57    0   0       120   354    0  ...      1      0.6      2   0     2       1\n",
              "\n",
              "[5 rows x 14 columns]"
            ]
          },
          "metadata": {
            "tags": []
          },
          "execution_count": 41
        }
      ]
    },
    {
      "cell_type": "code",
      "metadata": {
        "id": "7eKVAvv4gBxD",
        "colab": {
          "base_uri": "https://localhost:8080/"
        },
        "outputId": "677743cd-eb3b-4fdd-a231-3cf6131e21b5"
      },
      "source": [
        "# Valores da variável alvo\n",
        "df.target.value_counts()"
      ],
      "execution_count": 42,
      "outputs": [
        {
          "output_type": "execute_result",
          "data": {
            "text/plain": [
              "1    165\n",
              "0    138\n",
              "Name: target, dtype: int64"
            ]
          },
          "metadata": {
            "tags": []
          },
          "execution_count": 42
        }
      ]
    },
    {
      "cell_type": "markdown",
      "metadata": {
        "id": "huoaEf6sgBxE"
      },
      "source": [
        "Olhando acima as informações sobre os atributos da ***Cleveland Clinic Foundation*** , nosso atributo `thal` - *thallium stress test* que é um exame de imagem nuclear que mostra como o sangue flui a ou em repouso. Possui os seguintes valores:\n",
        "  * 0: normal\n",
        "  * 1: defeito fixo\n",
        "  * 2: defeito reversível\n",
        "  \n",
        "Para efeito de análise vamos considerar apenas duas situações:\n",
        "\n",
        "* **0** - Normal\n",
        "* **1** - Defeito\n",
        "\n",
        "Então, iremos igualar a **0** os valores iguais a 0 e **1** para os valores 2 ou 3."
      ]
    },
    {
      "cell_type": "code",
      "metadata": {
        "id": "_badnH9FgBxF",
        "colab": {
          "base_uri": "https://localhost:8080/"
        },
        "outputId": "b289232b-1982-45b2-a1f0-d7c8b3b57cde"
      },
      "source": [
        "# Quantidades antes da atualização\n",
        "df.thal.value_counts()"
      ],
      "execution_count": 43,
      "outputs": [
        {
          "output_type": "execute_result",
          "data": {
            "text/plain": [
              "2    166\n",
              "3    117\n",
              "1     18\n",
              "0      2\n",
              "Name: thal, dtype: int64"
            ]
          },
          "metadata": {
            "tags": []
          },
          "execution_count": 43
        }
      ]
    },
    {
      "cell_type": "code",
      "metadata": {
        "id": "uviTlQK8gBxF"
      },
      "source": [
        "# converter valores 1 para 0\n",
        "df.loc[df.thal == 1, 'thal'] = 0\n",
        "\n",
        "# converter valores 2 ou 3 para 1\n",
        "df.loc[df.thal == 2, 'thal'] = 1\n",
        "df.loc[df.thal == 3, 'thal'] = 1\n"
      ],
      "execution_count": 44,
      "outputs": []
    },
    {
      "cell_type": "code",
      "metadata": {
        "id": "_NHaeiPQgBxF",
        "colab": {
          "base_uri": "https://localhost:8080/"
        },
        "outputId": "510330c6-a8d8-4523-80bb-75d3f799458e"
      },
      "source": [
        "# Quantidades apos atualização\n",
        "df.thal.value_counts()"
      ],
      "execution_count": 45,
      "outputs": [
        {
          "output_type": "execute_result",
          "data": {
            "text/plain": [
              "1    283\n",
              "0     20\n",
              "Name: thal, dtype: int64"
            ]
          },
          "metadata": {
            "tags": []
          },
          "execution_count": 45
        }
      ]
    },
    {
      "cell_type": "markdown",
      "metadata": {
        "id": "d44Zr4iWgBxF"
      },
      "source": [
        "## Iniciando nossa análise exploratória\n",
        "\n",
        "* Ver o tamanho do df (shape)\n",
        "* Ver a descrição estatística do df (describe)\n",
        "* Ver os tipos das variáveis do df (dtypes)\n",
        "* Ver as 5 primeiras entradas do df (head)\n",
        "* Contar quantos valores \"não há doença cardíaca\" (0) e \"há doença cardíaca\" (1) existem no *dataset* (value_counts)\n",
        "* Ver valores ausentes do df (isnull().sum())\n",
        "* Plotar o gráfico de linha para df_brasil\n",
        "* Plotar o gráfico de barras para ver a quantidade de homens e mulheres em df\n",
        "* Plotar o gráfico de dispersão para as variáveis `age` e `chol`\n",
        "* plotar um histograma para o colesterol sérico\n",
        "* plotar um gráfico de pizza para `restecg`\n",
        "* Plotar um *heatmap* com as correlações\n",
        "* Qualquer outra análise que você quiser.\n"
      ]
    },
    {
      "cell_type": "markdown",
      "metadata": {
        "id": "HoLGv5oWgBxG"
      },
      "source": [
        "###  Vamos ver o tamanho do nosso conjunto de dados (dataset)"
      ]
    },
    {
      "cell_type": "code",
      "metadata": {
        "id": "xZDBIG6QgBxG",
        "colab": {
          "base_uri": "https://localhost:8080/"
        },
        "outputId": "56b0b9f4-ff7c-4151-a0c2-7142d66cbb92"
      },
      "source": [
        "print('Ocorrências. Numero de casos avaliados :', df.shape[0])\n",
        "print('Características avaliadas : ', df.shape[1])"
      ],
      "execution_count": 46,
      "outputs": [
        {
          "output_type": "stream",
          "text": [
            "Ocorrências. Numero de casos avaliados : 303\n",
            "Características avaliadas :  14\n"
          ],
          "name": "stdout"
        }
      ]
    },
    {
      "cell_type": "markdown",
      "metadata": {
        "id": "MLD6EYkWgBxG"
      },
      "source": [
        "### Vamos ver como estão distribuídos os nossos dados\n",
        "* A média da idade dos pacientes é de 54 anos\n",
        "* Temos 96 mulheres e 207 homens\n",
        "* E do total de indivíduos 165 não apresentaram doenças cardiovasculares contra 138 que apresentaram."
      ]
    },
    {
      "cell_type": "code",
      "metadata": {
        "id": "7pd09wlUgBxG",
        "colab": {
          "base_uri": "https://localhost:8080/",
          "height": 315
        },
        "outputId": "e0c01c4a-b25a-4f9b-93c9-7935d385c005"
      },
      "source": [
        "# Distribuição Geral\n",
        "df.describe()"
      ],
      "execution_count": 47,
      "outputs": [
        {
          "output_type": "execute_result",
          "data": {
            "text/html": [
              "<div>\n",
              "<style scoped>\n",
              "    .dataframe tbody tr th:only-of-type {\n",
              "        vertical-align: middle;\n",
              "    }\n",
              "\n",
              "    .dataframe tbody tr th {\n",
              "        vertical-align: top;\n",
              "    }\n",
              "\n",
              "    .dataframe thead th {\n",
              "        text-align: right;\n",
              "    }\n",
              "</style>\n",
              "<table border=\"1\" class=\"dataframe\">\n",
              "  <thead>\n",
              "    <tr style=\"text-align: right;\">\n",
              "      <th></th>\n",
              "      <th>age</th>\n",
              "      <th>sex</th>\n",
              "      <th>cp</th>\n",
              "      <th>trestbps</th>\n",
              "      <th>chol</th>\n",
              "      <th>fbs</th>\n",
              "      <th>restecg</th>\n",
              "      <th>thalach</th>\n",
              "      <th>exang</th>\n",
              "      <th>oldpeak</th>\n",
              "      <th>slope</th>\n",
              "      <th>ca</th>\n",
              "      <th>thal</th>\n",
              "      <th>target</th>\n",
              "    </tr>\n",
              "  </thead>\n",
              "  <tbody>\n",
              "    <tr>\n",
              "      <th>count</th>\n",
              "      <td>303.000000</td>\n",
              "      <td>303.000000</td>\n",
              "      <td>303.000000</td>\n",
              "      <td>303.000000</td>\n",
              "      <td>303.000000</td>\n",
              "      <td>303.000000</td>\n",
              "      <td>303.000000</td>\n",
              "      <td>303.000000</td>\n",
              "      <td>303.000000</td>\n",
              "      <td>303.000000</td>\n",
              "      <td>303.000000</td>\n",
              "      <td>303.000000</td>\n",
              "      <td>303.000000</td>\n",
              "      <td>303.000000</td>\n",
              "    </tr>\n",
              "    <tr>\n",
              "      <th>mean</th>\n",
              "      <td>54.366337</td>\n",
              "      <td>0.683168</td>\n",
              "      <td>0.966997</td>\n",
              "      <td>131.623762</td>\n",
              "      <td>246.264026</td>\n",
              "      <td>0.148515</td>\n",
              "      <td>0.528053</td>\n",
              "      <td>149.646865</td>\n",
              "      <td>0.326733</td>\n",
              "      <td>1.039604</td>\n",
              "      <td>1.399340</td>\n",
              "      <td>0.729373</td>\n",
              "      <td>0.933993</td>\n",
              "      <td>0.544554</td>\n",
              "    </tr>\n",
              "    <tr>\n",
              "      <th>std</th>\n",
              "      <td>9.082101</td>\n",
              "      <td>0.466011</td>\n",
              "      <td>1.032052</td>\n",
              "      <td>17.538143</td>\n",
              "      <td>51.830751</td>\n",
              "      <td>0.356198</td>\n",
              "      <td>0.525860</td>\n",
              "      <td>22.905161</td>\n",
              "      <td>0.469794</td>\n",
              "      <td>1.161075</td>\n",
              "      <td>0.616226</td>\n",
              "      <td>1.022606</td>\n",
              "      <td>0.248704</td>\n",
              "      <td>0.498835</td>\n",
              "    </tr>\n",
              "    <tr>\n",
              "      <th>min</th>\n",
              "      <td>29.000000</td>\n",
              "      <td>0.000000</td>\n",
              "      <td>0.000000</td>\n",
              "      <td>94.000000</td>\n",
              "      <td>126.000000</td>\n",
              "      <td>0.000000</td>\n",
              "      <td>0.000000</td>\n",
              "      <td>71.000000</td>\n",
              "      <td>0.000000</td>\n",
              "      <td>0.000000</td>\n",
              "      <td>0.000000</td>\n",
              "      <td>0.000000</td>\n",
              "      <td>0.000000</td>\n",
              "      <td>0.000000</td>\n",
              "    </tr>\n",
              "    <tr>\n",
              "      <th>25%</th>\n",
              "      <td>47.500000</td>\n",
              "      <td>0.000000</td>\n",
              "      <td>0.000000</td>\n",
              "      <td>120.000000</td>\n",
              "      <td>211.000000</td>\n",
              "      <td>0.000000</td>\n",
              "      <td>0.000000</td>\n",
              "      <td>133.500000</td>\n",
              "      <td>0.000000</td>\n",
              "      <td>0.000000</td>\n",
              "      <td>1.000000</td>\n",
              "      <td>0.000000</td>\n",
              "      <td>1.000000</td>\n",
              "      <td>0.000000</td>\n",
              "    </tr>\n",
              "    <tr>\n",
              "      <th>50%</th>\n",
              "      <td>55.000000</td>\n",
              "      <td>1.000000</td>\n",
              "      <td>1.000000</td>\n",
              "      <td>130.000000</td>\n",
              "      <td>240.000000</td>\n",
              "      <td>0.000000</td>\n",
              "      <td>1.000000</td>\n",
              "      <td>153.000000</td>\n",
              "      <td>0.000000</td>\n",
              "      <td>0.800000</td>\n",
              "      <td>1.000000</td>\n",
              "      <td>0.000000</td>\n",
              "      <td>1.000000</td>\n",
              "      <td>1.000000</td>\n",
              "    </tr>\n",
              "    <tr>\n",
              "      <th>75%</th>\n",
              "      <td>61.000000</td>\n",
              "      <td>1.000000</td>\n",
              "      <td>2.000000</td>\n",
              "      <td>140.000000</td>\n",
              "      <td>274.500000</td>\n",
              "      <td>0.000000</td>\n",
              "      <td>1.000000</td>\n",
              "      <td>166.000000</td>\n",
              "      <td>1.000000</td>\n",
              "      <td>1.600000</td>\n",
              "      <td>2.000000</td>\n",
              "      <td>1.000000</td>\n",
              "      <td>1.000000</td>\n",
              "      <td>1.000000</td>\n",
              "    </tr>\n",
              "    <tr>\n",
              "      <th>max</th>\n",
              "      <td>77.000000</td>\n",
              "      <td>1.000000</td>\n",
              "      <td>3.000000</td>\n",
              "      <td>200.000000</td>\n",
              "      <td>564.000000</td>\n",
              "      <td>1.000000</td>\n",
              "      <td>2.000000</td>\n",
              "      <td>202.000000</td>\n",
              "      <td>1.000000</td>\n",
              "      <td>6.200000</td>\n",
              "      <td>2.000000</td>\n",
              "      <td>4.000000</td>\n",
              "      <td>1.000000</td>\n",
              "      <td>1.000000</td>\n",
              "    </tr>\n",
              "  </tbody>\n",
              "</table>\n",
              "</div>"
            ],
            "text/plain": [
              "              age         sex          cp  ...          ca        thal      target\n",
              "count  303.000000  303.000000  303.000000  ...  303.000000  303.000000  303.000000\n",
              "mean    54.366337    0.683168    0.966997  ...    0.729373    0.933993    0.544554\n",
              "std      9.082101    0.466011    1.032052  ...    1.022606    0.248704    0.498835\n",
              "min     29.000000    0.000000    0.000000  ...    0.000000    0.000000    0.000000\n",
              "25%     47.500000    0.000000    0.000000  ...    0.000000    1.000000    0.000000\n",
              "50%     55.000000    1.000000    1.000000  ...    0.000000    1.000000    1.000000\n",
              "75%     61.000000    1.000000    2.000000  ...    1.000000    1.000000    1.000000\n",
              "max     77.000000    1.000000    3.000000  ...    4.000000    1.000000    1.000000\n",
              "\n",
              "[8 rows x 14 columns]"
            ]
          },
          "metadata": {
            "tags": []
          },
          "execution_count": 47
        }
      ]
    },
    {
      "cell_type": "code",
      "metadata": {
        "id": "hKuSZTehgBxH",
        "colab": {
          "base_uri": "https://localhost:8080/"
        },
        "outputId": "0cb38a13-b09b-4951-da42-940cb769b981"
      },
      "source": [
        "# Quantidade por sexo\n",
        "# 0 - Mulher\n",
        "# 1 - Homen\n",
        "df.sex.value_counts()"
      ],
      "execution_count": 48,
      "outputs": [
        {
          "output_type": "execute_result",
          "data": {
            "text/plain": [
              "1    207\n",
              "0     96\n",
              "Name: sex, dtype: int64"
            ]
          },
          "metadata": {
            "tags": []
          },
          "execution_count": 48
        }
      ]
    },
    {
      "cell_type": "code",
      "metadata": {
        "id": "kOukuVI2gBxH",
        "colab": {
          "base_uri": "https://localhost:8080/"
        },
        "outputId": "8043bba1-d714-4f66-d979-36facfb7306c"
      },
      "source": [
        "# Quantidade de ocorrencias \n",
        "# 0 Não apresenta doença - 138\n",
        "# 1 Apresenta doença - 165\n",
        "\n",
        "df.target.value_counts()"
      ],
      "execution_count": 49,
      "outputs": [
        {
          "output_type": "execute_result",
          "data": {
            "text/plain": [
              "1    165\n",
              "0    138\n",
              "Name: target, dtype: int64"
            ]
          },
          "metadata": {
            "tags": []
          },
          "execution_count": 49
        }
      ]
    },
    {
      "cell_type": "code",
      "metadata": {
        "id": "BUE13chwgBxH",
        "colab": {
          "base_uri": "https://localhost:8080/",
          "height": 203
        },
        "outputId": "d87865c3-f334-4279-c1df-08160e0d5a73"
      },
      "source": [
        "# Verificando a ocorrencia da presença da doenca por sexo\n",
        "# Mulheres\n",
        "# 72 Não apresentaram a doença\n",
        "# 24 Apresentaram a doença\n",
        "\n",
        "# Homens\n",
        "# 93 Não apresentaram a doença\n",
        "# 114 Apresentaram doença\n",
        "\n",
        "df.groupby(['sex','target']).count()"
      ],
      "execution_count": 50,
      "outputs": [
        {
          "output_type": "execute_result",
          "data": {
            "text/html": [
              "<div>\n",
              "<style scoped>\n",
              "    .dataframe tbody tr th:only-of-type {\n",
              "        vertical-align: middle;\n",
              "    }\n",
              "\n",
              "    .dataframe tbody tr th {\n",
              "        vertical-align: top;\n",
              "    }\n",
              "\n",
              "    .dataframe thead th {\n",
              "        text-align: right;\n",
              "    }\n",
              "</style>\n",
              "<table border=\"1\" class=\"dataframe\">\n",
              "  <thead>\n",
              "    <tr style=\"text-align: right;\">\n",
              "      <th></th>\n",
              "      <th></th>\n",
              "      <th>age</th>\n",
              "      <th>cp</th>\n",
              "      <th>trestbps</th>\n",
              "      <th>chol</th>\n",
              "      <th>fbs</th>\n",
              "      <th>restecg</th>\n",
              "      <th>thalach</th>\n",
              "      <th>exang</th>\n",
              "      <th>oldpeak</th>\n",
              "      <th>slope</th>\n",
              "      <th>ca</th>\n",
              "      <th>thal</th>\n",
              "    </tr>\n",
              "    <tr>\n",
              "      <th>sex</th>\n",
              "      <th>target</th>\n",
              "      <th></th>\n",
              "      <th></th>\n",
              "      <th></th>\n",
              "      <th></th>\n",
              "      <th></th>\n",
              "      <th></th>\n",
              "      <th></th>\n",
              "      <th></th>\n",
              "      <th></th>\n",
              "      <th></th>\n",
              "      <th></th>\n",
              "      <th></th>\n",
              "    </tr>\n",
              "  </thead>\n",
              "  <tbody>\n",
              "    <tr>\n",
              "      <th rowspan=\"2\" valign=\"top\">0</th>\n",
              "      <th>0</th>\n",
              "      <td>24</td>\n",
              "      <td>24</td>\n",
              "      <td>24</td>\n",
              "      <td>24</td>\n",
              "      <td>24</td>\n",
              "      <td>24</td>\n",
              "      <td>24</td>\n",
              "      <td>24</td>\n",
              "      <td>24</td>\n",
              "      <td>24</td>\n",
              "      <td>24</td>\n",
              "      <td>24</td>\n",
              "    </tr>\n",
              "    <tr>\n",
              "      <th>1</th>\n",
              "      <td>72</td>\n",
              "      <td>72</td>\n",
              "      <td>72</td>\n",
              "      <td>72</td>\n",
              "      <td>72</td>\n",
              "      <td>72</td>\n",
              "      <td>72</td>\n",
              "      <td>72</td>\n",
              "      <td>72</td>\n",
              "      <td>72</td>\n",
              "      <td>72</td>\n",
              "      <td>72</td>\n",
              "    </tr>\n",
              "    <tr>\n",
              "      <th rowspan=\"2\" valign=\"top\">1</th>\n",
              "      <th>0</th>\n",
              "      <td>114</td>\n",
              "      <td>114</td>\n",
              "      <td>114</td>\n",
              "      <td>114</td>\n",
              "      <td>114</td>\n",
              "      <td>114</td>\n",
              "      <td>114</td>\n",
              "      <td>114</td>\n",
              "      <td>114</td>\n",
              "      <td>114</td>\n",
              "      <td>114</td>\n",
              "      <td>114</td>\n",
              "    </tr>\n",
              "    <tr>\n",
              "      <th>1</th>\n",
              "      <td>93</td>\n",
              "      <td>93</td>\n",
              "      <td>93</td>\n",
              "      <td>93</td>\n",
              "      <td>93</td>\n",
              "      <td>93</td>\n",
              "      <td>93</td>\n",
              "      <td>93</td>\n",
              "      <td>93</td>\n",
              "      <td>93</td>\n",
              "      <td>93</td>\n",
              "      <td>93</td>\n",
              "    </tr>\n",
              "  </tbody>\n",
              "</table>\n",
              "</div>"
            ],
            "text/plain": [
              "            age   cp  trestbps  chol  fbs  ...  exang  oldpeak  slope   ca  thal\n",
              "sex target                                 ...                                  \n",
              "0   0        24   24        24    24   24  ...     24       24     24   24    24\n",
              "    1        72   72        72    72   72  ...     72       72     72   72    72\n",
              "1   0       114  114       114   114  114  ...    114      114    114  114   114\n",
              "    1        93   93        93    93   93  ...     93       93     93   93    93\n",
              "\n",
              "[4 rows x 12 columns]"
            ]
          },
          "metadata": {
            "tags": []
          },
          "execution_count": 50
        }
      ]
    },
    {
      "cell_type": "markdown",
      "metadata": {
        "id": "-0i9e4cIgBxI"
      },
      "source": [
        "### Vamos identificar o tipo das variáveis"
      ]
    },
    {
      "cell_type": "code",
      "metadata": {
        "id": "-Qr3GGnagBxI",
        "colab": {
          "base_uri": "https://localhost:8080/"
        },
        "outputId": "128ff040-90e6-411e-8418-6cedc0de9f73"
      },
      "source": [
        "df.dtypes"
      ],
      "execution_count": 51,
      "outputs": [
        {
          "output_type": "execute_result",
          "data": {
            "text/plain": [
              "age           int64\n",
              "sex           int64\n",
              "cp            int64\n",
              "trestbps      int64\n",
              "chol          int64\n",
              "fbs           int64\n",
              "restecg       int64\n",
              "thalach       int64\n",
              "exang         int64\n",
              "oldpeak     float64\n",
              "slope         int64\n",
              "ca            int64\n",
              "thal          int64\n",
              "target        int64\n",
              "dtype: object"
            ]
          },
          "metadata": {
            "tags": []
          },
          "execution_count": 51
        }
      ]
    },
    {
      "cell_type": "markdown",
      "metadata": {
        "id": "d9zcJKM2gBxI"
      },
      "source": [
        "### Exibindo as primeiras linhas do nosso conjunto de dados"
      ]
    },
    {
      "cell_type": "code",
      "metadata": {
        "id": "SytS0qvUgBxJ",
        "colab": {
          "base_uri": "https://localhost:8080/",
          "height": 203
        },
        "outputId": "411fb3d2-0498-4310-ee45-c10f9126bf65"
      },
      "source": [
        "df.head()"
      ],
      "execution_count": 52,
      "outputs": [
        {
          "output_type": "execute_result",
          "data": {
            "text/html": [
              "<div>\n",
              "<style scoped>\n",
              "    .dataframe tbody tr th:only-of-type {\n",
              "        vertical-align: middle;\n",
              "    }\n",
              "\n",
              "    .dataframe tbody tr th {\n",
              "        vertical-align: top;\n",
              "    }\n",
              "\n",
              "    .dataframe thead th {\n",
              "        text-align: right;\n",
              "    }\n",
              "</style>\n",
              "<table border=\"1\" class=\"dataframe\">\n",
              "  <thead>\n",
              "    <tr style=\"text-align: right;\">\n",
              "      <th></th>\n",
              "      <th>age</th>\n",
              "      <th>sex</th>\n",
              "      <th>cp</th>\n",
              "      <th>trestbps</th>\n",
              "      <th>chol</th>\n",
              "      <th>fbs</th>\n",
              "      <th>restecg</th>\n",
              "      <th>thalach</th>\n",
              "      <th>exang</th>\n",
              "      <th>oldpeak</th>\n",
              "      <th>slope</th>\n",
              "      <th>ca</th>\n",
              "      <th>thal</th>\n",
              "      <th>target</th>\n",
              "    </tr>\n",
              "  </thead>\n",
              "  <tbody>\n",
              "    <tr>\n",
              "      <th>0</th>\n",
              "      <td>63</td>\n",
              "      <td>1</td>\n",
              "      <td>3</td>\n",
              "      <td>145</td>\n",
              "      <td>233</td>\n",
              "      <td>1</td>\n",
              "      <td>0</td>\n",
              "      <td>150</td>\n",
              "      <td>0</td>\n",
              "      <td>2.3</td>\n",
              "      <td>0</td>\n",
              "      <td>0</td>\n",
              "      <td>0</td>\n",
              "      <td>1</td>\n",
              "    </tr>\n",
              "    <tr>\n",
              "      <th>1</th>\n",
              "      <td>37</td>\n",
              "      <td>1</td>\n",
              "      <td>2</td>\n",
              "      <td>130</td>\n",
              "      <td>250</td>\n",
              "      <td>0</td>\n",
              "      <td>1</td>\n",
              "      <td>187</td>\n",
              "      <td>0</td>\n",
              "      <td>3.5</td>\n",
              "      <td>0</td>\n",
              "      <td>0</td>\n",
              "      <td>1</td>\n",
              "      <td>1</td>\n",
              "    </tr>\n",
              "    <tr>\n",
              "      <th>2</th>\n",
              "      <td>41</td>\n",
              "      <td>0</td>\n",
              "      <td>1</td>\n",
              "      <td>130</td>\n",
              "      <td>204</td>\n",
              "      <td>0</td>\n",
              "      <td>0</td>\n",
              "      <td>172</td>\n",
              "      <td>0</td>\n",
              "      <td>1.4</td>\n",
              "      <td>2</td>\n",
              "      <td>0</td>\n",
              "      <td>1</td>\n",
              "      <td>1</td>\n",
              "    </tr>\n",
              "    <tr>\n",
              "      <th>3</th>\n",
              "      <td>56</td>\n",
              "      <td>1</td>\n",
              "      <td>1</td>\n",
              "      <td>120</td>\n",
              "      <td>236</td>\n",
              "      <td>0</td>\n",
              "      <td>1</td>\n",
              "      <td>178</td>\n",
              "      <td>0</td>\n",
              "      <td>0.8</td>\n",
              "      <td>2</td>\n",
              "      <td>0</td>\n",
              "      <td>1</td>\n",
              "      <td>1</td>\n",
              "    </tr>\n",
              "    <tr>\n",
              "      <th>4</th>\n",
              "      <td>57</td>\n",
              "      <td>0</td>\n",
              "      <td>0</td>\n",
              "      <td>120</td>\n",
              "      <td>354</td>\n",
              "      <td>0</td>\n",
              "      <td>1</td>\n",
              "      <td>163</td>\n",
              "      <td>1</td>\n",
              "      <td>0.6</td>\n",
              "      <td>2</td>\n",
              "      <td>0</td>\n",
              "      <td>1</td>\n",
              "      <td>1</td>\n",
              "    </tr>\n",
              "  </tbody>\n",
              "</table>\n",
              "</div>"
            ],
            "text/plain": [
              "   age  sex  cp  trestbps  chol  fbs  ...  exang  oldpeak  slope  ca  thal  target\n",
              "0   63    1   3       145   233    1  ...      0      2.3      0   0     0       1\n",
              "1   37    1   2       130   250    0  ...      0      3.5      0   0     1       1\n",
              "2   41    0   1       130   204    0  ...      0      1.4      2   0     1       1\n",
              "3   56    1   1       120   236    0  ...      0      0.8      2   0     1       1\n",
              "4   57    0   0       120   354    0  ...      1      0.6      2   0     1       1\n",
              "\n",
              "[5 rows x 14 columns]"
            ]
          },
          "metadata": {
            "tags": []
          },
          "execution_count": 52
        }
      ]
    },
    {
      "cell_type": "markdown",
      "metadata": {
        "id": "Qnk1CjWsgBxJ"
      },
      "source": [
        "### Para nossa análise precisamos verificar se todos os valores estão preenchidos"
      ]
    },
    {
      "cell_type": "code",
      "metadata": {
        "id": "2sA5TPqcgBxJ",
        "colab": {
          "base_uri": "https://localhost:8080/"
        },
        "outputId": "f08dc8f2-4c47-427b-a7a3-d09ef8aba85a"
      },
      "source": [
        "df.isnull().sum()"
      ],
      "execution_count": 53,
      "outputs": [
        {
          "output_type": "execute_result",
          "data": {
            "text/plain": [
              "age         0\n",
              "sex         0\n",
              "cp          0\n",
              "trestbps    0\n",
              "chol        0\n",
              "fbs         0\n",
              "restecg     0\n",
              "thalach     0\n",
              "exang       0\n",
              "oldpeak     0\n",
              "slope       0\n",
              "ca          0\n",
              "thal        0\n",
              "target      0\n",
              "dtype: int64"
            ]
          },
          "metadata": {
            "tags": []
          },
          "execution_count": 53
        }
      ]
    },
    {
      "cell_type": "markdown",
      "metadata": {
        "id": "w_8ojRmQgBxK"
      },
      "source": [
        "#### Todos os nossos valores estão preenchidos."
      ]
    },
    {
      "cell_type": "markdown",
      "metadata": {
        "id": "R1DLErd-gBxK"
      },
      "source": [
        "### Vamos gerar um gráfico de barras para ver a quantidade de homens e mulheres"
      ]
    },
    {
      "cell_type": "markdown",
      "metadata": {
        "id": "5a-9JfnkgBxL"
      },
      "source": [
        "#### Substituindo os valores do sexo para texto\n",
        "* 0 - Feminino\n",
        "* 1 - Masculino"
      ]
    },
    {
      "cell_type": "code",
      "metadata": {
        "id": "QD52-R1xgBxL"
      },
      "source": [
        "# copiando o dataset para outro\n",
        "df_sexo = df.copy()\n",
        "\n",
        "# converter 0 para Feminino\n",
        "df_sexo.loc[df_sexo.sex == 0 , 'sex'] = 'Feminino'\n",
        "\n",
        "# converter 1 para Masculino\n",
        "df_sexo.loc[df_sexo.sex == 1 , 'sex'] = 'Masculino'\n"
      ],
      "execution_count": 54,
      "outputs": []
    },
    {
      "cell_type": "code",
      "metadata": {
        "id": "syFk0GongBxL"
      },
      "source": [
        "import seaborn as sbr"
      ],
      "execution_count": 55,
      "outputs": []
    },
    {
      "cell_type": "code",
      "metadata": {
        "id": "1HcjCcb1gBxL",
        "colab": {
          "base_uri": "https://localhost:8080/",
          "height": 470
        },
        "outputId": "dc88d495-722a-4015-c312-4868bf3f7bd8"
      },
      "source": [
        "# Com Seaborn\n",
        "sbr.factorplot('sex', data=df_sexo, kind='count');"
      ],
      "execution_count": 56,
      "outputs": [
        {
          "output_type": "stream",
          "text": [
            "/usr/local/lib/python3.7/dist-packages/seaborn/categorical.py:3714: UserWarning: The `factorplot` function has been renamed to `catplot`. The original name will be removed in a future release. Please update your code. Note that the default `kind` in `factorplot` (`'point'`) has changed `'strip'` in `catplot`.\n",
            "  warnings.warn(msg)\n",
            "/usr/local/lib/python3.7/dist-packages/seaborn/_decorators.py:43: FutureWarning: Pass the following variable as a keyword arg: x. From version 0.12, the only valid positional argument will be `data`, and passing other arguments without an explicit keyword will result in an error or misinterpretation.\n",
            "  FutureWarning\n"
          ],
          "name": "stderr"
        },
        {
          "output_type": "display_data",
          "data": {
            "image/png": "[encoded data removed]",
            "text/plain": [
              "<Figure size 360x360 with 1 Axes>"
            ]
          },
          "metadata": {
            "tags": [],
            "needs_background": "light"
          }
        }
      ]
    },
    {
      "cell_type": "code",
      "metadata": {
        "id": "xt6ijQwVgBxL",
        "colab": {
          "base_uri": "https://localhost:8080/"
        },
        "outputId": "6366c545-c37b-4c25-8bb5-6f84860cb1e0"
      },
      "source": [
        "df.sex.value_counts()"
      ],
      "execution_count": 57,
      "outputs": [
        {
          "output_type": "execute_result",
          "data": {
            "text/plain": [
              "1    207\n",
              "0     96\n",
              "Name: sex, dtype: int64"
            ]
          },
          "metadata": {
            "tags": []
          },
          "execution_count": 57
        }
      ]
    },
    {
      "cell_type": "markdown",
      "metadata": {
        "id": "5vFyRGPogBxL"
      },
      "source": [
        "###  Plotar o gráfico de dispersão para as variáveis `age` e `chol`"
      ]
    },
    {
      "cell_type": "code",
      "metadata": {
        "id": "T1f5NNRJgBxL",
        "colab": {
          "base_uri": "https://localhost:8080/",
          "height": 388
        },
        "outputId": "5868feeb-f7b3-4235-9c20-440f25b153ba"
      },
      "source": [
        "fig, ax=plt.subplots(figsize=(10,6))\n",
        "\n",
        "df.plot.scatter(c='blue', x='age', y='chol', ax=ax);"
      ],
      "execution_count": 58,
      "outputs": [
        {
          "output_type": "display_data",
          "data": {
            "image/png": "[encoded data removed]",
            "text/plain": [
              "<Figure size 720x432 with 1 Axes>"
            ]
          },
          "metadata": {
            "tags": [],
            "needs_background": "light"
          }
        }
      ]
    },
    {
      "cell_type": "markdown",
      "metadata": {
        "id": "UW31T1bIgBxL"
      },
      "source": [
        "### Com uma reta para representar a regressão linear"
      ]
    },
    {
      "cell_type": "code",
      "metadata": {
        "id": "yKN0GbckgBxL",
        "colab": {
          "base_uri": "https://localhost:8080/",
          "height": 350
        },
        "outputId": "774f1ff8-4958-446b-a170-e606affb2d8a"
      },
      "source": [
        "# importar o seaborn\n",
        "import seaborn as sns\n",
        "\n",
        "# plotar scatter plot e regressão linear\n",
        "fig, ax = plt.subplots()\n",
        "\n",
        "ax.set_xlim(right=75)\n",
        "\n",
        "sns.regplot(df['age'],df['chol'], scatter_kws={\"s\":20},\n",
        "            line_kws={\"color\": \"red\"}, data=df, ax=ax)\n",
        "\n",
        "plt.tight_layout();\n"
      ],
      "execution_count": 59,
      "outputs": [
        {
          "output_type": "stream",
          "text": [
            "/usr/local/lib/python3.7/dist-packages/seaborn/_decorators.py:43: FutureWarning: Pass the following variables as keyword args: x, y. From version 0.12, the only valid positional argument will be `data`, and passing other arguments without an explicit keyword will result in an error or misinterpretation.\n",
            "  FutureWarning\n"
          ],
          "name": "stderr"
        },
        {
          "output_type": "display_data",
          "data": {
            "image/png": "[encoded data removed]",
            "text/plain": [
              "<Figure size 432x288 with 1 Axes>"
            ]
          },
          "metadata": {
            "tags": [],
            "needs_background": "light"
          }
        }
      ]
    },
    {
      "cell_type": "markdown",
      "metadata": {
        "id": "Wu2OEAo6gBxM"
      },
      "source": [
        "* Podemos observar uma leve tendência no aumento do colesterol à medida que a idade aumenta"
      ]
    },
    {
      "cell_type": "markdown",
      "metadata": {
        "id": "9CBswnzdgBxO"
      },
      "source": [
        "### Gráfico de mapa de calor *heatmap* com as correlações"
      ]
    },
    {
      "cell_type": "code",
      "metadata": {
        "id": "w3kIssoVgBxO",
        "colab": {
          "base_uri": "https://localhost:8080/",
          "height": 203
        },
        "outputId": "fb36a96c-e07e-468a-b5ee-79bf688accaf"
      },
      "source": [
        "df.head()"
      ],
      "execution_count": 60,
      "outputs": [
        {
          "output_type": "execute_result",
          "data": {
            "text/html": [
              "<div>\n",
              "<style scoped>\n",
              "    .dataframe tbody tr th:only-of-type {\n",
              "        vertical-align: middle;\n",
              "    }\n",
              "\n",
              "    .dataframe tbody tr th {\n",
              "        vertical-align: top;\n",
              "    }\n",
              "\n",
              "    .dataframe thead th {\n",
              "        text-align: right;\n",
              "    }\n",
              "</style>\n",
              "<table border=\"1\" class=\"dataframe\">\n",
              "  <thead>\n",
              "    <tr style=\"text-align: right;\">\n",
              "      <th></th>\n",
              "      <th>age</th>\n",
              "      <th>sex</th>\n",
              "      <th>cp</th>\n",
              "      <th>trestbps</th>\n",
              "      <th>chol</th>\n",
              "      <th>fbs</th>\n",
              "      <th>restecg</th>\n",
              "      <th>thalach</th>\n",
              "      <th>exang</th>\n",
              "      <th>oldpeak</th>\n",
              "      <th>slope</th>\n",
              "      <th>ca</th>\n",
              "      <th>thal</th>\n",
              "      <th>target</th>\n",
              "    </tr>\n",
              "  </thead>\n",
              "  <tbody>\n",
              "    <tr>\n",
              "      <th>0</th>\n",
              "      <td>63</td>\n",
              "      <td>1</td>\n",
              "      <td>3</td>\n",
              "      <td>145</td>\n",
              "      <td>233</td>\n",
              "      <td>1</td>\n",
              "      <td>0</td>\n",
              "      <td>150</td>\n",
              "      <td>0</td>\n",
              "      <td>2.3</td>\n",
              "      <td>0</td>\n",
              "      <td>0</td>\n",
              "      <td>0</td>\n",
              "      <td>1</td>\n",
              "    </tr>\n",
              "    <tr>\n",
              "      <th>1</th>\n",
              "      <td>37</td>\n",
              "      <td>1</td>\n",
              "      <td>2</td>\n",
              "      <td>130</td>\n",
              "      <td>250</td>\n",
              "      <td>0</td>\n",
              "      <td>1</td>\n",
              "      <td>187</td>\n",
              "      <td>0</td>\n",
              "      <td>3.5</td>\n",
              "      <td>0</td>\n",
              "      <td>0</td>\n",
              "      <td>1</td>\n",
              "      <td>1</td>\n",
              "    </tr>\n",
              "    <tr>\n",
              "      <th>2</th>\n",
              "      <td>41</td>\n",
              "      <td>0</td>\n",
              "      <td>1</td>\n",
              "      <td>130</td>\n",
              "      <td>204</td>\n",
              "      <td>0</td>\n",
              "      <td>0</td>\n",
              "      <td>172</td>\n",
              "      <td>0</td>\n",
              "      <td>1.4</td>\n",
              "      <td>2</td>\n",
              "      <td>0</td>\n",
              "      <td>1</td>\n",
              "      <td>1</td>\n",
              "    </tr>\n",
              "    <tr>\n",
              "      <th>3</th>\n",
              "      <td>56</td>\n",
              "      <td>1</td>\n",
              "      <td>1</td>\n",
              "      <td>120</td>\n",
              "      <td>236</td>\n",
              "      <td>0</td>\n",
              "      <td>1</td>\n",
              "      <td>178</td>\n",
              "      <td>0</td>\n",
              "      <td>0.8</td>\n",
              "      <td>2</td>\n",
              "      <td>0</td>\n",
              "      <td>1</td>\n",
              "      <td>1</td>\n",
              "    </tr>\n",
              "    <tr>\n",
              "      <th>4</th>\n",
              "      <td>57</td>\n",
              "      <td>0</td>\n",
              "      <td>0</td>\n",
              "      <td>120</td>\n",
              "      <td>354</td>\n",
              "      <td>0</td>\n",
              "      <td>1</td>\n",
              "      <td>163</td>\n",
              "      <td>1</td>\n",
              "      <td>0.6</td>\n",
              "      <td>2</td>\n",
              "      <td>0</td>\n",
              "      <td>1</td>\n",
              "      <td>1</td>\n",
              "    </tr>\n",
              "  </tbody>\n",
              "</table>\n",
              "</div>"
            ],
            "text/plain": [
              "   age  sex  cp  trestbps  chol  fbs  ...  exang  oldpeak  slope  ca  thal  target\n",
              "0   63    1   3       145   233    1  ...      0      2.3      0   0     0       1\n",
              "1   37    1   2       130   250    0  ...      0      3.5      0   0     1       1\n",
              "2   41    0   1       130   204    0  ...      0      1.4      2   0     1       1\n",
              "3   56    1   1       120   236    0  ...      0      0.8      2   0     1       1\n",
              "4   57    0   0       120   354    0  ...      1      0.6      2   0     1       1\n",
              "\n",
              "[5 rows x 14 columns]"
            ]
          },
          "metadata": {
            "tags": []
          },
          "execution_count": 60
        }
      ]
    },
    {
      "cell_type": "code",
      "metadata": {
        "id": "Cn9s7phmgBxP",
        "colab": {
          "base_uri": "https://localhost:8080/",
          "height": 578
        },
        "outputId": "43908cba-eeb3-462b-dc1f-210edf578191"
      },
      "source": [
        "# Importando pacotes necessarios para plotar um gráfico do tipo heatmap (mapa de calor)\n",
        "# Seaborn é uma biblioteca de visualização de dados Python baseada em matplotlibexang\t\n",
        "import seaborn as sbs \n",
        "\n",
        "df_heatmap = df.copy()\n",
        "\n",
        "# criar uma matriz de correlação dos atributos que mais influenciam na indicação de doença ou não\n",
        "corr = df_heatmap[['cp', 'restecg','thal','exang','restecg','oldpeak','ca','target']].corr()\n",
        "\n",
        "# mostrar a matriz de correlação\n",
        "display(corr)\n",
        "\n",
        "# plotar um heatmap a partir das correlações\n",
        "sbs.heatmap(corr, cmap='RdBu', fmt='.2f', square=True, linecolor='white', annot=True);"
      ],
      "execution_count": 61,
      "outputs": [
        {
          "output_type": "display_data",
          "data": {
            "text/html": [
              "<div>\n",
              "<style scoped>\n",
              "    .dataframe tbody tr th:only-of-type {\n",
              "        vertical-align: middle;\n",
              "    }\n",
              "\n",
              "    .dataframe tbody tr th {\n",
              "        vertical-align: top;\n",
              "    }\n",
              "\n",
              "    .dataframe thead th {\n",
              "        text-align: right;\n",
              "    }\n",
              "</style>\n",
              "<table border=\"1\" class=\"dataframe\">\n",
              "  <thead>\n",
              "    <tr style=\"text-align: right;\">\n",
              "      <th></th>\n",
              "      <th>cp</th>\n",
              "      <th>restecg</th>\n",
              "      <th>thal</th>\n",
              "      <th>exang</th>\n",
              "      <th>restecg</th>\n",
              "      <th>oldpeak</th>\n",
              "      <th>ca</th>\n",
              "      <th>target</th>\n",
              "    </tr>\n",
              "  </thead>\n",
              "  <tbody>\n",
              "    <tr>\n",
              "      <th>cp</th>\n",
              "      <td>1.000000</td>\n",
              "      <td>0.044421</td>\n",
              "      <td>0.068888</td>\n",
              "      <td>-0.394280</td>\n",
              "      <td>0.044421</td>\n",
              "      <td>-0.149230</td>\n",
              "      <td>-0.181053</td>\n",
              "      <td>0.433798</td>\n",
              "    </tr>\n",
              "    <tr>\n",
              "      <th>restecg</th>\n",
              "      <td>0.044421</td>\n",
              "      <td>1.000000</td>\n",
              "      <td>0.014205</td>\n",
              "      <td>-0.070733</td>\n",
              "      <td>1.000000</td>\n",
              "      <td>-0.058770</td>\n",
              "      <td>-0.072042</td>\n",
              "      <td>0.137230</td>\n",
              "    </tr>\n",
              "    <tr>\n",
              "      <th>thal</th>\n",
              "      <td>0.068888</td>\n",
              "      <td>0.014205</td>\n",
              "      <td>1.000000</td>\n",
              "      <td>-0.069868</td>\n",
              "      <td>0.014205</td>\n",
              "      <td>-0.087240</td>\n",
              "      <td>-0.044430</td>\n",
              "      <td>0.103854</td>\n",
              "    </tr>\n",
              "    <tr>\n",
              "      <th>exang</th>\n",
              "      <td>-0.394280</td>\n",
              "      <td>-0.070733</td>\n",
              "      <td>-0.069868</td>\n",
              "      <td>1.000000</td>\n",
              "      <td>-0.070733</td>\n",
              "      <td>0.288223</td>\n",
              "      <td>0.115739</td>\n",
              "      <td>-0.436757</td>\n",
              "    </tr>\n",
              "    <tr>\n",
              "      <th>restecg</th>\n",
              "      <td>0.044421</td>\n",
              "      <td>1.000000</td>\n",
              "      <td>0.014205</td>\n",
              "      <td>-0.070733</td>\n",
              "      <td>1.000000</td>\n",
              "      <td>-0.058770</td>\n",
              "      <td>-0.072042</td>\n",
              "      <td>0.137230</td>\n",
              "    </tr>\n",
              "    <tr>\n",
              "      <th>oldpeak</th>\n",
              "      <td>-0.149230</td>\n",
              "      <td>-0.058770</td>\n",
              "      <td>-0.087240</td>\n",
              "      <td>0.288223</td>\n",
              "      <td>-0.058770</td>\n",
              "      <td>1.000000</td>\n",
              "      <td>0.222682</td>\n",
              "      <td>-0.430696</td>\n",
              "    </tr>\n",
              "    <tr>\n",
              "      <th>ca</th>\n",
              "      <td>-0.181053</td>\n",
              "      <td>-0.072042</td>\n",
              "      <td>-0.044430</td>\n",
              "      <td>0.115739</td>\n",
              "      <td>-0.072042</td>\n",
              "      <td>0.222682</td>\n",
              "      <td>1.000000</td>\n",
              "      <td>-0.391724</td>\n",
              "    </tr>\n",
              "    <tr>\n",
              "      <th>target</th>\n",
              "      <td>0.433798</td>\n",
              "      <td>0.137230</td>\n",
              "      <td>0.103854</td>\n",
              "      <td>-0.436757</td>\n",
              "      <td>0.137230</td>\n",
              "      <td>-0.430696</td>\n",
              "      <td>-0.391724</td>\n",
              "      <td>1.000000</td>\n",
              "    </tr>\n",
              "  </tbody>\n",
              "</table>\n",
              "</div>"
            ],
            "text/plain": [
              "               cp   restecg      thal  ...   oldpeak        ca    target\n",
              "cp       1.000000  0.044421  0.068888  ... -0.149230 -0.181053  0.433798\n",
              "restecg  0.044421  1.000000  0.014205  ... -0.058770 -0.072042  0.137230\n",
              "thal     0.068888  0.014205  1.000000  ... -0.087240 -0.044430  0.103854\n",
              "exang   -0.394280 -0.070733 -0.069868  ...  0.288223  0.115739 -0.436757\n",
              "restecg  0.044421  1.000000  0.014205  ... -0.058770 -0.072042  0.137230\n",
              "oldpeak -0.149230 -0.058770 -0.087240  ...  1.000000  0.222682 -0.430696\n",
              "ca      -0.181053 -0.072042 -0.044430  ...  0.222682  1.000000 -0.391724\n",
              "target   0.433798  0.137230  0.103854  ... -0.430696 -0.391724  1.000000\n",
              "\n",
              "[8 rows x 8 columns]"
            ]
          },
          "metadata": {
            "tags": []
          }
        },
        {
          "output_type": "display_data",
          "data": {
            "image/png": "[encoded data removed]",
            "text/plain": [
              "<Figure size 432x288 with 2 Axes>"
            ]
          },
          "metadata": {
            "tags": [],
            "needs_background": "light"
          }
        }
      ]
    },
    {
      "cell_type": "markdown",
      "metadata": {
        "id": "Wa-fkVEIgBxP"
      },
      "source": [
        "# Alguns insights\n",
        "\n",
        "## Analisamos o conjunto de dados (dataset).\n",
        "\n",
        "* Conjunto de dados relacionados às doenças cardiovasculares. \n",
        "* Foram apresentadas 303 ocorrências com 14 atributos\n",
        "* A média da idade dos pacientes é de 54 anos\n",
        "* Temos 96 mulheres e 207 homens\n",
        "* Do total de 303 ocorrências, 165 não apresentaram doenças cardiovasculares contra 138 que apresentaram.\n",
        "\n",
        "### Por Sexo\n",
        "- Mulheres\n",
        " * 72 Não apresentaram a doença\n",
        " * 24 Apresentaram a doença\n",
        "\n",
        "- Homens\n",
        " * 93 Não apresentaram a doença\n",
        " * 114 Apresentaram doença\n",
        "\n",
        " Podemos gráfico de `Dispersão` podemos concluir que existe uma uma leve tendência no aumento do colesterol à medida que a idade aumenta\n",
        " \n",
        " Analisando o Mapa de Calor `heatmap`, conseguimos identificar uma correlação entre:\n",
        " \n",
        " * `cp` - tipo da dor torácica\n",
        " * `oldpeak` - depessão do segmento ST induzida pelo exercício em relação ao repouso\n",
        " * `ca` - número de vasos principais colorido por fluoroscopia\n",
        " * `exang` - angina induzida pelo exercício\n",
        " \n"
      ]
    },
    {
      "cell_type": "markdown",
      "metadata": {
        "id": "_5HeA3RCpy4N"
      },
      "source": [
        "### Normalizando alguns dados"
      ]
    },
    {
      "cell_type": "markdown",
      "metadata": {
        "id": "r4ulv94uqLwf"
      },
      "source": [
        "Para melhorar o desempenho do modelo, vamos normalizar as variáveis numéricas usando `StandardScaler`.\n",
        "Vamos normalizar algumas colunas para manter a mesma escala entre elas. Aplicamos a normalização nas colunas `trestbps`, `chol` e `thalach`."
      ]
    },
    {
      "cell_type": "code",
      "metadata": {
        "id": "YJ4WdfVNp1QQ"
      },
      "source": [
        "# importando a biblioteca para normalizar nossos dados\n",
        "from sklearn.preprocessing import StandardScaler"
      ],
      "execution_count": 62,
      "outputs": []
    },
    {
      "cell_type": "code",
      "metadata": {
        "id": "cVId4T-CqSGW"
      },
      "source": [
        "# fazendo uma copia do nosso dataset já limpo\n",
        "scaled_df = df.copy()"
      ],
      "execution_count": 63,
      "outputs": []
    },
    {
      "cell_type": "code",
      "metadata": {
        "id": "rvP3sisiqbzf"
      },
      "source": [
        "# selecionando as colunas para normalizar\n",
        "num_cols = scaled_df.drop(labels=['sex', 'fbs','restecg','exang', 'oldpeak', 'slope', 'ca','thal', 'target' ] ,\n",
        "                         axis=1).select_dtypes(exclude='object').columns"
      ],
      "execution_count": 64,
      "outputs": []
    },
    {
      "cell_type": "code",
      "metadata": {
        "id": "MLO2oWuzrNQF"
      },
      "source": [
        "# normalizando as colunas numéricas\n",
        "scaled_df[num_cols] = StandardScaler().fit_transform(scaled_df[num_cols].values)"
      ],
      "execution_count": 65,
      "outputs": []
    },
    {
      "cell_type": "code",
      "metadata": {
        "id": "rRi1DsmdrRaq",
        "colab": {
          "base_uri": "https://localhost:8080/",
          "height": 203
        },
        "outputId": "6078e283-45e2-4e17-baa8-49604126b9f2"
      },
      "source": [
        "# verificando nossos dados\n",
        "scaled_df.head()"
      ],
      "execution_count": 66,
      "outputs": [
        {
          "output_type": "execute_result",
          "data": {
            "text/html": [
              "<div>\n",
              "<style scoped>\n",
              "    .dataframe tbody tr th:only-of-type {\n",
              "        vertical-align: middle;\n",
              "    }\n",
              "\n",
              "    .dataframe tbody tr th {\n",
              "        vertical-align: top;\n",
              "    }\n",
              "\n",
              "    .dataframe thead th {\n",
              "        text-align: right;\n",
              "    }\n",
              "</style>\n",
              "<table border=\"1\" class=\"dataframe\">\n",
              "  <thead>\n",
              "    <tr style=\"text-align: right;\">\n",
              "      <th></th>\n",
              "      <th>age</th>\n",
              "      <th>sex</th>\n",
              "      <th>cp</th>\n",
              "      <th>trestbps</th>\n",
              "      <th>chol</th>\n",
              "      <th>fbs</th>\n",
              "      <th>restecg</th>\n",
              "      <th>thalach</th>\n",
              "      <th>exang</th>\n",
              "      <th>oldpeak</th>\n",
              "      <th>slope</th>\n",
              "      <th>ca</th>\n",
              "      <th>thal</th>\n",
              "      <th>target</th>\n",
              "    </tr>\n",
              "  </thead>\n",
              "  <tbody>\n",
              "    <tr>\n",
              "      <th>0</th>\n",
              "      <td>0.952197</td>\n",
              "      <td>1</td>\n",
              "      <td>1.973123</td>\n",
              "      <td>0.763956</td>\n",
              "      <td>-0.256334</td>\n",
              "      <td>1</td>\n",
              "      <td>0</td>\n",
              "      <td>0.015443</td>\n",
              "      <td>0</td>\n",
              "      <td>2.3</td>\n",
              "      <td>0</td>\n",
              "      <td>0</td>\n",
              "      <td>0</td>\n",
              "      <td>1</td>\n",
              "    </tr>\n",
              "    <tr>\n",
              "      <th>1</th>\n",
              "      <td>-1.915313</td>\n",
              "      <td>1</td>\n",
              "      <td>1.002577</td>\n",
              "      <td>-0.092738</td>\n",
              "      <td>0.072199</td>\n",
              "      <td>0</td>\n",
              "      <td>1</td>\n",
              "      <td>1.633471</td>\n",
              "      <td>0</td>\n",
              "      <td>3.5</td>\n",
              "      <td>0</td>\n",
              "      <td>0</td>\n",
              "      <td>1</td>\n",
              "      <td>1</td>\n",
              "    </tr>\n",
              "    <tr>\n",
              "      <th>2</th>\n",
              "      <td>-1.474158</td>\n",
              "      <td>0</td>\n",
              "      <td>0.032031</td>\n",
              "      <td>-0.092738</td>\n",
              "      <td>-0.816773</td>\n",
              "      <td>0</td>\n",
              "      <td>0</td>\n",
              "      <td>0.977514</td>\n",
              "      <td>0</td>\n",
              "      <td>1.4</td>\n",
              "      <td>2</td>\n",
              "      <td>0</td>\n",
              "      <td>1</td>\n",
              "      <td>1</td>\n",
              "    </tr>\n",
              "    <tr>\n",
              "      <th>3</th>\n",
              "      <td>0.180175</td>\n",
              "      <td>1</td>\n",
              "      <td>0.032031</td>\n",
              "      <td>-0.663867</td>\n",
              "      <td>-0.198357</td>\n",
              "      <td>0</td>\n",
              "      <td>1</td>\n",
              "      <td>1.239897</td>\n",
              "      <td>0</td>\n",
              "      <td>0.8</td>\n",
              "      <td>2</td>\n",
              "      <td>0</td>\n",
              "      <td>1</td>\n",
              "      <td>1</td>\n",
              "    </tr>\n",
              "    <tr>\n",
              "      <th>4</th>\n",
              "      <td>0.290464</td>\n",
              "      <td>0</td>\n",
              "      <td>-0.938515</td>\n",
              "      <td>-0.663867</td>\n",
              "      <td>2.082050</td>\n",
              "      <td>0</td>\n",
              "      <td>1</td>\n",
              "      <td>0.583939</td>\n",
              "      <td>1</td>\n",
              "      <td>0.6</td>\n",
              "      <td>2</td>\n",
              "      <td>0</td>\n",
              "      <td>1</td>\n",
              "      <td>1</td>\n",
              "    </tr>\n",
              "  </tbody>\n",
              "</table>\n",
              "</div>"
            ],
            "text/plain": [
              "        age  sex        cp  trestbps  ...  slope  ca  thal  target\n",
              "0  0.952197    1  1.973123  0.763956  ...      0   0     0       1\n",
              "1 -1.915313    1  1.002577 -0.092738  ...      0   0     1       1\n",
              "2 -1.474158    0  0.032031 -0.092738  ...      2   0     1       1\n",
              "3  0.180175    1  0.032031 -0.663867  ...      2   0     1       1\n",
              "4  0.290464    0 -0.938515 -0.663867  ...      2   0     1       1\n",
              "\n",
              "[5 rows x 14 columns]"
            ]
          },
          "metadata": {
            "tags": []
          },
          "execution_count": 66
        }
      ]
    },
    {
      "cell_type": "markdown",
      "metadata": {
        "id": "hp5uOz5XvkoZ"
      },
      "source": [
        "### Preparando nossos dados"
      ]
    },
    {
      "cell_type": "code",
      "metadata": {
        "id": "3IofAXnfwNXa"
      },
      "source": [
        "from sklearn.model_selection import train_test_split"
      ],
      "execution_count": 67,
      "outputs": []
    },
    {
      "cell_type": "code",
      "metadata": {
        "id": "aVWNjfpVwhF6"
      },
      "source": [
        "# metricas\n",
        "from sklearn.metrics import accuracy_score"
      ],
      "execution_count": 68,
      "outputs": []
    },
    {
      "cell_type": "code",
      "metadata": {
        "id": "igD59BabvjkZ"
      },
      "source": [
        "X = scaled_df.drop('target', axis = 1)\n",
        "y = scaled_df['target']"
      ],
      "execution_count": 69,
      "outputs": []
    },
    {
      "cell_type": "code",
      "metadata": {
        "id": "0ubnhn8ev-1q"
      },
      "source": [
        "# dividindo o dataset\n",
        "X_train, X_test, y_train, y_test = train_test_split(X,y,random_state=42)"
      ],
      "execution_count": 70,
      "outputs": []
    },
    {
      "cell_type": "markdown",
      "metadata": {
        "id": "MsuMuscbbUuE"
      },
      "source": [
        "## Random Forest\n"
      ]
    },
    {
      "cell_type": "code",
      "metadata": {
        "id": "mZblqNs3ZAhM"
      },
      "source": [
        "#Import Random Forest Model\n",
        "from sklearn.ensemble import RandomForestClassifier\n",
        "\n",
        "#Create a Gaussian Classifier\n",
        "clf=RandomForestClassifier(n_estimators=100)\n",
        "\n",
        "#Train the model using the training sets y_pred=clf.predict(X_test)\n",
        "clf.fit(X_train,y_train)\n",
        "\n",
        "y_pred=clf.predict(X_test)"
      ],
      "execution_count": 71,
      "outputs": []
    },
    {
      "cell_type": "code",
      "metadata": {
        "id": "yYWk25IDcnoU",
        "colab": {
          "base_uri": "https://localhost:8080/"
        },
        "outputId": "20415b26-6463-40e3-e55a-3fe92e9e48f8"
      },
      "source": [
        "#Import scikit-learn metrics module for accuracy calculation\n",
        "from sklearn import metrics\n",
        "# Model Accuracy, how often is the classifier correct?\n",
        "\n",
        "print('Acuracia: {:.2f} % '.format(metrics.accuracy_score(y_test, y_pred)*100)) "
      ],
      "execution_count": 72,
      "outputs": [
        {
          "output_type": "stream",
          "text": [
            "Acuracia: 85.53 % \n"
          ],
          "name": "stdout"
        }
      ]
    },
    {
      "cell_type": "markdown",
      "metadata": {
        "id": "w2yfkcM9eOLV"
      },
      "source": [
        "## Importancia das features"
      ]
    },
    {
      "cell_type": "code",
      "metadata": {
        "id": "T4M9ngRmc3iy",
        "colab": {
          "base_uri": "https://localhost:8080/"
        },
        "outputId": "3dd537c3-6fa2-4828-c5c2-1fe727308c5e"
      },
      "source": [
        "#Importando nosso modelo\n",
        "from sklearn.ensemble import RandomForestClassifier\n",
        "\n",
        "#Create a Gaussian Classifier\n",
        "clf=RandomForestClassifier(n_estimators=100)\n",
        "\n",
        "#Train the model using the training sets y_pred=clf.predict(X_test)\n",
        "clf.fit(X_train,y_train)"
      ],
      "execution_count": 73,
      "outputs": [
        {
          "output_type": "execute_result",
          "data": {
            "text/plain": [
              "RandomForestClassifier(bootstrap=True, ccp_alpha=0.0, class_weight=None,\n",
              "                       criterion='gini', max_depth=None, max_features='auto',\n",
              "                       max_leaf_nodes=None, max_samples=None,\n",
              "                       min_impurity_decrease=0.0, min_impurity_split=None,\n",
              "                       min_samples_leaf=1, min_samples_split=2,\n",
              "                       min_weight_fraction_leaf=0.0, n_estimators=100,\n",
              "                       n_jobs=None, oob_score=False, random_state=None,\n",
              "                       verbose=0, warm_start=False)"
            ]
          },
          "metadata": {
            "tags": []
          },
          "execution_count": 73
        }
      ]
    },
    {
      "cell_type": "code",
      "metadata": {
        "id": "7ks9LgZQdU8C",
        "colab": {
          "base_uri": "https://localhost:8080/"
        },
        "outputId": "1714eac0-5f98-4c15-ac33-813cbf880e99"
      },
      "source": [
        "df.feature_names = X.columns"
      ],
      "execution_count": 74,
      "outputs": [
        {
          "output_type": "stream",
          "text": [
            "/usr/local/lib/python3.7/dist-packages/ipykernel_launcher.py:1: UserWarning: Pandas doesn't allow columns to be created via a new attribute name - see https://pandas.pydata.org/pandas-docs/stable/indexing.html#attribute-access\n",
            "  \"\"\"Entry point for launching an IPython kernel.\n"
          ],
          "name": "stderr"
        }
      ]
    },
    {
      "cell_type": "code",
      "metadata": {
        "id": "szNTx-hKdrXa",
        "colab": {
          "base_uri": "https://localhost:8080/"
        },
        "outputId": "cbe3d112-bb1c-4c66-c51a-954f29068da4"
      },
      "source": [
        "df.feature_names"
      ],
      "execution_count": 75,
      "outputs": [
        {
          "output_type": "execute_result",
          "data": {
            "text/plain": [
              "Index(['age', 'sex', 'cp', 'trestbps', 'chol', 'fbs', 'restecg', 'thalach',\n",
              "       'exang', 'oldpeak', 'slope', 'ca', 'thal'],\n",
              "      dtype='object')"
            ]
          },
          "metadata": {
            "tags": []
          },
          "execution_count": 75
        }
      ]
    },
    {
      "cell_type": "code",
      "metadata": {
        "id": "PdIzrLNhc3la",
        "colab": {
          "base_uri": "https://localhost:8080/"
        },
        "outputId": "d568e0c9-5cd0-46f7-da5e-973c27b29214"
      },
      "source": [
        "import pandas as pd\n",
        "feature_imp = pd.Series(clf.feature_importances_,index=df.feature_names).sort_values(ascending=False)\n",
        "feature_imp"
      ],
      "execution_count": 76,
      "outputs": [
        {
          "output_type": "execute_result",
          "data": {
            "text/plain": [
              "ca          0.143590\n",
              "oldpeak     0.133046\n",
              "cp          0.124153\n",
              "thalach     0.110871\n",
              "age         0.096669\n",
              "chol        0.089185\n",
              "trestbps    0.083524\n",
              "exang       0.081618\n",
              "slope       0.054226\n",
              "sex         0.045224\n",
              "restecg     0.021196\n",
              "fbs         0.009735\n",
              "thal        0.006963\n",
              "dtype: float64"
            ]
          },
          "metadata": {
            "tags": []
          },
          "execution_count": 76
        }
      ]
    },
    {
      "cell_type": "markdown",
      "metadata": {
        "id": "DR1yf3hFwpsi"
      },
      "source": [
        "### As features mais importantes são `ca`, `cp`, `oldpeak`, `thalach` e `age`."
      ]
    },
    {
      "cell_type": "code",
      "metadata": {
        "id": "xQLLASwVw71r"
      },
      "source": [
        ""
      ],
      "execution_count": 38,
      "outputs": []
    }
  ]
}