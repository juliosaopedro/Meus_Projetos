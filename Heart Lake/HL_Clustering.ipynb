{
  "nbformat": 4,
  "nbformat_minor": 0,
  "metadata": {
    "colab": {
      "name": "HL_Clustering",
      "provenance": [],
      "collapsed_sections": [
        "OupqppAqqUc5"
      ]
    },
    "kernelspec": {
      "name": "python3",
      "display_name": "Python 3"
    }
  },
  "cells": [
    {
      "cell_type": "markdown",
      "metadata": {
        "id": "LOzNXhviss0y"
      },
      "source": [
        "## Nosso problema\n",
        "\n",
        "Fonte de dados :\n",
        "(https://archive.ics.uci.edu/ml/datasets/Heart+Disease) <br>\n",
        "5 -  Tente clusterizar os dados. Justifique sua resposta.<br>\n",
        "6 - Tente predizer a chance de ocorrer um infarto para uma segmentação de sua escolha. Qual a sua interpretação dos resultados?<br>\n",
        "6) Baseado em uma das segmentações propostas na pergunta 5, prediza qual a chance de ocorrer um infarto. Qual a sua interpretação dos resultados?"
      ]
    },
    {
      "cell_type": "markdown",
      "metadata": {
        "id": "5kREpv8Fn6fI"
      },
      "source": [
        "## O que é Clustering?\n",
        "\n",
        "\n",
        "<center><img width=\"60%\" src=\"https://i.imgur.com/S65Sk9c.jpg\"></center>\n",
        "\n",
        "\n",
        "**Clustering** é uma técnica de *Machine Learning*, pertencente à classe de Aprendizado Não-Supervisionado.\n",
        "\n",
        "Em termos simples, o que queremos fazer é agrupar conjuntos de dados semelhantes em um mesmo *Cluster*. Mas como isso acontece?\n",
        "\n",
        "O algoritmo mais usado para esse tipo de atividade, que estudaremos aqui, é o [K-Means](https://scikit-learn.org/stable/modules/generated/sklearn.cluster.KMeans.html). Esse algortimo calcula a distância dos pontos até os *Centroids*, que ficarão no centro (daí o nome) de cada Cluster.\n",
        "\n",
        "\n"
      ]
    },
    {
      "cell_type": "markdown",
      "metadata": {
        "id": "OupqppAqqUc5"
      },
      "source": [
        "## Como Saber Quantos Clusters Preciso Usar?\n",
        "\n",
        "\n",
        "<center><img width=\"40%\" src=\"https://github.com/rafaelnduarte/sigmoidal_data/blob/master/Elbow_Method.png?raw=true\"></center>\n",
        "\n",
        "É importante saber que o algoritmo não vai decidir sozinho quantos clusters usar. É nosso trabalho identificar a quantidade correta de clusters, e passar essa quantidade como parâmetro. Para identificar o melhor número de clusters para nossos dados, nós podemos utilizar, por exemplo, as seguintes métricas:\n",
        "\n",
        "* Inspeção Visual dos Dados.\n",
        "* Conhecimento pŕevio sobre os dados/objetivos e um número pré-definidos de clusters.\n",
        "* O *Elbow Method*, ou, em tradução livre, o \"Método do Cotovelo\". Esse método compara a distância média de cada ponto até o centro do cluster para diferentes números de clusters.\n",
        "\n",
        "\n"
      ]
    },
    {
      "cell_type": "markdown",
      "metadata": {
        "id": "u3w6Ogy8ECia"
      },
      "source": [
        "## Informações Importantes Sobre K-Means\n",
        "\n",
        "O algoritmo K-Means trabalha com a distância entre os pontos, o que significa que ele é altamente sensível à escala dos dados. Por isso, é muito importante que, antes mesmo de descobrir quantos clusters vamos precisar, façamos uso de uma ferramenta como `StandardScaler` ou `MinMaxScaler` para que os dados estejam todos na mesma escala.\n",
        "\n",
        "Essas duas técnicas de pré-processamento de dados nos retornam valores em uma escala que podemos usar, mas funcionam de maneiras diferentes.\n",
        "\n",
        "O `StandardScaler` transforma os dados de forma a obter média 0 e desvio padrão 1.\n",
        "\n",
        "O `MinMaxScaler` coloca todos os números em uma escala entre 0 e 1.\n",
        "\n",
        "Efetivamente, o efeito que isso faz é trazer todos os pontos para mais perto uns dos outros. A título de curiosidade, essas técnicas também ajudam a diminuir o impacto de outliers em nossos dados.\n",
        "\n",
        "## Outros Detalhes\n",
        "\n",
        "Ao inicializarmos a otimização dos nossos clusters, os *centroids* são colocados aleatoriamente nos dados, o que significa, especialmente se não tivermos o número certo de clusters, que cada vez que inicializarmos o algoritmo, teremos clusters diferentes. Veremos isso na prática no exemplo gráfico abaixo."
      ]
    },
    {
      "cell_type": "code",
      "metadata": {
        "id": "YkitE3svmKlM"
      },
      "source": [
        "# importando os pacotes necessários\n",
        "import pandas as pd\n",
        "import matplotlib.pyplot as plt\n",
        "import numpy as np\n",
        "import seaborn as sns\n",
        "sns.set()\n",
        "\n",
        "from sklearn.preprocessing import MinMaxScaler\n",
        "from sklearn.cluster import KMeans\n",
        "from mpl_toolkits.mplot3d import Axes3D\n",
        "\n",
        "from sklearn.preprocessing import StandardScaler\n",
        "\n",
        "\n",
        "# allowing all the columns to be visualized\n",
        "pd.options.display.max_columns = None\n",
        "\n",
        "# rendering all graphics straight out of the notebook\n",
        "%matplotlib inline\n",
        "\n",
        "import warnings\n",
        "warnings.simplefilter(action='ignore', category=FutureWarning)"
      ],
      "execution_count": 6,
      "outputs": []
    },
    {
      "cell_type": "code",
      "metadata": {
        "id": "k9K1rBZCQX6f",
        "colab": {
          "base_uri": "https://localhost:8080/",
          "height": 254
        },
        "outputId": "40daca0c-6e5b-4391-d384-185f4d492ac3"
      },
      "source": [
        "# importando os dados\n",
        "df = pd.read_csv('/content/heart.csv', sep=';')\n",
        "\n",
        "# verificando as dimensões\n",
        "print('Dimensões do Dataset',\n",
        "    '\\nVariáveis: ',df.shape[1], \"\\n\"\n",
        "      'Entradas: ', df.shape[0])\n",
        "\n",
        "# verificando as primeiras entradas\n",
        "df.head()"
      ],
      "execution_count": 7,
      "outputs": [
        {
          "output_type": "stream",
          "text": [
            "Dimensões do Dataset \n",
            "Variáveis:  14 \n",
            "Entradas:  303\n"
          ],
          "name": "stdout"
        },
        {
          "output_type": "execute_result",
          "data": {
            "text/html": [
              "<div>\n",
              "<style scoped>\n",
              "    .dataframe tbody tr th:only-of-type {\n",
              "        vertical-align: middle;\n",
              "    }\n",
              "\n",
              "    .dataframe tbody tr th {\n",
              "        vertical-align: top;\n",
              "    }\n",
              "\n",
              "    .dataframe thead th {\n",
              "        text-align: right;\n",
              "    }\n",
              "</style>\n",
              "<table border=\"1\" class=\"dataframe\">\n",
              "  <thead>\n",
              "    <tr style=\"text-align: right;\">\n",
              "      <th></th>\n",
              "      <th>age</th>\n",
              "      <th>sex</th>\n",
              "      <th>cp</th>\n",
              "      <th>trestbps</th>\n",
              "      <th>chol</th>\n",
              "      <th>fbs</th>\n",
              "      <th>restecg</th>\n",
              "      <th>thalach</th>\n",
              "      <th>exang</th>\n",
              "      <th>oldpeak</th>\n",
              "      <th>slope</th>\n",
              "      <th>ca</th>\n",
              "      <th>thal</th>\n",
              "      <th>target</th>\n",
              "    </tr>\n",
              "  </thead>\n",
              "  <tbody>\n",
              "    <tr>\n",
              "      <th>0</th>\n",
              "      <td>63</td>\n",
              "      <td>1</td>\n",
              "      <td>3</td>\n",
              "      <td>145</td>\n",
              "      <td>233</td>\n",
              "      <td>1</td>\n",
              "      <td>0</td>\n",
              "      <td>150</td>\n",
              "      <td>0</td>\n",
              "      <td>2.3</td>\n",
              "      <td>0</td>\n",
              "      <td>0</td>\n",
              "      <td>1</td>\n",
              "      <td>1</td>\n",
              "    </tr>\n",
              "    <tr>\n",
              "      <th>1</th>\n",
              "      <td>37</td>\n",
              "      <td>1</td>\n",
              "      <td>2</td>\n",
              "      <td>130</td>\n",
              "      <td>250</td>\n",
              "      <td>0</td>\n",
              "      <td>1</td>\n",
              "      <td>187</td>\n",
              "      <td>0</td>\n",
              "      <td>3.5</td>\n",
              "      <td>0</td>\n",
              "      <td>0</td>\n",
              "      <td>2</td>\n",
              "      <td>1</td>\n",
              "    </tr>\n",
              "    <tr>\n",
              "      <th>2</th>\n",
              "      <td>41</td>\n",
              "      <td>0</td>\n",
              "      <td>1</td>\n",
              "      <td>130</td>\n",
              "      <td>204</td>\n",
              "      <td>0</td>\n",
              "      <td>0</td>\n",
              "      <td>172</td>\n",
              "      <td>0</td>\n",
              "      <td>1.4</td>\n",
              "      <td>2</td>\n",
              "      <td>0</td>\n",
              "      <td>2</td>\n",
              "      <td>1</td>\n",
              "    </tr>\n",
              "    <tr>\n",
              "      <th>3</th>\n",
              "      <td>56</td>\n",
              "      <td>1</td>\n",
              "      <td>1</td>\n",
              "      <td>120</td>\n",
              "      <td>236</td>\n",
              "      <td>0</td>\n",
              "      <td>1</td>\n",
              "      <td>178</td>\n",
              "      <td>0</td>\n",
              "      <td>0.8</td>\n",
              "      <td>2</td>\n",
              "      <td>0</td>\n",
              "      <td>2</td>\n",
              "      <td>1</td>\n",
              "    </tr>\n",
              "    <tr>\n",
              "      <th>4</th>\n",
              "      <td>57</td>\n",
              "      <td>0</td>\n",
              "      <td>0</td>\n",
              "      <td>120</td>\n",
              "      <td>354</td>\n",
              "      <td>0</td>\n",
              "      <td>1</td>\n",
              "      <td>163</td>\n",
              "      <td>1</td>\n",
              "      <td>0.6</td>\n",
              "      <td>2</td>\n",
              "      <td>0</td>\n",
              "      <td>2</td>\n",
              "      <td>1</td>\n",
              "    </tr>\n",
              "  </tbody>\n",
              "</table>\n",
              "</div>"
            ],
            "text/plain": [
              "   age  sex  cp  trestbps  chol  fbs  restecg  thalach  exang  oldpeak  slope  \\\n",
              "0   63    1   3       145   233    1        0      150      0      2.3      0   \n",
              "1   37    1   2       130   250    0        1      187      0      3.5      0   \n",
              "2   41    0   1       130   204    0        0      172      0      1.4      2   \n",
              "3   56    1   1       120   236    0        1      178      0      0.8      2   \n",
              "4   57    0   0       120   354    0        1      163      1      0.6      2   \n",
              "\n",
              "   ca  thal  target  \n",
              "0   0     1       1  \n",
              "1   0     2       1  \n",
              "2   0     2       1  \n",
              "3   0     2       1  \n",
              "4   0     2       1  "
            ]
          },
          "metadata": {
            "tags": []
          },
          "execution_count": 7
        }
      ]
    },
    {
      "cell_type": "code",
      "metadata": {
        "id": "K0xiQg24jUE9"
      },
      "source": [
        "df_copy = df.copy()"
      ],
      "execution_count": 8,
      "outputs": []
    },
    {
      "cell_type": "code",
      "metadata": {
        "id": "F-S4xGtajYo9"
      },
      "source": [
        "df_copy = df_copy.drop('target', axis = 1 )"
      ],
      "execution_count": 9,
      "outputs": []
    },
    {
      "cell_type": "code",
      "metadata": {
        "id": "X6Gq_jbmRdtp",
        "colab": {
          "base_uri": "https://localhost:8080/",
          "height": 203
        },
        "outputId": "7b563a82-592a-4ee9-e3d9-19d4e3849c64"
      },
      "source": [
        "# colocando os dados na mesma escala\n",
        "scaler = MinMaxScaler()\n",
        "scaled = pd.DataFrame(scaler.fit_transform(df_copy))\n",
        "scaled.columns = df_copy.columns\n",
        "\n",
        "scaled.head()"
      ],
      "execution_count": 10,
      "outputs": [
        {
          "output_type": "execute_result",
          "data": {
            "text/html": [
              "<div>\n",
              "<style scoped>\n",
              "    .dataframe tbody tr th:only-of-type {\n",
              "        vertical-align: middle;\n",
              "    }\n",
              "\n",
              "    .dataframe tbody tr th {\n",
              "        vertical-align: top;\n",
              "    }\n",
              "\n",
              "    .dataframe thead th {\n",
              "        text-align: right;\n",
              "    }\n",
              "</style>\n",
              "<table border=\"1\" class=\"dataframe\">\n",
              "  <thead>\n",
              "    <tr style=\"text-align: right;\">\n",
              "      <th></th>\n",
              "      <th>age</th>\n",
              "      <th>sex</th>\n",
              "      <th>cp</th>\n",
              "      <th>trestbps</th>\n",
              "      <th>chol</th>\n",
              "      <th>fbs</th>\n",
              "      <th>restecg</th>\n",
              "      <th>thalach</th>\n",
              "      <th>exang</th>\n",
              "      <th>oldpeak</th>\n",
              "      <th>slope</th>\n",
              "      <th>ca</th>\n",
              "      <th>thal</th>\n",
              "    </tr>\n",
              "  </thead>\n",
              "  <tbody>\n",
              "    <tr>\n",
              "      <th>0</th>\n",
              "      <td>0.708333</td>\n",
              "      <td>1.0</td>\n",
              "      <td>1.000000</td>\n",
              "      <td>0.481132</td>\n",
              "      <td>0.244292</td>\n",
              "      <td>1.0</td>\n",
              "      <td>0.0</td>\n",
              "      <td>0.603053</td>\n",
              "      <td>0.0</td>\n",
              "      <td>0.370968</td>\n",
              "      <td>0.0</td>\n",
              "      <td>0.0</td>\n",
              "      <td>0.333333</td>\n",
              "    </tr>\n",
              "    <tr>\n",
              "      <th>1</th>\n",
              "      <td>0.166667</td>\n",
              "      <td>1.0</td>\n",
              "      <td>0.666667</td>\n",
              "      <td>0.339623</td>\n",
              "      <td>0.283105</td>\n",
              "      <td>0.0</td>\n",
              "      <td>0.5</td>\n",
              "      <td>0.885496</td>\n",
              "      <td>0.0</td>\n",
              "      <td>0.564516</td>\n",
              "      <td>0.0</td>\n",
              "      <td>0.0</td>\n",
              "      <td>0.666667</td>\n",
              "    </tr>\n",
              "    <tr>\n",
              "      <th>2</th>\n",
              "      <td>0.250000</td>\n",
              "      <td>0.0</td>\n",
              "      <td>0.333333</td>\n",
              "      <td>0.339623</td>\n",
              "      <td>0.178082</td>\n",
              "      <td>0.0</td>\n",
              "      <td>0.0</td>\n",
              "      <td>0.770992</td>\n",
              "      <td>0.0</td>\n",
              "      <td>0.225806</td>\n",
              "      <td>1.0</td>\n",
              "      <td>0.0</td>\n",
              "      <td>0.666667</td>\n",
              "    </tr>\n",
              "    <tr>\n",
              "      <th>3</th>\n",
              "      <td>0.562500</td>\n",
              "      <td>1.0</td>\n",
              "      <td>0.333333</td>\n",
              "      <td>0.245283</td>\n",
              "      <td>0.251142</td>\n",
              "      <td>0.0</td>\n",
              "      <td>0.5</td>\n",
              "      <td>0.816794</td>\n",
              "      <td>0.0</td>\n",
              "      <td>0.129032</td>\n",
              "      <td>1.0</td>\n",
              "      <td>0.0</td>\n",
              "      <td>0.666667</td>\n",
              "    </tr>\n",
              "    <tr>\n",
              "      <th>4</th>\n",
              "      <td>0.583333</td>\n",
              "      <td>0.0</td>\n",
              "      <td>0.000000</td>\n",
              "      <td>0.245283</td>\n",
              "      <td>0.520548</td>\n",
              "      <td>0.0</td>\n",
              "      <td>0.5</td>\n",
              "      <td>0.702290</td>\n",
              "      <td>1.0</td>\n",
              "      <td>0.096774</td>\n",
              "      <td>1.0</td>\n",
              "      <td>0.0</td>\n",
              "      <td>0.666667</td>\n",
              "    </tr>\n",
              "  </tbody>\n",
              "</table>\n",
              "</div>"
            ],
            "text/plain": [
              "        age  sex        cp  trestbps      chol  fbs  restecg   thalach  exang  \\\n",
              "0  0.708333  1.0  1.000000  0.481132  0.244292  1.0      0.0  0.603053    0.0   \n",
              "1  0.166667  1.0  0.666667  0.339623  0.283105  0.0      0.5  0.885496    0.0   \n",
              "2  0.250000  0.0  0.333333  0.339623  0.178082  0.0      0.0  0.770992    0.0   \n",
              "3  0.562500  1.0  0.333333  0.245283  0.251142  0.0      0.5  0.816794    0.0   \n",
              "4  0.583333  0.0  0.000000  0.245283  0.520548  0.0      0.5  0.702290    1.0   \n",
              "\n",
              "    oldpeak  slope   ca      thal  \n",
              "0  0.370968    0.0  0.0  0.333333  \n",
              "1  0.564516    0.0  0.0  0.666667  \n",
              "2  0.225806    1.0  0.0  0.666667  \n",
              "3  0.129032    1.0  0.0  0.666667  \n",
              "4  0.096774    1.0  0.0  0.666667  "
            ]
          },
          "metadata": {
            "tags": []
          },
          "execution_count": 10
        }
      ]
    },
    {
      "cell_type": "code",
      "metadata": {
        "id": "FPBiGyiwRXPW",
        "colab": {
          "base_uri": "https://localhost:8080/",
          "height": 627
        },
        "outputId": "ca77f8eb-4886-46bf-c01d-ffdeb992cbe6"
      },
      "source": [
        "# Dados Padronizados\n",
        "wcss = []\n",
        "for i in range(1,15):\n",
        "  # instanciando o modelo\n",
        "  kmeans = KMeans(n_clusters = i, init = 'k-means++', max_iter = 300, n_init = 10, random_state = 0)\n",
        "  # dando fit nos dados\n",
        "  kmeans.fit(scaled)\n",
        "  # salvando os resultados na lista\n",
        "  wcss.append(kmeans.inertia_)\n",
        "  \n",
        "# plotando o Elbow Method para encontrar o numero de clusters\n",
        "plt.figure(figsize=(15,10))\n",
        "plt.plot(range(1,15), wcss, 'o')\n",
        "plt.plot(range(1 , 15) , wcss , '-' , alpha = 0.5)\n",
        "plt.title('Elbow Method')\n",
        "plt.xlabel('Number of Clusters')\n",
        "plt.ylabel('WCSS')\n",
        "plt.savefig('Elbow_Method.png')\n",
        "plt.show()"
      ],
      "execution_count": 11,
      "outputs": [
        {
          "output_type": "display_data",
          "data": {
            "image/png": "[encoded data removed]",
            "text/plain": [
              "<Figure size 1080x720 with 1 Axes>"
            ]
          },
          "metadata": {
            "tags": [],
            "needs_background": "light"
          }
        }
      ]
    },
    {
      "cell_type": "markdown",
      "metadata": {
        "id": "KhW_AU7QTy4z"
      },
      "source": [
        "Vamos trabalhar com 6 Clusters.\n",
        "\n",
        "Agora vamos instanciar o modelo que vamos usar, definindo o número correto de clusters, e vamos ver como nossos dados foram separados."
      ]
    },
    {
      "cell_type": "code",
      "metadata": {
        "id": "sKE1JFoZSVi0"
      },
      "source": [
        "# instanciando o modelo\n",
        "kmeans = KMeans(n_clusters = 6, init = 'k-means++', max_iter = 300, n_init = 10, random_state = 0)\n",
        "y_kmeans = kmeans.fit_predict(scaled)"
      ],
      "execution_count": 12,
      "outputs": []
    },
    {
      "cell_type": "code",
      "metadata": {
        "id": "YZGSUU6lShzV",
        "colab": {
          "base_uri": "https://localhost:8080/",
          "height": 652
        },
        "outputId": "79fa984d-5528-4398-feaf-19eede81df06"
      },
      "source": [
        "# visualizando os clusters\n",
        "fig, ax = plt.subplots(figsize=(13,11))\n",
        "scaled = scaler.fit_transform(df)\n",
        "# definindo a figura em 3 dimensões\n",
        "ax = fig.add_subplot(111, projection='3d')\n",
        "# plotando os clusters\n",
        "plt.scatter(scaled[y_kmeans == 0,0],scaled[y_kmeans == 0,1], s= 50, c= 'red',label= 'Cluster 1')\n",
        "plt.scatter(scaled[y_kmeans == 1,0], scaled[y_kmeans == 1,1], s= 50, c= 'blue', label= 'Cluster 2')\n",
        "plt.scatter(scaled[y_kmeans == 2,0], scaled[y_kmeans == 2,1], s= 50, c= 'green', label= 'Cluster 3')\n",
        "plt.scatter(scaled[y_kmeans == 3,0], scaled[y_kmeans == 3,1], s= 50, c= 'cyan', label= 'Cluster 4')\n",
        "plt.scatter(scaled[y_kmeans == 4,0], scaled[y_kmeans == 4,1], s= 50, c= 'magenta', label= 'Cluster 5')\n",
        "plt.scatter(scaled[y_kmeans == 5,0], scaled[y_kmeans == 5,1], s= 50, c= 'gray', label= 'Cluster 6')\n",
        "\n",
        "# centroids\n",
        "plt.scatter(kmeans.cluster_centers_[:, 0], kmeans.cluster_centers_[:,1], s= 300, c= 'yellow', label= 'Centroids')\n",
        "plt.title('Clusters')\n",
        "plt.legend()\n",
        "plt.savefig('clusters.png')\n",
        "plt.show()"
      ],
      "execution_count": 13,
      "outputs": [
        {
          "output_type": "display_data",
          "data": {
            "image/png": "[encoded data removed]",
            "text/plain": [
              "<Figure size 936x792 with 2 Axes>"
            ]
          },
          "metadata": {
            "tags": [],
            "needs_background": "light"
          }
        }
      ]
    },
    {
      "cell_type": "markdown",
      "metadata": {
        "id": "jGNwFgIdmG2I"
      },
      "source": [
        "## Visualizando os Clusters"
      ]
    },
    {
      "cell_type": "code",
      "metadata": {
        "id": "RCEhUYYYUyS6",
        "colab": {
          "base_uri": "https://localhost:8080/"
        },
        "outputId": "40509fca-fb5c-4163-9986-e552733b1924"
      },
      "source": [
        "# visualizando as previsões\n",
        "y_kmeans"
      ],
      "execution_count": 14,
      "outputs": [
        {
          "output_type": "execute_result",
          "data": {
            "text/plain": [
              "array([1, 2, 5, 4, 3, 4, 5, 4, 1, 4, 4, 5, 4, 0, 1, 5, 5, 5, 4, 5, 2, 0,\n",
              "       4, 1, 0, 5, 1, 4, 1, 1, 5, 4, 4, 2, 0, 3, 1, 4, 5, 5, 5, 2, 0, 5,\n",
              "       4, 4, 4, 4, 5, 5, 5, 2, 2, 5, 5, 4, 4, 4, 4, 5, 1, 4, 2, 4, 1, 5,\n",
              "       0, 5, 4, 5, 2, 0, 4, 0, 5, 5, 1, 0, 1, 0, 4, 4, 5, 1, 5, 5, 4, 1,\n",
              "       5, 5, 1, 0, 4, 3, 5, 0, 5, 1, 4, 1, 4, 2, 5, 1, 4, 5, 1, 3, 5, 5,\n",
              "       3, 1, 5, 4, 4, 5, 2, 2, 5, 3, 5, 4, 3, 5, 5, 5, 4, 5, 5, 3, 5, 5,\n",
              "       4, 4, 5, 5, 1, 1, 0, 0, 5, 4, 5, 5, 5, 4, 5, 5, 4, 4, 4, 5, 2, 5,\n",
              "       5, 5, 4, 4, 2, 4, 2, 5, 4, 4, 4, 0, 0, 5, 2, 0, 1, 2, 2, 2, 0, 0,\n",
              "       0, 4, 0, 0, 0, 5, 5, 2, 2, 4, 0, 0, 2, 4, 3, 0, 2, 0, 2, 0, 2, 1,\n",
              "       0, 4, 4, 0, 0, 1, 5, 0, 0, 5, 2, 0, 2, 0, 2, 3, 0, 3, 5, 0, 2, 0,\n",
              "       5, 0, 1, 3, 0, 0, 2, 0, 2, 0, 4, 1, 0, 0, 2, 0, 4, 2, 0, 0, 0, 3,\n",
              "       2, 0, 0, 2, 3, 0, 4, 2, 0, 0, 1, 0, 4, 0, 0, 0, 3, 0, 3, 4, 0, 3,\n",
              "       0, 0, 3, 4, 0, 0, 4, 2, 2, 4, 0, 4, 2, 4, 1, 0, 0, 1, 1, 4, 0, 0,\n",
              "       4, 4, 0, 3, 4, 2, 3, 2, 0, 0, 3, 1, 3, 2, 1, 0, 5], dtype=int32)"
            ]
          },
          "metadata": {
            "tags": []
          },
          "execution_count": 14
        }
      ]
    },
    {
      "cell_type": "code",
      "metadata": {
        "id": "Fra-xmtDVWAz",
        "colab": {
          "base_uri": "https://localhost:8080/",
          "height": 220
        },
        "outputId": "cd9eb40a-fa0d-4685-aad0-25f8977916ce"
      },
      "source": [
        "# convertendo as previsões para um dataframe\n",
        "kmeans = pd.DataFrame(data=y_kmeans, dtype=int)\n",
        "kmeans.columns = ['cluster']\n",
        "\n",
        "# previsões como um df\n",
        "print(kmeans.shape)\n",
        "kmeans.head()"
      ],
      "execution_count": 15,
      "outputs": [
        {
          "output_type": "stream",
          "text": [
            "(303, 1)\n"
          ],
          "name": "stdout"
        },
        {
          "output_type": "execute_result",
          "data": {
            "text/html": [
              "<div>\n",
              "<style scoped>\n",
              "    .dataframe tbody tr th:only-of-type {\n",
              "        vertical-align: middle;\n",
              "    }\n",
              "\n",
              "    .dataframe tbody tr th {\n",
              "        vertical-align: top;\n",
              "    }\n",
              "\n",
              "    .dataframe thead th {\n",
              "        text-align: right;\n",
              "    }\n",
              "</style>\n",
              "<table border=\"1\" class=\"dataframe\">\n",
              "  <thead>\n",
              "    <tr style=\"text-align: right;\">\n",
              "      <th></th>\n",
              "      <th>cluster</th>\n",
              "    </tr>\n",
              "  </thead>\n",
              "  <tbody>\n",
              "    <tr>\n",
              "      <th>0</th>\n",
              "      <td>1</td>\n",
              "    </tr>\n",
              "    <tr>\n",
              "      <th>1</th>\n",
              "      <td>2</td>\n",
              "    </tr>\n",
              "    <tr>\n",
              "      <th>2</th>\n",
              "      <td>5</td>\n",
              "    </tr>\n",
              "    <tr>\n",
              "      <th>3</th>\n",
              "      <td>4</td>\n",
              "    </tr>\n",
              "    <tr>\n",
              "      <th>4</th>\n",
              "      <td>3</td>\n",
              "    </tr>\n",
              "  </tbody>\n",
              "</table>\n",
              "</div>"
            ],
            "text/plain": [
              "   cluster\n",
              "0        1\n",
              "1        2\n",
              "2        5\n",
              "3        4\n",
              "4        3"
            ]
          },
          "metadata": {
            "tags": []
          },
          "execution_count": 15
        }
      ]
    },
    {
      "cell_type": "code",
      "metadata": {
        "id": "0J10X-a7VdUD",
        "colab": {
          "base_uri": "https://localhost:8080/",
          "height": 220
        },
        "outputId": "83a4cde3-7adc-4b19-a192-f21244d7cfdb"
      },
      "source": [
        "# concatenando os clusters \n",
        "df = pd.concat([df, kmeans], axis=1)\n",
        "\n",
        "# conferindo os dataframes\n",
        "print(df.shape)\n",
        "df.head()"
      ],
      "execution_count": 16,
      "outputs": [
        {
          "output_type": "stream",
          "text": [
            "(303, 15)\n"
          ],
          "name": "stdout"
        },
        {
          "output_type": "execute_result",
          "data": {
            "text/html": [
              "<div>\n",
              "<style scoped>\n",
              "    .dataframe tbody tr th:only-of-type {\n",
              "        vertical-align: middle;\n",
              "    }\n",
              "\n",
              "    .dataframe tbody tr th {\n",
              "        vertical-align: top;\n",
              "    }\n",
              "\n",
              "    .dataframe thead th {\n",
              "        text-align: right;\n",
              "    }\n",
              "</style>\n",
              "<table border=\"1\" class=\"dataframe\">\n",
              "  <thead>\n",
              "    <tr style=\"text-align: right;\">\n",
              "      <th></th>\n",
              "      <th>age</th>\n",
              "      <th>sex</th>\n",
              "      <th>cp</th>\n",
              "      <th>trestbps</th>\n",
              "      <th>chol</th>\n",
              "      <th>fbs</th>\n",
              "      <th>restecg</th>\n",
              "      <th>thalach</th>\n",
              "      <th>exang</th>\n",
              "      <th>oldpeak</th>\n",
              "      <th>slope</th>\n",
              "      <th>ca</th>\n",
              "      <th>thal</th>\n",
              "      <th>target</th>\n",
              "      <th>cluster</th>\n",
              "    </tr>\n",
              "  </thead>\n",
              "  <tbody>\n",
              "    <tr>\n",
              "      <th>0</th>\n",
              "      <td>63</td>\n",
              "      <td>1</td>\n",
              "      <td>3</td>\n",
              "      <td>145</td>\n",
              "      <td>233</td>\n",
              "      <td>1</td>\n",
              "      <td>0</td>\n",
              "      <td>150</td>\n",
              "      <td>0</td>\n",
              "      <td>2.3</td>\n",
              "      <td>0</td>\n",
              "      <td>0</td>\n",
              "      <td>1</td>\n",
              "      <td>1</td>\n",
              "      <td>1</td>\n",
              "    </tr>\n",
              "    <tr>\n",
              "      <th>1</th>\n",
              "      <td>37</td>\n",
              "      <td>1</td>\n",
              "      <td>2</td>\n",
              "      <td>130</td>\n",
              "      <td>250</td>\n",
              "      <td>0</td>\n",
              "      <td>1</td>\n",
              "      <td>187</td>\n",
              "      <td>0</td>\n",
              "      <td>3.5</td>\n",
              "      <td>0</td>\n",
              "      <td>0</td>\n",
              "      <td>2</td>\n",
              "      <td>1</td>\n",
              "      <td>2</td>\n",
              "    </tr>\n",
              "    <tr>\n",
              "      <th>2</th>\n",
              "      <td>41</td>\n",
              "      <td>0</td>\n",
              "      <td>1</td>\n",
              "      <td>130</td>\n",
              "      <td>204</td>\n",
              "      <td>0</td>\n",
              "      <td>0</td>\n",
              "      <td>172</td>\n",
              "      <td>0</td>\n",
              "      <td>1.4</td>\n",
              "      <td>2</td>\n",
              "      <td>0</td>\n",
              "      <td>2</td>\n",
              "      <td>1</td>\n",
              "      <td>5</td>\n",
              "    </tr>\n",
              "    <tr>\n",
              "      <th>3</th>\n",
              "      <td>56</td>\n",
              "      <td>1</td>\n",
              "      <td>1</td>\n",
              "      <td>120</td>\n",
              "      <td>236</td>\n",
              "      <td>0</td>\n",
              "      <td>1</td>\n",
              "      <td>178</td>\n",
              "      <td>0</td>\n",
              "      <td>0.8</td>\n",
              "      <td>2</td>\n",
              "      <td>0</td>\n",
              "      <td>2</td>\n",
              "      <td>1</td>\n",
              "      <td>4</td>\n",
              "    </tr>\n",
              "    <tr>\n",
              "      <th>4</th>\n",
              "      <td>57</td>\n",
              "      <td>0</td>\n",
              "      <td>0</td>\n",
              "      <td>120</td>\n",
              "      <td>354</td>\n",
              "      <td>0</td>\n",
              "      <td>1</td>\n",
              "      <td>163</td>\n",
              "      <td>1</td>\n",
              "      <td>0.6</td>\n",
              "      <td>2</td>\n",
              "      <td>0</td>\n",
              "      <td>2</td>\n",
              "      <td>1</td>\n",
              "      <td>3</td>\n",
              "    </tr>\n",
              "  </tbody>\n",
              "</table>\n",
              "</div>"
            ],
            "text/plain": [
              "   age  sex  cp  trestbps  chol  fbs  restecg  thalach  exang  oldpeak  slope  \\\n",
              "0   63    1   3       145   233    1        0      150      0      2.3      0   \n",
              "1   37    1   2       130   250    0        1      187      0      3.5      0   \n",
              "2   41    0   1       130   204    0        0      172      0      1.4      2   \n",
              "3   56    1   1       120   236    0        1      178      0      0.8      2   \n",
              "4   57    0   0       120   354    0        1      163      1      0.6      2   \n",
              "\n",
              "   ca  thal  target  cluster  \n",
              "0   0     1       1        1  \n",
              "1   0     2       1        2  \n",
              "2   0     2       1        5  \n",
              "3   0     2       1        4  \n",
              "4   0     2       1        3  "
            ]
          },
          "metadata": {
            "tags": []
          },
          "execution_count": 16
        }
      ]
    },
    {
      "cell_type": "code",
      "metadata": {
        "id": "4vhXLeWMVsnI",
        "colab": {
          "base_uri": "https://localhost:8080/"
        },
        "outputId": "af55d1c8-4500-4453-b5a1-063a1e6df03d"
      },
      "source": [
        "# conferindo a quantidade de ocorrencias por cluster\n",
        "df['cluster'].value_counts()"
      ],
      "execution_count": 17,
      "outputs": [
        {
          "output_type": "execute_result",
          "data": {
            "text/plain": [
              "0    73\n",
              "5    67\n",
              "4    67\n",
              "2    41\n",
              "1    33\n",
              "3    22\n",
              "Name: cluster, dtype: int64"
            ]
          },
          "metadata": {
            "tags": []
          },
          "execution_count": 17
        }
      ]
    },
    {
      "cell_type": "code",
      "metadata": {
        "id": "ZEnXdnLuWJ7S",
        "colab": {
          "base_uri": "https://localhost:8080/",
          "height": 665
        },
        "outputId": "cf5ab5ee-8e88-40d2-a8bf-938f7f66465a"
      },
      "source": [
        "# checando os registros por cluster\n",
        "df.loc[df['cluster'] == 4][:20]"
      ],
      "execution_count": 18,
      "outputs": [
        {
          "output_type": "execute_result",
          "data": {
            "text/html": [
              "<div>\n",
              "<style scoped>\n",
              "    .dataframe tbody tr th:only-of-type {\n",
              "        vertical-align: middle;\n",
              "    }\n",
              "\n",
              "    .dataframe tbody tr th {\n",
              "        vertical-align: top;\n",
              "    }\n",
              "\n",
              "    .dataframe thead th {\n",
              "        text-align: right;\n",
              "    }\n",
              "</style>\n",
              "<table border=\"1\" class=\"dataframe\">\n",
              "  <thead>\n",
              "    <tr style=\"text-align: right;\">\n",
              "      <th></th>\n",
              "      <th>age</th>\n",
              "      <th>sex</th>\n",
              "      <th>cp</th>\n",
              "      <th>trestbps</th>\n",
              "      <th>chol</th>\n",
              "      <th>fbs</th>\n",
              "      <th>restecg</th>\n",
              "      <th>thalach</th>\n",
              "      <th>exang</th>\n",
              "      <th>oldpeak</th>\n",
              "      <th>slope</th>\n",
              "      <th>ca</th>\n",
              "      <th>thal</th>\n",
              "      <th>target</th>\n",
              "      <th>cluster</th>\n",
              "    </tr>\n",
              "  </thead>\n",
              "  <tbody>\n",
              "    <tr>\n",
              "      <th>3</th>\n",
              "      <td>56</td>\n",
              "      <td>1</td>\n",
              "      <td>1</td>\n",
              "      <td>120</td>\n",
              "      <td>236</td>\n",
              "      <td>0</td>\n",
              "      <td>1</td>\n",
              "      <td>178</td>\n",
              "      <td>0</td>\n",
              "      <td>0.8</td>\n",
              "      <td>2</td>\n",
              "      <td>0</td>\n",
              "      <td>2</td>\n",
              "      <td>1</td>\n",
              "      <td>4</td>\n",
              "    </tr>\n",
              "    <tr>\n",
              "      <th>5</th>\n",
              "      <td>57</td>\n",
              "      <td>1</td>\n",
              "      <td>0</td>\n",
              "      <td>140</td>\n",
              "      <td>192</td>\n",
              "      <td>0</td>\n",
              "      <td>1</td>\n",
              "      <td>148</td>\n",
              "      <td>0</td>\n",
              "      <td>0.4</td>\n",
              "      <td>1</td>\n",
              "      <td>0</td>\n",
              "      <td>1</td>\n",
              "      <td>1</td>\n",
              "      <td>4</td>\n",
              "    </tr>\n",
              "    <tr>\n",
              "      <th>7</th>\n",
              "      <td>44</td>\n",
              "      <td>1</td>\n",
              "      <td>1</td>\n",
              "      <td>120</td>\n",
              "      <td>263</td>\n",
              "      <td>0</td>\n",
              "      <td>1</td>\n",
              "      <td>173</td>\n",
              "      <td>0</td>\n",
              "      <td>0.0</td>\n",
              "      <td>2</td>\n",
              "      <td>0</td>\n",
              "      <td>3</td>\n",
              "      <td>1</td>\n",
              "      <td>4</td>\n",
              "    </tr>\n",
              "    <tr>\n",
              "      <th>9</th>\n",
              "      <td>57</td>\n",
              "      <td>1</td>\n",
              "      <td>2</td>\n",
              "      <td>150</td>\n",
              "      <td>168</td>\n",
              "      <td>0</td>\n",
              "      <td>1</td>\n",
              "      <td>174</td>\n",
              "      <td>0</td>\n",
              "      <td>1.6</td>\n",
              "      <td>2</td>\n",
              "      <td>0</td>\n",
              "      <td>2</td>\n",
              "      <td>1</td>\n",
              "      <td>4</td>\n",
              "    </tr>\n",
              "    <tr>\n",
              "      <th>10</th>\n",
              "      <td>54</td>\n",
              "      <td>1</td>\n",
              "      <td>0</td>\n",
              "      <td>140</td>\n",
              "      <td>239</td>\n",
              "      <td>0</td>\n",
              "      <td>1</td>\n",
              "      <td>160</td>\n",
              "      <td>0</td>\n",
              "      <td>1.2</td>\n",
              "      <td>2</td>\n",
              "      <td>0</td>\n",
              "      <td>2</td>\n",
              "      <td>1</td>\n",
              "      <td>4</td>\n",
              "    </tr>\n",
              "    <tr>\n",
              "      <th>12</th>\n",
              "      <td>49</td>\n",
              "      <td>1</td>\n",
              "      <td>1</td>\n",
              "      <td>130</td>\n",
              "      <td>266</td>\n",
              "      <td>0</td>\n",
              "      <td>1</td>\n",
              "      <td>171</td>\n",
              "      <td>0</td>\n",
              "      <td>0.6</td>\n",
              "      <td>2</td>\n",
              "      <td>0</td>\n",
              "      <td>2</td>\n",
              "      <td>1</td>\n",
              "      <td>4</td>\n",
              "    </tr>\n",
              "    <tr>\n",
              "      <th>18</th>\n",
              "      <td>43</td>\n",
              "      <td>1</td>\n",
              "      <td>0</td>\n",
              "      <td>150</td>\n",
              "      <td>247</td>\n",
              "      <td>0</td>\n",
              "      <td>1</td>\n",
              "      <td>171</td>\n",
              "      <td>0</td>\n",
              "      <td>1.5</td>\n",
              "      <td>2</td>\n",
              "      <td>0</td>\n",
              "      <td>2</td>\n",
              "      <td>1</td>\n",
              "      <td>4</td>\n",
              "    </tr>\n",
              "    <tr>\n",
              "      <th>22</th>\n",
              "      <td>42</td>\n",
              "      <td>1</td>\n",
              "      <td>0</td>\n",
              "      <td>140</td>\n",
              "      <td>226</td>\n",
              "      <td>0</td>\n",
              "      <td>1</td>\n",
              "      <td>178</td>\n",
              "      <td>0</td>\n",
              "      <td>0.0</td>\n",
              "      <td>2</td>\n",
              "      <td>0</td>\n",
              "      <td>2</td>\n",
              "      <td>1</td>\n",
              "      <td>4</td>\n",
              "    </tr>\n",
              "    <tr>\n",
              "      <th>27</th>\n",
              "      <td>51</td>\n",
              "      <td>1</td>\n",
              "      <td>2</td>\n",
              "      <td>110</td>\n",
              "      <td>175</td>\n",
              "      <td>0</td>\n",
              "      <td>1</td>\n",
              "      <td>123</td>\n",
              "      <td>0</td>\n",
              "      <td>0.6</td>\n",
              "      <td>2</td>\n",
              "      <td>0</td>\n",
              "      <td>2</td>\n",
              "      <td>1</td>\n",
              "      <td>4</td>\n",
              "    </tr>\n",
              "    <tr>\n",
              "      <th>31</th>\n",
              "      <td>65</td>\n",
              "      <td>1</td>\n",
              "      <td>0</td>\n",
              "      <td>120</td>\n",
              "      <td>177</td>\n",
              "      <td>0</td>\n",
              "      <td>1</td>\n",
              "      <td>140</td>\n",
              "      <td>0</td>\n",
              "      <td>0.4</td>\n",
              "      <td>2</td>\n",
              "      <td>0</td>\n",
              "      <td>3</td>\n",
              "      <td>1</td>\n",
              "      <td>4</td>\n",
              "    </tr>\n",
              "    <tr>\n",
              "      <th>32</th>\n",
              "      <td>44</td>\n",
              "      <td>1</td>\n",
              "      <td>1</td>\n",
              "      <td>130</td>\n",
              "      <td>219</td>\n",
              "      <td>0</td>\n",
              "      <td>0</td>\n",
              "      <td>188</td>\n",
              "      <td>0</td>\n",
              "      <td>0.0</td>\n",
              "      <td>2</td>\n",
              "      <td>0</td>\n",
              "      <td>2</td>\n",
              "      <td>1</td>\n",
              "      <td>4</td>\n",
              "    </tr>\n",
              "    <tr>\n",
              "      <th>37</th>\n",
              "      <td>54</td>\n",
              "      <td>1</td>\n",
              "      <td>2</td>\n",
              "      <td>150</td>\n",
              "      <td>232</td>\n",
              "      <td>0</td>\n",
              "      <td>0</td>\n",
              "      <td>165</td>\n",
              "      <td>0</td>\n",
              "      <td>1.6</td>\n",
              "      <td>2</td>\n",
              "      <td>0</td>\n",
              "      <td>3</td>\n",
              "      <td>1</td>\n",
              "      <td>4</td>\n",
              "    </tr>\n",
              "    <tr>\n",
              "      <th>44</th>\n",
              "      <td>39</td>\n",
              "      <td>1</td>\n",
              "      <td>2</td>\n",
              "      <td>140</td>\n",
              "      <td>321</td>\n",
              "      <td>0</td>\n",
              "      <td>0</td>\n",
              "      <td>182</td>\n",
              "      <td>0</td>\n",
              "      <td>0.0</td>\n",
              "      <td>2</td>\n",
              "      <td>0</td>\n",
              "      <td>2</td>\n",
              "      <td>1</td>\n",
              "      <td>4</td>\n",
              "    </tr>\n",
              "    <tr>\n",
              "      <th>45</th>\n",
              "      <td>52</td>\n",
              "      <td>1</td>\n",
              "      <td>1</td>\n",
              "      <td>120</td>\n",
              "      <td>325</td>\n",
              "      <td>0</td>\n",
              "      <td>1</td>\n",
              "      <td>172</td>\n",
              "      <td>0</td>\n",
              "      <td>0.2</td>\n",
              "      <td>2</td>\n",
              "      <td>0</td>\n",
              "      <td>2</td>\n",
              "      <td>1</td>\n",
              "      <td>4</td>\n",
              "    </tr>\n",
              "    <tr>\n",
              "      <th>46</th>\n",
              "      <td>44</td>\n",
              "      <td>1</td>\n",
              "      <td>2</td>\n",
              "      <td>140</td>\n",
              "      <td>235</td>\n",
              "      <td>0</td>\n",
              "      <td>0</td>\n",
              "      <td>180</td>\n",
              "      <td>0</td>\n",
              "      <td>0.0</td>\n",
              "      <td>2</td>\n",
              "      <td>0</td>\n",
              "      <td>2</td>\n",
              "      <td>1</td>\n",
              "      <td>4</td>\n",
              "    </tr>\n",
              "    <tr>\n",
              "      <th>47</th>\n",
              "      <td>47</td>\n",
              "      <td>1</td>\n",
              "      <td>2</td>\n",
              "      <td>138</td>\n",
              "      <td>257</td>\n",
              "      <td>0</td>\n",
              "      <td>0</td>\n",
              "      <td>156</td>\n",
              "      <td>0</td>\n",
              "      <td>0.0</td>\n",
              "      <td>2</td>\n",
              "      <td>0</td>\n",
              "      <td>2</td>\n",
              "      <td>1</td>\n",
              "      <td>4</td>\n",
              "    </tr>\n",
              "    <tr>\n",
              "      <th>55</th>\n",
              "      <td>52</td>\n",
              "      <td>1</td>\n",
              "      <td>1</td>\n",
              "      <td>134</td>\n",
              "      <td>201</td>\n",
              "      <td>0</td>\n",
              "      <td>1</td>\n",
              "      <td>158</td>\n",
              "      <td>0</td>\n",
              "      <td>0.8</td>\n",
              "      <td>2</td>\n",
              "      <td>1</td>\n",
              "      <td>2</td>\n",
              "      <td>1</td>\n",
              "      <td>4</td>\n",
              "    </tr>\n",
              "    <tr>\n",
              "      <th>56</th>\n",
              "      <td>48</td>\n",
              "      <td>1</td>\n",
              "      <td>0</td>\n",
              "      <td>122</td>\n",
              "      <td>222</td>\n",
              "      <td>0</td>\n",
              "      <td>0</td>\n",
              "      <td>186</td>\n",
              "      <td>0</td>\n",
              "      <td>0.0</td>\n",
              "      <td>2</td>\n",
              "      <td>0</td>\n",
              "      <td>2</td>\n",
              "      <td>1</td>\n",
              "      <td>4</td>\n",
              "    </tr>\n",
              "    <tr>\n",
              "      <th>57</th>\n",
              "      <td>45</td>\n",
              "      <td>1</td>\n",
              "      <td>0</td>\n",
              "      <td>115</td>\n",
              "      <td>260</td>\n",
              "      <td>0</td>\n",
              "      <td>0</td>\n",
              "      <td>185</td>\n",
              "      <td>0</td>\n",
              "      <td>0.0</td>\n",
              "      <td>2</td>\n",
              "      <td>0</td>\n",
              "      <td>2</td>\n",
              "      <td>1</td>\n",
              "      <td>4</td>\n",
              "    </tr>\n",
              "    <tr>\n",
              "      <th>58</th>\n",
              "      <td>34</td>\n",
              "      <td>1</td>\n",
              "      <td>3</td>\n",
              "      <td>118</td>\n",
              "      <td>182</td>\n",
              "      <td>0</td>\n",
              "      <td>0</td>\n",
              "      <td>174</td>\n",
              "      <td>0</td>\n",
              "      <td>0.0</td>\n",
              "      <td>2</td>\n",
              "      <td>0</td>\n",
              "      <td>2</td>\n",
              "      <td>1</td>\n",
              "      <td>4</td>\n",
              "    </tr>\n",
              "  </tbody>\n",
              "</table>\n",
              "</div>"
            ],
            "text/plain": [
              "    age  sex  cp  trestbps  chol  fbs  restecg  thalach  exang  oldpeak  \\\n",
              "3    56    1   1       120   236    0        1      178      0      0.8   \n",
              "5    57    1   0       140   192    0        1      148      0      0.4   \n",
              "7    44    1   1       120   263    0        1      173      0      0.0   \n",
              "9    57    1   2       150   168    0        1      174      0      1.6   \n",
              "10   54    1   0       140   239    0        1      160      0      1.2   \n",
              "12   49    1   1       130   266    0        1      171      0      0.6   \n",
              "18   43    1   0       150   247    0        1      171      0      1.5   \n",
              "22   42    1   0       140   226    0        1      178      0      0.0   \n",
              "27   51    1   2       110   175    0        1      123      0      0.6   \n",
              "31   65    1   0       120   177    0        1      140      0      0.4   \n",
              "32   44    1   1       130   219    0        0      188      0      0.0   \n",
              "37   54    1   2       150   232    0        0      165      0      1.6   \n",
              "44   39    1   2       140   321    0        0      182      0      0.0   \n",
              "45   52    1   1       120   325    0        1      172      0      0.2   \n",
              "46   44    1   2       140   235    0        0      180      0      0.0   \n",
              "47   47    1   2       138   257    0        0      156      0      0.0   \n",
              "55   52    1   1       134   201    0        1      158      0      0.8   \n",
              "56   48    1   0       122   222    0        0      186      0      0.0   \n",
              "57   45    1   0       115   260    0        0      185      0      0.0   \n",
              "58   34    1   3       118   182    0        0      174      0      0.0   \n",
              "\n",
              "    slope  ca  thal  target  cluster  \n",
              "3       2   0     2       1        4  \n",
              "5       1   0     1       1        4  \n",
              "7       2   0     3       1        4  \n",
              "9       2   0     2       1        4  \n",
              "10      2   0     2       1        4  \n",
              "12      2   0     2       1        4  \n",
              "18      2   0     2       1        4  \n",
              "22      2   0     2       1        4  \n",
              "27      2   0     2       1        4  \n",
              "31      2   0     3       1        4  \n",
              "32      2   0     2       1        4  \n",
              "37      2   0     3       1        4  \n",
              "44      2   0     2       1        4  \n",
              "45      2   0     2       1        4  \n",
              "46      2   0     2       1        4  \n",
              "47      2   0     2       1        4  \n",
              "55      2   1     2       1        4  \n",
              "56      2   0     2       1        4  \n",
              "57      2   0     2       1        4  \n",
              "58      2   0     2       1        4  "
            ]
          },
          "metadata": {
            "tags": []
          },
          "execution_count": 18
        }
      ]
    },
    {
      "cell_type": "markdown",
      "metadata": {
        "id": "lcNvA7ckpg2s"
      },
      "source": [
        "## Para o cluster 4 o percentual de possibilidade de infarto é de 71.64 %"
      ]
    },
    {
      "cell_type": "code",
      "metadata": {
        "id": "HFEuttzMW5BT",
        "colab": {
          "base_uri": "https://localhost:8080/"
        },
        "outputId": "d0e79fdb-bb01-4258-f6b4-d71c0612779a"
      },
      "source": [
        "print('Percentual de infarto no Cluster 4 : {:.2f} % '.format(df.query('cluster ==4 & target == 1').count()[0] / df.query('cluster ==4').count()[0] * 100))\n",
        "print('Percentual de náo infarto no Cluster 4 : {:.2f} % '.format(df.query('cluster ==4 & target == 0').count()[0] / df.query('cluster ==4').count()[0] * 100))"
      ],
      "execution_count": 19,
      "outputs": [
        {
          "output_type": "stream",
          "text": [
            "Percentual de infarto no Cluster 4 : 71.64 % \n",
            "Percentual de náo infarto no Cluster 4 : 28.36 % \n"
          ],
          "name": "stdout"
        }
      ]
    },
    {
      "cell_type": "markdown",
      "metadata": {
        "id": "jFZUQbZEp2By"
      },
      "source": [
        "## Para os demais Clusters o percentual de infarto segue abaixo"
      ]
    },
    {
      "cell_type": "code",
      "metadata": {
        "colab": {
          "base_uri": "https://localhost:8080/"
        },
        "id": "4Q5IreUApzIL",
        "outputId": "0fbb5e8d-7896-4c99-8b93-dba1e6cac2c9"
      },
      "source": [
        "print('Percentual de infarto no Cluster 0 : {:.2f} % '.format(df.query('cluster == 0 & target == 1').count()[0] / df.query('cluster == 0').count()[0] * 100))\n",
        "print('Percentual de náo infarto no Cluster 0 :  {:.2f} % '.format(df.query('cluster == 0  & target == 0').count()[0] / df.query('cluster == 0').count()[0] * 100))"
      ],
      "execution_count": 20,
      "outputs": [
        {
          "output_type": "stream",
          "text": [
            "Percentual de infarto no Cluster 0 : 19.18 % \n",
            "Percentual de náo infarto no Cluster 0 :  80.82 % \n"
          ],
          "name": "stdout"
        }
      ]
    },
    {
      "cell_type": "code",
      "metadata": {
        "colab": {
          "base_uri": "https://localhost:8080/"
        },
        "id": "ejE42OXlm0Ok",
        "outputId": "ca810c0d-a4b2-44ef-807a-b0556efb8d55"
      },
      "source": [
        "print('Percentual de infarto no Cluster 1 : {:.2f} % '.format( df.query('cluster == 1 & target == 1').count()[0] / df.query('cluster == 1').count()[0] * 100))\n",
        "print('Percentual de náo infarto no Cluster 1 : {:.2f} % '.format(df.query('cluster == 1  & target == 0').count()[0] / df.query('cluster == 1').count()[0] * 100))\n"
      ],
      "execution_count": 21,
      "outputs": [
        {
          "output_type": "stream",
          "text": [
            "Percentual de infarto no Cluster 1 : 66.67 % \n",
            "Percentual de náo infarto no Cluster 1 : 33.33 % \n"
          ],
          "name": "stdout"
        }
      ]
    },
    {
      "cell_type": "code",
      "metadata": {
        "colab": {
          "base_uri": "https://localhost:8080/"
        },
        "id": "CecJ9aYYm0UD",
        "outputId": "303e369b-91f5-432c-c5f9-ec9a38a943c0"
      },
      "source": [
        "print('Percentual de infarto no Cluster 2 : {:.2f} % '.format(df.query('cluster == 2 & target == 1').count()[0] / df.query('cluster == 2').count()[0] * 100))\n",
        "print('Percentual de náo infarto no Cluster 2 : {:.2f} % '.format(df.query('cluster == 2  & target == 0').count()[0] / df.query('cluster == 2').count()[0] * 100))"
      ],
      "execution_count": 22,
      "outputs": [
        {
          "output_type": "stream",
          "text": [
            "Percentual de infarto no Cluster 2 : 34.15 % \n",
            "Percentual de náo infarto no Cluster 2 : 65.85 % \n"
          ],
          "name": "stdout"
        }
      ]
    },
    {
      "cell_type": "code",
      "metadata": {
        "colab": {
          "base_uri": "https://localhost:8080/"
        },
        "id": "MClEqENrm0Xr",
        "outputId": "86007255-761b-4493-9f7c-1bd6b12ab27a"
      },
      "source": [
        "print('Percentual de infarto no Cluster 3 : {:.2f} % '.format(df.query('cluster == 3 & target == 1').count()[0] / df.query('cluster == 3').count()[0] * 100))\n",
        "print('Percentual de náo infarto no Cluster 3 : {:.2f} % '.format(df.query('cluster == 3  & target == 0').count()[0] / df.query('cluster == 3').count()[0] * 100))"
      ],
      "execution_count": 23,
      "outputs": [
        {
          "output_type": "stream",
          "text": [
            "Percentual de infarto no Cluster 3 : 36.36 % \n",
            "Percentual de náo infarto no Cluster 3 : 63.64 % \n"
          ],
          "name": "stdout"
        }
      ]
    },
    {
      "cell_type": "code",
      "metadata": {
        "colab": {
          "base_uri": "https://localhost:8080/"
        },
        "id": "vHHSEuETm0a2",
        "outputId": "107e7389-e81f-419d-93e5-7540aea8dbc2"
      },
      "source": [
        "print('Percentual de infarto no Cluster 5 : {:.2f} % '.format(df.query('cluster == 5 & target == 1').count()[0] / df.query('cluster == 5').count()[0] * 100))\n",
        "print('Percentual de náo infarto no Cluster 5 : {:.2f} % '.format(df.query('cluster == 5  & target == 0').count()[0] / df.query('cluster == 5').count()[0] * 100))"
      ],
      "execution_count": 24,
      "outputs": [
        {
          "output_type": "stream",
          "text": [
            "Percentual de infarto no Cluster 5 : 88.06 % \n",
            "Percentual de náo infarto no Cluster 5 : 11.94 % \n"
          ],
          "name": "stdout"
        }
      ]
    },
    {
      "cell_type": "code",
      "metadata": {
        "id": "v9bAo5gFzfNO"
      },
      "source": [
        ""
      ],
      "execution_count": null,
      "outputs": []
    }
  ]
}